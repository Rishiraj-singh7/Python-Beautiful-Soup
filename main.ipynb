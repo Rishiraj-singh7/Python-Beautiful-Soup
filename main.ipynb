{
 "metadata": {
  "language_info": {
   "codemirror_mode": {
    "name": "ipython",
    "version": 3
   },
   "file_extension": ".py",
   "mimetype": "text/x-python",
   "name": "python",
   "nbconvert_exporter": "python",
   "pygments_lexer": "ipython3",
   "version": "3.9.4"
  },
  "orig_nbformat": 4,
  "kernelspec": {
   "name": "python3",
   "display_name": "Python 3.9.4 64-bit"
  },
  "interpreter": {
   "hash": "cf2be2a33dd71f995549108825127f0d77f91b0b82c0bf9829b18b4885ce616c"
  }
 },
 "nbformat": 4,
 "nbformat_minor": 2,
 "cells": [
  {
   "source": [
    "Disney Dataset Creation (w/ Python BeautifulSoup)"
   ],
   "cell_type": "markdown",
   "metadata": {}
  },
  {
   "source": [
    "Scrape & clean a list of disney wikipedia pages to create a dataset to further analyze"
   ],
   "cell_type": "markdown",
   "metadata": {}
  },
  {
   "source": [
    "Task #1: Get Info Box (store in Python dictionary)"
   ],
   "cell_type": "markdown",
   "metadata": {}
  },
  {
   "source": [
    "##Import Necessary Libraries"
   ],
   "cell_type": "markdown",
   "metadata": {}
  },
  {
   "cell_type": "code",
   "execution_count": 48,
   "metadata": {},
   "outputs": [],
   "source": [
    "from bs4 import BeautifulSoup as bs\n",
    "import requests"
   ]
  },
  {
   "source": [
    "\n",
    "Load the \"webpage\""
   ],
   "cell_type": "markdown",
   "metadata": {}
  },
  {
   "cell_type": "code",
   "execution_count": 49,
   "metadata": {
    "tags": [
     "outputPrepend"
    ]
   },
   "outputs": [
    {
     "output_type": "stream",
     "name": "stdout",
     "text": [
      "age-link interwiki-fr\">\n        <a class=\"interlanguage-link-target\" href=\"https://fr.wikipedia.org/wiki/Toy_Story_3\" hreflang=\"fr\" lang=\"fr\" title=\"Toy Story 3 – French\">\n         Français\n        </a>\n       </li>\n       <li class=\"interlanguage-link interwiki-gl\">\n        <a class=\"interlanguage-link-target\" href=\"https://gl.wikipedia.org/wiki/Toy_Story_3\" hreflang=\"gl\" lang=\"gl\" title=\"Toy Story 3 – Galician\">\n         Galego\n        </a>\n       </li>\n       <li class=\"interlanguage-link interwiki-ko\">\n        <a class=\"interlanguage-link-target\" href=\"https://ko.wikipedia.org/wiki/%ED%86%A0%EC%9D%B4_%EC%8A%A4%ED%86%A0%EB%A6%AC_3\" hreflang=\"ko\" lang=\"ko\" title=\"토이 스토리 3 – Korean\">\n         한국어\n        </a>\n       </li>\n       <li class=\"interlanguage-link interwiki-hi\">\n        <a class=\"interlanguage-link-target\" href=\"https://hi.wikipedia.org/wiki/%E0%A4%9F%E0%A5%89%E0%A4%AF_%E0%A4%B8%E0%A5%8D%E0%A4%9F%E0%A5%8B%E0%A4%B0%E0%A5%80_3\" hreflang=\"hi\" lang=\"hi\" title=\"टॉय स्टोरी 3 – Hindi\">\n         हिन्दी\n        </a>\n       </li>\n       <li class=\"interlanguage-link interwiki-hr\">\n        <a class=\"interlanguage-link-target\" href=\"https://hr.wikipedia.org/wiki/Pri%C4%8Da_o_igra%C4%8Dkama_3\" hreflang=\"hr\" lang=\"hr\" title=\"Priča o igračkama 3 – Croatian\">\n         Hrvatski\n        </a>\n       </li>\n       <li class=\"interlanguage-link interwiki-id\">\n        <a class=\"interlanguage-link-target\" href=\"https://id.wikipedia.org/wiki/Toy_Story_3\" hreflang=\"id\" lang=\"id\" title=\"Toy Story 3 – Indonesian\">\n         Bahasa Indonesia\n        </a>\n       </li>\n       <li class=\"interlanguage-link interwiki-ia\">\n        <a class=\"interlanguage-link-target\" href=\"https://ia.wikipedia.org/wiki/Toy_Story_3\" hreflang=\"ia\" lang=\"ia\" title=\"Toy Story 3 – Interlingua\">\n         Interlingua\n        </a>\n       </li>\n       <li class=\"interlanguage-link interwiki-zu\">\n        <a class=\"interlanguage-link-target\" href=\"https://zu.wikipedia.org/wiki/Indaba_Yesithathu_Yamathoyizi\" hreflang=\"zu\" lang=\"zu\" title=\"Indaba Yesithathu Yamathoyizi – Zulu\">\n         IsiZulu\n        </a>\n       </li>\n       <li class=\"interlanguage-link interwiki-is\">\n        <a class=\"interlanguage-link-target\" href=\"https://is.wikipedia.org/wiki/Leikfangasaga_3\" hreflang=\"is\" lang=\"is\" title=\"Leikfangasaga 3 – Icelandic\">\n         Íslenska\n        </a>\n       </li>\n       <li class=\"interlanguage-link interwiki-it badge-Q17437796 badge-featuredarticle\" title=\"featured article badge\">\n        <a class=\"interlanguage-link-target\" href=\"https://it.wikipedia.org/wiki/Toy_Story_3_-_La_grande_fuga\" hreflang=\"it\" lang=\"it\" title=\"Toy Story 3 - La grande fuga – Italian\">\n         Italiano\n        </a>\n       </li>\n       <li class=\"interlanguage-link interwiki-he\">\n        <a class=\"interlanguage-link-target\" href=\"https://he.wikipedia.org/wiki/%D7%A6%D7%A2%D7%A6%D7%95%D7%A2_%D7%A9%D7%9C_%D7%A1%D7%99%D7%A4%D7%95%D7%A8_3\" hreflang=\"he\" lang=\"he\" title=\"צעצוע של סיפור 3 – Hebrew\">\n         עברית\n        </a>\n       </li>\n       <li class=\"interlanguage-link interwiki-jv\">\n        <a class=\"interlanguage-link-target\" href=\"https://jv.wikipedia.org/wiki/Toy_Story_3\" hreflang=\"jv\" lang=\"jv\" title=\"Toy Story 3 – Javanese\">\n         Jawa\n        </a>\n       </li>\n       <li class=\"interlanguage-link interwiki-ka\">\n        <a class=\"interlanguage-link-target\" href=\"https://ka.wikipedia.org/wiki/%E1%83%A1%E1%83%90%E1%83%97%E1%83%90%E1%83%9B%E1%83%90%E1%83%A8%E1%83%9D%E1%83%94%E1%83%91%E1%83%98%E1%83%A1_%E1%83%98%E1%83%A1%E1%83%A2%E1%83%9D%E1%83%A0%E1%83%98%E1%83%90_3\" hreflang=\"ka\" lang=\"ka\" title=\"სათამაშოების ისტორია 3 – Georgian\">\n         ქართული\n        </a>\n       </li>\n       <li class=\"interlanguage-link interwiki-kw\">\n        <a class=\"interlanguage-link-target\" href=\"https://kw.wikipedia.org/wiki/Toy_Story_3\" hreflang=\"kw\" lang=\"kw\" title=\"Toy Story 3 – Cornish\">\n         Kernowek\n        </a>\n       </li>\n       <li class=\"interlanguage-link interwiki-ky\">\n        <a class=\"interlanguage-link-target\" href=\"https://ky.wikipedia.org/wiki/%D0%9E%D1%8E%D0%BD%D1%87%D1%83%D0%BA_%D0%BE%D0%BA%D1%83%D1%8F%D1%81%D1%8B_3\" hreflang=\"ky\" lang=\"ky\" title=\"Оюнчук окуясы 3 – Kyrgyz\">\n         Кыргызча\n        </a>\n       </li>\n       <li class=\"interlanguage-link interwiki-la\">\n        <a class=\"interlanguage-link-target\" href=\"https://la.wikipedia.org/wiki/Toy_Story_3\" hreflang=\"la\" lang=\"la\" title=\"Toy Story 3 – Latin\">\n         Latina\n        </a>\n       </li>\n       <li class=\"interlanguage-link interwiki-lv\">\n        <a class=\"interlanguage-link-target\" href=\"https://lv.wikipedia.org/wiki/Rota%C4%BClietu_st%C4%81sts_3\" hreflang=\"lv\" lang=\"lv\" title=\"Rotaļlietu stāsts 3 – Latvian\">\n         Latviešu\n        </a>\n       </li>\n       <li class=\"interlanguage-link interwiki-lt\">\n        <a class=\"interlanguage-link-target\" href=\"https://lt.wikipedia.org/wiki/%C5%BDaisl%C5%B3_istorija_3\" hreflang=\"lt\" lang=\"lt\" title=\"Žaislų istorija 3 – Lithuanian\">\n         Lietuvių\n        </a>\n       </li>\n       <li class=\"interlanguage-link interwiki-hu\">\n        <a class=\"interlanguage-link-target\" href=\"https://hu.wikipedia.org/wiki/Toy_Story_3.\" hreflang=\"hu\" lang=\"hu\" title=\"Toy Story 3. – Hungarian\">\n         Magyar\n        </a>\n       </li>\n       <li class=\"interlanguage-link interwiki-ml\">\n        <a class=\"interlanguage-link-target\" href=\"https://ml.wikipedia.org/wiki/%E0%B4%9F%E0%B5%8B%E0%B4%AF%E0%B5%8D_%E0%B4%B8%E0%B5%8D%E0%B4%B1%E0%B5%8D%E0%B4%B1%E0%B5%8B%E0%B4%B1%E0%B4%BF_3\" hreflang=\"ml\" lang=\"ml\" title=\"ടോയ് സ്റ്റോറി 3 – Malayalam\">\n         മലയാളം\n        </a>\n       </li>\n       <li class=\"interlanguage-link interwiki-arz\">\n        <a class=\"interlanguage-link-target\" href=\"https://arz.wikipedia.org/wiki/%D9%82%D8%B5%D9%87_%D9%84%D8%B9%D8%A8%D9%87_3_(%D9%81%D9%8A%D9%84%D9%85_2010)\" hreflang=\"arz\" lang=\"arz\" title=\"قصه لعبه 3 (فيلم 2010) – Egyptian Arabic\">\n         مصرى\n        </a>\n       </li>\n       <li class=\"interlanguage-link interwiki-ms\">\n        <a class=\"interlanguage-link-target\" href=\"https://ms.wikipedia.org/wiki/Toy_Story_3\" hreflang=\"ms\" lang=\"ms\" title=\"Toy Story 3 – Malay\">\n         Bahasa Melayu\n        </a>\n       </li>\n       <li class=\"interlanguage-link interwiki-nl\">\n        <a class=\"interlanguage-link-target\" href=\"https://nl.wikipedia.org/wiki/Toy_Story_3\" hreflang=\"nl\" lang=\"nl\" title=\"Toy Story 3 – Dutch\">\n         Nederlands\n        </a>\n       </li>\n       <li class=\"interlanguage-link interwiki-ja\">\n        <a class=\"interlanguage-link-target\" href=\"https://ja.wikipedia.org/wiki/%E3%83%88%E3%82%A4%E3%83%BB%E3%82%B9%E3%83%88%E3%83%BC%E3%83%AA%E3%83%BC3\" hreflang=\"ja\" lang=\"ja\" title=\"トイ・ストーリー3 – Japanese\">\n         日本語\n        </a>\n       </li>\n       <li class=\"interlanguage-link interwiki-no\">\n        <a class=\"interlanguage-link-target\" href=\"https://no.wikipedia.org/wiki/Toy_Story_3\" hreflang=\"nb\" lang=\"nb\" title=\"Toy Story 3 – Norwegian Bokmål\">\n         Norsk bokmål\n        </a>\n       </li>\n       <li class=\"interlanguage-link interwiki-nn\">\n        <a class=\"interlanguage-link-target\" href=\"https://nn.wikipedia.org/wiki/Toy_Story_3\" hreflang=\"nn\" lang=\"nn\" title=\"Toy Story 3 – Norwegian Nynorsk\">\n         Norsk nynorsk\n        </a>\n       </li>\n       <li class=\"interlanguage-link interwiki-uz\">\n        <a class=\"interlanguage-link-target\" href=\"https://uz.wikipedia.org/wiki/O%CA%BByinchoqlar_tarixi_3\" hreflang=\"uz\" lang=\"uz\" title=\"Oʻyinchoqlar tarixi 3 – Uzbek\">\n         Oʻzbekcha/ўзбекча\n        </a>\n       </li>\n       <li class=\"interlanguage-link interwiki-pl\">\n        <a class=\"interlanguage-link-target\" href=\"https://pl.wikipedia.org/wiki/Toy_Story_3\" hreflang=\"pl\" lang=\"pl\" title=\"Toy Story 3 – Polish\">\n         Polski\n        </a>\n       </li>\n       <li class=\"interlanguage-link interwiki-pt badge-Q17437796 badge-featuredarticle\" title=\"featured article badge\">\n        <a class=\"interlanguage-link-target\" href=\"https://pt.wikipedia.org/wiki/Toy_Story_3\" hreflang=\"pt\" lang=\"pt\" title=\"Toy Story 3 – Portuguese\">\n         Português\n        </a>\n       </li>\n       <li class=\"interlanguage-link interwiki-ro\">\n        <a class=\"interlanguage-link-target\" href=\"https://ro.wikipedia.org/wiki/Povestea_juc%C4%83riilor_3\" hreflang=\"ro\" lang=\"ro\" title=\"Povestea jucăriilor 3 – Romanian\">\n         Română\n        </a>\n       </li>\n       <li class=\"interlanguage-link interwiki-qu\">\n        <a class=\"interlanguage-link-target\" href=\"https://qu.wikipedia.org/wiki/Pukllanamanta_Willakuy_3\" hreflang=\"qu\" lang=\"qu\" title=\"Pukllanamanta Willakuy 3 – Quechua\">\n         Runa Simi\n        </a>\n       </li>\n       <li class=\"interlanguage-link interwiki-ru\">\n        <a class=\"interlanguage-link-target\" href=\"https://ru.wikipedia.org/wiki/%D0%98%D1%81%D1%82%D0%BE%D1%80%D0%B8%D1%8F_%D0%B8%D0%B3%D1%80%D1%83%D1%88%D0%B5%D0%BA:_%D0%91%D0%BE%D0%BB%D1%8C%D1%88%D0%BE%D0%B9_%D0%BF%D0%BE%D0%B1%D0%B5%D0%B3\" hreflang=\"ru\" lang=\"ru\" title=\"История игрушек: Большой побег – Russian\">\n         Русский\n        </a>\n       </li>\n       <li class=\"interlanguage-link interwiki-sco\">\n        <a class=\"interlanguage-link-target\" href=\"https://sco.wikipedia.org/wiki/Toy_Story_3\" hreflang=\"sco\" lang=\"sco\" title=\"Toy Story 3 – Scots\">\n         Scots\n        </a>\n       </li>\n       <li class=\"interlanguage-link interwiki-simple\">\n        <a class=\"interlanguage-link-target\" href=\"https://simple.wikipedia.org/wiki/Toy_Story_3\" hreflang=\"en-simple\" lang=\"en-simple\" title=\"Toy Story 3 – Simple English\">\n         Simple English\n        </a>\n       </li>\n       <li class=\"interlanguage-link interwiki-sk\">\n        <a class=\"interlanguage-link-target\" href=\"https://sk.wikipedia.org/wiki/Toy_Story_3:_Pr%C3%ADbeh_hra%C4%8Diek\" hreflang=\"sk\" lang=\"sk\" title=\"Toy Story 3: Príbeh hračiek – Slovak\">\n         Slovenčina\n        </a>\n       </li>\n       <li class=\"interlanguage-link interwiki-sr\">\n        <a class=\"interlanguage-link-target\" href=\"https://sr.wikipedia.org/wiki/%D0%9F%D1%80%D0%B8%D1%87%D0%B0_%D0%BE_%D0%B8%D0%B3%D1%80%D0%B0%D1%87%D0%BA%D0%B0%D0%BC%D0%B0_3\" hreflang=\"sr\" lang=\"sr\" title=\"Прича о играчкама 3 – Serbian\">\n         Српски / srpski\n        </a>\n       </li>\n       <li class=\"interlanguage-link interwiki-fi\">\n        <a class=\"interlanguage-link-target\" href=\"https://fi.wikipedia.org/wiki/Toy_Story_3\" hreflang=\"fi\" lang=\"fi\" title=\"Toy Story 3 – Finnish\">\n         Suomi\n        </a>\n       </li>\n       <li class=\"interlanguage-link interwiki-sv\">\n        <a class=\"interlanguage-link-target\" href=\"https://sv.wikipedia.org/wiki/Toy_Story_3\" hreflang=\"sv\" lang=\"sv\" title=\"Toy Story 3 – Swedish\">\n         Svenska\n        </a>\n       </li>\n       <li class=\"interlanguage-link interwiki-ta\">\n        <a class=\"interlanguage-link-target\" href=\"https://ta.wikipedia.org/wiki/%E0%AE%9F%E0%AE%BE%E0%AE%AF%E0%AF%8D_%E0%AE%B8%E0%AF%8D%E0%AE%9F%E0%AF%8B%E0%AE%B0%E0%AE%BF_3_(%E0%AE%A4%E0%AE%BF%E0%AE%B0%E0%AF%88%E0%AE%AA%E0%AF%8D%E0%AE%AA%E0%AE%9F%E0%AE%AE%E0%AF%8D)\" hreflang=\"ta\" lang=\"ta\" title=\"டாய் ஸ்டோரி 3 (திரைப்படம்) – Tamil\">\n         தமிழ்\n        </a>\n       </li>\n       <li class=\"interlanguage-link interwiki-th\">\n        <a class=\"interlanguage-link-target\" href=\"https://th.wikipedia.org/wiki/%E0%B8%97%E0%B8%AD%E0%B8%A2_%E0%B8%AA%E0%B8%95%E0%B8%AD%E0%B8%A3%E0%B8%B5%E0%B9%88_3\" hreflang=\"th\" lang=\"th\" title=\"ทอย สตอรี่ 3 – Thai\">\n         ไทย\n        </a>\n       </li>\n       <li class=\"interlanguage-link interwiki-tr\">\n        <a class=\"interlanguage-link-target\" href=\"https://tr.wikipedia.org/wiki/Oyuncak_Hik%C3%A2yesi_3\" hreflang=\"tr\" lang=\"tr\" title=\"Oyuncak Hikâyesi 3 – Turkish\">\n         Türkçe\n        </a>\n       </li>\n       <li class=\"interlanguage-link interwiki-uk\">\n        <a class=\"interlanguage-link-target\" href=\"https://uk.wikipedia.org/wiki/%D0%86%D1%81%D1%82%D0%BE%D1%80%D1%96%D1%8F_%D1%96%D0%B3%D1%80%D0%B0%D1%88%D0%BE%D0%BA_3\" hreflang=\"uk\" lang=\"uk\" title=\"Історія іграшок 3 – Ukrainian\">\n         Українська\n        </a>\n       </li>\n       <li class=\"interlanguage-link interwiki-vi\">\n        <a class=\"interlanguage-link-target\" href=\"https://vi.wikipedia.org/wiki/C%C3%A2u_chuy%E1%BB%87n_%C4%91%E1%BB%93_ch%C6%A1i_3\" hreflang=\"vi\" lang=\"vi\" title=\"Câu chuyện đồ chơi 3 – Vietnamese\">\n         Tiếng Việt\n        </a>\n       </li>\n       <li class=\"interlanguage-link interwiki-wuu\">\n        <a class=\"interlanguage-link-target\" href=\"https://wuu.wikipedia.org/wiki/%E7%8E%A9%E5%85%B7%E6%80%BB%E5%8A%A8%E5%91%983\" hreflang=\"wuu\" lang=\"wuu\" title=\"玩具总动员3 – Wu Chinese\">\n         吴语\n        </a>\n       </li>\n       <li class=\"interlanguage-link interwiki-yi\">\n        <a class=\"interlanguage-link-target\" href=\"https://yi.wikipedia.org/wiki/%D7%A6%D7%90%D7%A6%D7%A7%D7%A2_%D7%9E%D7%A2%D7%A9%D7%94_3\" hreflang=\"yi\" lang=\"yi\" title=\"צאצקע מעשה 3 – Yiddish\">\n         ייִדיש\n        </a>\n       </li>\n       <li class=\"interlanguage-link interwiki-zh-yue\">\n        <a class=\"interlanguage-link-target\" href=\"https://zh-yue.wikipedia.org/wiki/%E5%8F%8D%E6%96%97%E5%A5%87%E5%85%B53\" hreflang=\"yue\" lang=\"yue\" title=\"反斗奇兵3 – Cantonese\">\n         粵語\n        </a>\n       </li>\n       <li class=\"interlanguage-link interwiki-diq\">\n        <a class=\"interlanguage-link-target\" href=\"https://diq.wikipedia.org/wiki/Toy_Story_3\" hreflang=\"diq\" lang=\"diq\" title=\"Toy Story 3 – Zazaki\">\n         Zazaki\n        </a>\n       </li>\n       <li class=\"interlanguage-link interwiki-zh\">\n        <a class=\"interlanguage-link-target\" href=\"https://zh.wikipedia.org/wiki/%E7%8E%A9%E5%85%B7%E7%B8%BD%E5%8B%95%E5%93%A13\" hreflang=\"zh\" lang=\"zh\" title=\"玩具總動員3 – Chinese\">\n         中文\n        </a>\n       </li>\n      </ul>\n      <div class=\"after-portlet after-portlet-lang\">\n       <span class=\"wb-langlinks-edit wb-langlinks-link\">\n        <a class=\"wbc-editpage\" href=\"https://www.wikidata.org/wiki/Special:EntityPage/Q187278#sitelinks-wikipedia\" title=\"Edit interlanguage links\">\n         Edit links\n        </a>\n       </span>\n      </div>\n     </div>\n    </nav>\n   </div>\n  </div>\n  <footer class=\"mw-footer\" id=\"footer\" role=\"contentinfo\">\n   <ul id=\"footer-info\">\n    <li id=\"footer-info-lastmod\">\n     This page was last edited on 16 June 2021, at 16:48\n     <span class=\"anonymous-show\">\n      (UTC)\n     </span>\n     .\n    </li>\n    <li id=\"footer-info-copyright\">\n     Text is available under the\n     <a href=\"//en.wikipedia.org/wiki/Wikipedia:Text_of_Creative_Commons_Attribution-ShareAlike_3.0_Unported_License\" rel=\"license\">\n      Creative Commons Attribution-ShareAlike License\n     </a>\n     <a href=\"//creativecommons.org/licenses/by-sa/3.0/\" rel=\"license\" style=\"display:none;\">\n     </a>\n     ;\nadditional terms may apply.  By using this site, you agree to the\n     <a href=\"//foundation.wikimedia.org/wiki/Terms_of_Use\">\n      Terms of Use\n     </a>\n     and\n     <a href=\"//foundation.wikimedia.org/wiki/Privacy_policy\">\n      Privacy Policy\n     </a>\n     . Wikipedia® is a registered trademark of the\n     <a href=\"//www.wikimediafoundation.org/\">\n      Wikimedia Foundation, Inc.\n     </a>\n     , a non-profit organization.\n    </li>\n   </ul>\n   <ul id=\"footer-places\">\n    <li id=\"footer-places-privacy\">\n     <a class=\"extiw\" href=\"https://foundation.wikimedia.org/wiki/Privacy_policy\" title=\"wmf:Privacy policy\">\n      Privacy policy\n     </a>\n    </li>\n    <li id=\"footer-places-about\">\n     <a href=\"/wiki/Wikipedia:About\" title=\"Wikipedia:About\">\n      About Wikipedia\n     </a>\n    </li>\n    <li id=\"footer-places-disclaimer\">\n     <a href=\"/wiki/Wikipedia:General_disclaimer\" title=\"Wikipedia:General disclaimer\">\n      Disclaimers\n     </a>\n    </li>\n    <li id=\"footer-places-contact\">\n     <a href=\"//en.wikipedia.org/wiki/Wikipedia:Contact_us\">\n      Contact Wikipedia\n     </a>\n    </li>\n    <li id=\"footer-places-mobileview\">\n     <a class=\"noprint stopMobileRedirectToggle\" href=\"//en.m.wikipedia.org/w/index.php?title=Toy_Story_3&amp;mobileaction=toggle_view_mobile\">\n      Mobile view\n     </a>\n    </li>\n    <li id=\"footer-places-developers\">\n     <a href=\"https://www.mediawiki.org/wiki/Special:MyLanguage/How_to_contribute\">\n      Developers\n     </a>\n    </li>\n    <li id=\"footer-places-statslink\">\n     <a href=\"https://stats.wikimedia.org/#/en.wikipedia.org\">\n      Statistics\n     </a>\n    </li>\n    <li id=\"footer-places-cookiestatement\">\n     <a href=\"https://foundation.wikimedia.org/wiki/Cookie_statement\">\n      Cookie statement\n     </a>\n    </li>\n   </ul>\n   <ul class=\"noprint\" id=\"footer-icons\">\n    <li id=\"footer-copyrightico\">\n     <a href=\"https://wikimediafoundation.org/\">\n      <img alt=\"Wikimedia Foundation\" height=\"31\" loading=\"lazy\" src=\"/static/images/footer/wikimedia-button.png\" srcset=\"/static/images/footer/wikimedia-button-1.5x.png 1.5x, /static/images/footer/wikimedia-button-2x.png 2x\" width=\"88\"/>\n     </a>\n    </li>\n    <li id=\"footer-poweredbyico\">\n     <a href=\"https://www.mediawiki.org/\">\n      <img alt=\"Powered by MediaWiki\" height=\"31\" loading=\"lazy\" src=\"/static/images/footer/poweredby_mediawiki_88x31.png\" srcset=\"/static/images/footer/poweredby_mediawiki_132x47.png 1.5x, /static/images/footer/poweredby_mediawiki_176x62.png 2x\" width=\"88\"/>\n     </a>\n    </li>\n   </ul>\n  </footer>\n  <script>\n   (RLQ=window.RLQ||[]).push(function(){mw.config.set({\"wgPageParseReport\":{\"limitreport\":{\"cputime\":\"2.689\",\"walltime\":\"3.151\",\"ppvisitednodes\":{\"value\":14267,\"limit\":1000000},\"postexpandincludesize\":{\"value\":923507,\"limit\":2097152},\"templateargumentsize\":{\"value\":223234,\"limit\":2097152},\"expansiondepth\":{\"value\":24,\"limit\":40},\"expensivefunctioncount\":{\"value\":15,\"limit\":500},\"unstrip-depth\":{\"value\":1,\"limit\":20},\"unstrip-size\":{\"value\":579874,\"limit\":5000000},\"entityaccesscount\":{\"value\":1,\"limit\":400},\"timingprofile\":[\"100.00% 2514.688      1 -total\",\" 42.49% 1068.403      1 Template:Reflist\",\" 20.34%  511.459    112 Template:Cite_web\",\" 13.88%  348.990     52 Template:Cite_news\",\" 13.16%  330.824      2 Template:Navboxes\",\"  7.19%  180.901      4 Template:Infobox\",\"  6.93%  174.323     33 Template:Navbox\",\"  6.13%  154.138      1 Template:Albumchart\",\"  4.60%  115.672      1 Template:Infobox_film\",\"  4.12%  103.640      1 Template:Infobox_album\"]},\"scribunto\":{\"limitreport-timeusage\":{\"value\":\"1.248\",\"limit\":\"10.000\"},\"limitreport-memusage\":{\"value\":10381306,\"limit\":52428800},\"limitreport-profile\":[[\"?\",\"280\",\"18.9\"],[\"Scribunto_LuaSandboxCallback::callParserFunction\",\"160\",\"10.8\"],[\"recursiveClone \\u003CmwInit.lua:41\\u003E\",\"140\",\"9.5\"],[\"Scribunto_LuaSandboxCallback::getExpandedArgument\",\"140\",\"9.5\"],[\"Scribunto_LuaSandboxCallback::gsub\",\"120\",\"8.1\"],[\"citation0 \\u003CModule:Citation/CS1:2400\\u003E\",\"80\",\"5.4\"],[\"Scribunto_LuaSandboxCallback::match\",\"80\",\"5.4\"],[\"Scribunto_LuaSandboxCallback::fetchLanguageNames\",\"40\",\"2.7\"],[\"\\u003CModule:Citation/CS1:829\\u003E\",\"40\",\"2.7\"],[\"init \\u003CModule:Citation/CS1/Date_validation\\u003E\",\"40\",\"2.7\"],[\"[others]\",\"360\",\"24.3\"]]},\"cachereport\":{\"origin\":\"mw1349\",\"timestamp\":\"20210618044203\",\"ttl\":3600,\"transientcontent\":true}}});});\n  </script>\n  <script type=\"application/ld+json\">\n   {\"@context\":\"https:\\/\\/schema.org\",\"@type\":\"Article\",\"name\":\"Toy Story 3\",\"url\":\"https:\\/\\/en.wikipedia.org\\/wiki\\/Toy_Story_3\",\"sameAs\":\"http:\\/\\/www.wikidata.org\\/entity\\/Q187278\",\"mainEntity\":\"http:\\/\\/www.wikidata.org\\/entity\\/Q187278\",\"author\":{\"@type\":\"Organization\",\"name\":\"Contributors to Wikimedia projects\"},\"publisher\":{\"@type\":\"Organization\",\"name\":\"Wikimedia Foundation, Inc.\",\"logo\":{\"@type\":\"ImageObject\",\"url\":\"https:\\/\\/www.wikimedia.org\\/static\\/images\\/wmf-hor-googpub.png\"}},\"datePublished\":\"2004-11-27T03:49:41Z\",\"dateModified\":\"2021-06-16T16:48:08Z\",\"image\":\"https:\\/\\/upload.wikimedia.org\\/wikipedia\\/en\\/6\\/69\\/Toy_Story_3_poster.jpg\",\"headline\":\"2010 American animated film directed by Lee Unkrich\"}\n  </script>\n  <script>\n   (RLQ=window.RLQ||[]).push(function(){mw.config.set({\"wgBackendResponseTime\":149,\"wgHostname\":\"mw1368\"});});\n  </script>\n </body>\n</html>\n"
     ]
    }
   ],
   "source": [
    "\n",
    "r = requests.get(\"https://en.wikipedia.org/wiki/Toy_Story_3\")\n",
    "\n",
    "# Convert to a beautiful soup object\n",
    "soup = bs(r.content)\n",
    "\n",
    "# Print out the HTML\n",
    "contents = soup.prettify()\n",
    "print(contents)"
   ]
  },
  {
   "cell_type": "code",
   "execution_count": 50,
   "metadata": {},
   "outputs": [
    {
     "output_type": "stream",
     "name": "stdout",
     "text": [
      "<tr>\n <th class=\"infobox-above summary\" colspan=\"2\" style=\"font-size:110%;font-style:italic;\">\n  Toy Story 3\n </th>\n</tr>\n\n<tr>\n <td class=\"infobox-image\" colspan=\"2\">\n  <a class=\"image\" href=\"/wiki/File:Toy_Story_3_poster.jpg\" title=\"All of the toys packed close together, holding up a large numeral '3', with Buzz, who is putting a friendly arm around Woody's shoulder, and Woody holding the top of the 3.\">\n   <img alt=\"All of the toys packed close together, holding up a large numeral '3', with Buzz, who is putting a friendly arm around Woody's shoulder, and Woody holding the top of the 3.\" class=\"thumbborder\" data-file-height=\"326\" data-file-width=\"220\" decoding=\"async\" height=\"326\" src=\"//upload.wikimedia.org/wikipedia/en/6/69/Toy_Story_3_poster.jpg\" width=\"220\"/>\n  </a>\n  <div class=\"infobox-caption\" style=\"font-size:95%;padding:0.35em 0.35em 0.25em;line-height:1.25em;\">\n   Theatrical release poster\n  </div>\n </td>\n</tr>\n\n<tr>\n <th class=\"infobox-label\" scope=\"row\" style=\"white-space:nowrap;padding-right:0.65em;\">\n  Directed by\n </th>\n <td class=\"infobox-data\">\n  <a href=\"/wiki/Lee_Unkrich\" title=\"Lee Unkrich\">\n   Lee Unkrich\n  </a>\n </td>\n</tr>\n\n<tr>\n <th class=\"infobox-label\" scope=\"row\" style=\"white-space:nowrap;padding-right:0.65em;\">\n  Produced by\n </th>\n <td class=\"infobox-data\">\n  <a href=\"/wiki/Darla_K._Anderson\" title=\"Darla K. Anderson\">\n   Darla K. Anderson\n  </a>\n </td>\n</tr>\n\n<tr>\n <th class=\"infobox-label\" scope=\"row\" style=\"white-space:nowrap;padding-right:0.65em;\">\n  Screenplay by\n </th>\n <td class=\"infobox-data\">\n  <a href=\"/wiki/Michael_Arndt\" title=\"Michael Arndt\">\n   Michael Arndt\n  </a>\n </td>\n</tr>\n\n<tr>\n <th class=\"infobox-label\" scope=\"row\" style=\"white-space:nowrap;padding-right:0.65em;\">\n  Story by\n </th>\n <td class=\"infobox-data\">\n  <div class=\"plainlist\">\n   <ul>\n    <li>\n     <a href=\"/wiki/John_Lasseter\" title=\"John Lasseter\">\n      John Lasseter\n     </a>\n    </li>\n    <li>\n     <a href=\"/wiki/Andrew_Stanton\" title=\"Andrew Stanton\">\n      Andrew Stanton\n     </a>\n    </li>\n    <li>\n     Lee Unkrich\n    </li>\n   </ul>\n  </div>\n </td>\n</tr>\n\n<tr>\n <th class=\"infobox-label\" scope=\"row\" style=\"white-space:nowrap;padding-right:0.65em;\">\n  Starring\n </th>\n <td class=\"infobox-data\">\n  <div class=\"plainlist\">\n   <ul>\n    <li>\n     <a href=\"/wiki/Tom_Hanks\" title=\"Tom Hanks\">\n      Tom Hanks\n     </a>\n    </li>\n    <li>\n     <a href=\"/wiki/Tim_Allen\" title=\"Tim Allen\">\n      Tim Allen\n     </a>\n    </li>\n    <li>\n     <a href=\"/wiki/Joan_Cusack\" title=\"Joan Cusack\">\n      Joan Cusack\n     </a>\n    </li>\n    <li>\n     <a href=\"/wiki/Don_Rickles\" title=\"Don Rickles\">\n      Don Rickles\n     </a>\n    </li>\n    <li>\n     <a href=\"/wiki/Wallace_Shawn\" title=\"Wallace Shawn\">\n      Wallace Shawn\n     </a>\n    </li>\n    <li>\n     <a href=\"/wiki/John_Ratzenberger\" title=\"John Ratzenberger\">\n      John Ratzenberger\n     </a>\n    </li>\n    <li>\n     <a href=\"/wiki/Estelle_Harris\" title=\"Estelle Harris\">\n      Estelle Harris\n     </a>\n    </li>\n    <li>\n     <a href=\"/wiki/Ned_Beatty\" title=\"Ned Beatty\">\n      Ned Beatty\n     </a>\n    </li>\n    <li>\n     <a href=\"/wiki/Michael_Keaton\" title=\"Michael Keaton\">\n      Michael Keaton\n     </a>\n    </li>\n    <li>\n     <a href=\"/wiki/Jodi_Benson\" title=\"Jodi Benson\">\n      Jodi Benson\n     </a>\n    </li>\n    <li>\n     <a href=\"/wiki/John_Morris_(actor)\" title=\"John Morris (actor)\">\n      John Morris\n     </a>\n    </li>\n   </ul>\n  </div>\n </td>\n</tr>\n\n<tr>\n <th class=\"infobox-label\" scope=\"row\" style=\"white-space:nowrap;padding-right:0.65em;\">\n  Music by\n </th>\n <td class=\"infobox-data\">\n  <a href=\"/wiki/Randy_Newman\" title=\"Randy Newman\">\n   Randy Newman\n  </a>\n </td>\n</tr>\n\n<tr>\n <th class=\"infobox-label\" scope=\"row\" style=\"white-space:nowrap;padding-right:0.65em;\">\n  Cinematography\n </th>\n <td class=\"infobox-data\">\n  <div class=\"plainlist\">\n   <ul>\n    <li>\n     Jeremy Lasky\n    </li>\n    <li>\n     Kim White\n    </li>\n   </ul>\n  </div>\n </td>\n</tr>\n\n<tr>\n <th class=\"infobox-label\" scope=\"row\" style=\"white-space:nowrap;padding-right:0.65em;\">\n  Edited by\n </th>\n <td class=\"infobox-data\">\n  <a href=\"/wiki/Ken_Schretzmann\" title=\"Ken Schretzmann\">\n   Ken Schretzmann\n  </a>\n </td>\n</tr>\n\n<tr>\n <th class=\"infobox-label\" scope=\"row\" style=\"white-space:nowrap;padding-right:0.65em;\">\n  <div style=\"display:inline-block; padding:0.1em 0;line-height:1.2em;\">\n   Production\n   <br/>\n   companies\n  </div>\n </th>\n <td class=\"infobox-data\">\n  <div style=\"vertical-align:middle;\">\n   <div class=\"plainlist\">\n    <ul>\n     <li>\n      <a href=\"/wiki/Walt_Disney_Pictures\" title=\"Walt Disney Pictures\">\n       Walt Disney Pictures\n      </a>\n     </li>\n     <li>\n      <a class=\"mw-redirect\" href=\"/wiki/Pixar_Animation_Studios\" title=\"Pixar Animation Studios\">\n       Pixar Animation Studios\n      </a>\n     </li>\n    </ul>\n   </div>\n  </div>\n </td>\n</tr>\n\n<tr>\n <th class=\"infobox-label\" scope=\"row\" style=\"white-space:nowrap;padding-right:0.65em;\">\n  Distributed by\n </th>\n <td class=\"infobox-data\">\n  <a href=\"/wiki/Walt_Disney_Studios_Motion_Pictures\" title=\"Walt Disney Studios Motion Pictures\">\n   Walt Disney Studios\n   <br/>\n   Motion Pictures\n  </a>\n </td>\n</tr>\n\n<tr>\n <th class=\"infobox-label\" scope=\"row\" style=\"white-space:nowrap;padding-right:0.65em;\">\n  <div style=\"display:inline-block; padding:0.1em 0;line-height:1.2em;white-space:normal;\">\n   Release date\n  </div>\n </th>\n <td class=\"infobox-data\">\n  <div class=\"plainlist\">\n   <ul>\n    <li>\n     June 12, 2010\n     <span style=\"display:none\">\n      (\n      <span class=\"bday dtstart published updated\">\n       2010-06-12\n      </span>\n      )\n     </span>\n     (\n     <a href=\"/wiki/Taormina_Film_Fest\" title=\"Taormina Film Fest\">\n      Taormina Film Fest\n     </a>\n     )\n    </li>\n    <li>\n     June 18, 2010\n     <span style=\"display:none\">\n      (\n      <span class=\"bday dtstart published updated\">\n       2010-06-18\n      </span>\n      )\n     </span>\n     (United States)\n    </li>\n   </ul>\n  </div>\n </td>\n</tr>\n\n<tr>\n <th class=\"infobox-label\" scope=\"row\" style=\"white-space:nowrap;padding-right:0.65em;\">\n  <div style=\"display:inline-block; padding:0.1em 0;line-height:1.2em;white-space:normal;\">\n   Running time\n  </div>\n </th>\n <td class=\"infobox-data\">\n  103 minutes\n  <sup class=\"reference\" id=\"cite_ref-mojo1_1-0\">\n   <a href=\"#cite_note-mojo1-1\">\n    [1]\n   </a>\n  </sup>\n </td>\n</tr>\n\n<tr>\n <th class=\"infobox-label\" scope=\"row\" style=\"white-space:nowrap;padding-right:0.65em;\">\n  Country\n </th>\n <td class=\"infobox-data\">\n  United States\n </td>\n</tr>\n\n<tr>\n <th class=\"infobox-label\" scope=\"row\" style=\"white-space:nowrap;padding-right:0.65em;\">\n  Language\n </th>\n <td class=\"infobox-data\">\n  English\n </td>\n</tr>\n\n<tr>\n <th class=\"infobox-label\" scope=\"row\" style=\"white-space:nowrap;padding-right:0.65em;\">\n  Budget\n </th>\n <td class=\"infobox-data\">\n  $200 million\n  <sup class=\"reference\" id=\"cite_ref-mojo1_1-1\">\n   <a href=\"#cite_note-mojo1-1\">\n    [1]\n   </a>\n  </sup>\n </td>\n</tr>\n\n<tr>\n <th class=\"infobox-label\" scope=\"row\" style=\"white-space:nowrap;padding-right:0.65em;\">\n  Box office\n </th>\n <td class=\"infobox-data\">\n  $1.067 billion\n  <sup class=\"reference\" id=\"cite_ref-mojo1_1-2\">\n   <a href=\"#cite_note-mojo1-1\">\n    [1]\n   </a>\n  </sup>\n </td>\n</tr>\n"
     ]
    }
   ],
   "source": [
    "info_box = soup.find(class_=\"infobox vevent\")\n",
    "info_rows = info_box.find_all(\"tr\")\n",
    "for row in info_rows:\n",
    "    print(row.prettify())"
   ]
  },
  {
   "cell_type": "code",
   "execution_count": 51,
   "metadata": {},
   "outputs": [
    {
     "output_type": "execute_result",
     "data": {
      "text/plain": [
       "{'title': 'Toy Story 3',\n",
       " 'Directed by': 'Lee Unkrich',\n",
       " 'Produced by': 'Darla K. Anderson',\n",
       " 'Screenplay by': 'Michael Arndt',\n",
       " 'Story by': ['John Lasseter', 'Andrew Stanton', 'Lee Unkrich'],\n",
       " 'Starring': ['Tom Hanks',\n",
       "  'Tim Allen',\n",
       "  'Joan Cusack',\n",
       "  'Don Rickles',\n",
       "  'Wallace Shawn',\n",
       "  'John Ratzenberger',\n",
       "  'Estelle Harris',\n",
       "  'Ned Beatty',\n",
       "  'Michael Keaton',\n",
       "  'Jodi Benson',\n",
       "  'John Morris'],\n",
       " 'Music by': 'Randy Newman',\n",
       " 'Cinematography': ['Jeremy Lasky', 'Kim White'],\n",
       " 'Edited by': 'Ken Schretzmann',\n",
       " 'Production companies': ['Walt Disney Pictures', 'Pixar Animation Studios'],\n",
       " 'Distributed by': 'Walt Disney Studios Motion Pictures',\n",
       " 'Release date': ['June12,2010 ( 2010-06-12 ) ( Taormina Film Fest )',\n",
       "  'June18,2010 ( 2010-06-18 ) (United States)'],\n",
       " 'Running time': '103 minutes [1]',\n",
       " 'Country': 'United States',\n",
       " 'Language': 'English',\n",
       " 'Budget': '$200million [1]',\n",
       " 'Box office': '$1.067billion [1]'}"
      ]
     },
     "metadata": {},
     "execution_count": 51
    }
   ],
   "source": [
    "def get_content_value(row_data):\n",
    "    if row_data.find(\"li\"):\n",
    "        return [li.get_text(\" \", strip=True).replace(\"\\xa0\", \"\") for li in row_data.find_all(\"li\")]\n",
    "    else:\n",
    "        return row_data.get_text(\" \", strip=True).replace(\"\\xa0\", \"\")\n",
    "\n",
    "movie_info = {}    \n",
    "\n",
    "\n",
    "for index, row in enumerate(info_rows):\n",
    "    if index == 0:\n",
    "        movie_info['title'] = row.find(\"th\").get_text(\" \", strip=True)\n",
    "    elif index == 1:\n",
    "        continue\n",
    "    else:\n",
    "        content_key = row.find(\"th\").get_text(\" \", strip=True)\n",
    "        content_value = get_content_value(row.find(\"td\"))\n",
    "        movie_info[content_key] = content_value        \n",
    "\n",
    "movie_info\n",
    "#string replacement = .replace(\"old\", \"new\")\n",
    "#get text method doc beatiful soup = get_text(\" \", strip=True)"
   ]
  },
  {
   "source": [
    "Task #2: Get info box for all movies"
   ],
   "cell_type": "markdown",
   "metadata": {}
  },
  {
   "cell_type": "code",
   "execution_count": 52,
   "metadata": {
    "tags": [
     "outputPrepend"
    ]
   },
   "outputs": [
    {
     "output_type": "stream",
     "name": "stdout",
     "text": [
      " More\n       </span>\n      </h3>\n      <div class=\"vector-menu-content\">\n       <ul class=\"vector-menu-content-list\">\n       </ul>\n      </div>\n     </nav>\n     <div id=\"p-search\" role=\"search\">\n      <h3>\n       <label for=\"searchInput\">\n        Search\n       </label>\n      </h3>\n      <form action=\"/w/index.php\" id=\"searchform\">\n       <div data-search-loc=\"header-navigation\" id=\"simpleSearch\">\n        <input accesskey=\"f\" autocapitalize=\"sentences\" id=\"searchInput\" name=\"search\" placeholder=\"Search Wikipedia\" title=\"Search Wikipedia [f]\" type=\"search\"/>\n        <input name=\"title\" type=\"hidden\" value=\"Special:Search\"/>\n        <input class=\"searchButton mw-fallbackSearchButton\" id=\"mw-searchButton\" name=\"fulltext\" title=\"Search Wikipedia for this text\" type=\"submit\" value=\"Search\"/>\n        <input class=\"searchButton\" id=\"searchButton\" name=\"go\" title=\"Go to a page with this exact name if it exists\" type=\"submit\" value=\"Go\"/>\n       </div>\n      </form>\n     </div>\n    </div>\n   </div>\n   <div id=\"mw-panel\">\n    <div id=\"p-logo\" role=\"banner\">\n     <a class=\"mw-wiki-logo\" href=\"/wiki/Main_Page\" title=\"Visit the main page\">\n     </a>\n    </div>\n    <nav aria-labelledby=\"p-navigation-label\" class=\"mw-portlet mw-portlet-navigation vector-menu vector-menu-portal portal\" id=\"p-navigation\" role=\"navigation\">\n     <h3 class=\"vector-menu-heading\" id=\"p-navigation-label\">\n      <span>\n       Navigation\n      </span>\n     </h3>\n     <div class=\"vector-menu-content\">\n      <ul class=\"vector-menu-content-list\">\n       <li id=\"n-mainpage-description\">\n        <a accesskey=\"z\" href=\"/wiki/Main_Page\" title=\"Visit the main page [z]\">\n         Main page\n        </a>\n       </li>\n       <li id=\"n-contents\">\n        <a href=\"/wiki/Wikipedia:Contents\" title=\"Guides to browsing Wikipedia\">\n         Contents\n        </a>\n       </li>\n       <li id=\"n-currentevents\">\n        <a href=\"/wiki/Portal:Current_events\" title=\"Articles related to current events\">\n         Current events\n        </a>\n       </li>\n       <li id=\"n-randompage\">\n        <a accesskey=\"x\" href=\"/wiki/Special:Random\" title=\"Visit a randomly selected article [x]\">\n         Random article\n        </a>\n       </li>\n       <li id=\"n-aboutsite\">\n        <a href=\"/wiki/Wikipedia:About\" title=\"Learn about Wikipedia and how it works\">\n         About Wikipedia\n        </a>\n       </li>\n       <li id=\"n-contactpage\">\n        <a href=\"//en.wikipedia.org/wiki/Wikipedia:Contact_us\" title=\"How to contact Wikipedia\">\n         Contact us\n        </a>\n       </li>\n       <li id=\"n-sitesupport\">\n        <a href=\"https://donate.wikimedia.org/wiki/Special:FundraiserRedirector?utm_source=donate&amp;utm_medium=sidebar&amp;utm_campaign=C13_en.wikipedia.org&amp;uselang=en\" title=\"Support us by donating to the Wikimedia Foundation\">\n         Donate\n        </a>\n       </li>\n      </ul>\n     </div>\n    </nav>\n    <nav aria-labelledby=\"p-interaction-label\" class=\"mw-portlet mw-portlet-interaction vector-menu vector-menu-portal portal\" id=\"p-interaction\" role=\"navigation\">\n     <h3 class=\"vector-menu-heading\" id=\"p-interaction-label\">\n      <span>\n       Contribute\n      </span>\n     </h3>\n     <div class=\"vector-menu-content\">\n      <ul class=\"vector-menu-content-list\">\n       <li id=\"n-help\">\n        <a href=\"/wiki/Help:Contents\" title=\"Guidance on how to use and edit Wikipedia\">\n         Help\n        </a>\n       </li>\n       <li id=\"n-introduction\">\n        <a href=\"/wiki/Help:Introduction\" title=\"Learn how to edit Wikipedia\">\n         Learn to edit\n        </a>\n       </li>\n       <li id=\"n-portal\">\n        <a href=\"/wiki/Wikipedia:Community_portal\" title=\"The hub for editors\">\n         Community portal\n        </a>\n       </li>\n       <li id=\"n-recentchanges\">\n        <a accesskey=\"r\" href=\"/wiki/Special:RecentChanges\" title=\"A list of recent changes to Wikipedia [r]\">\n         Recent changes\n        </a>\n       </li>\n       <li id=\"n-upload\">\n        <a href=\"/wiki/Wikipedia:File_Upload_Wizard\" title=\"Add images or other media for use on Wikipedia\">\n         Upload file\n        </a>\n       </li>\n      </ul>\n     </div>\n    </nav>\n    <nav aria-labelledby=\"p-tb-label\" class=\"mw-portlet mw-portlet-tb vector-menu vector-menu-portal portal\" id=\"p-tb\" role=\"navigation\">\n     <h3 class=\"vector-menu-heading\" id=\"p-tb-label\">\n      <span>\n       Tools\n      </span>\n     </h3>\n     <div class=\"vector-menu-content\">\n      <ul class=\"vector-menu-content-list\">\n       <li id=\"t-whatlinkshere\">\n        <a accesskey=\"j\" href=\"/wiki/Special:WhatLinksHere/List_of_Walt_Disney_Pictures_films\" title=\"List of all English Wikipedia pages containing links to this page [j]\">\n         What links here\n        </a>\n       </li>\n       <li id=\"t-recentchangeslinked\">\n        <a accesskey=\"k\" href=\"/wiki/Special:RecentChangesLinked/List_of_Walt_Disney_Pictures_films\" rel=\"nofollow\" title=\"Recent changes in pages linked from this page [k]\">\n         Related changes\n        </a>\n       </li>\n       <li id=\"t-upload\">\n        <a accesskey=\"u\" href=\"/wiki/Wikipedia:File_Upload_Wizard\" title=\"Upload files [u]\">\n         Upload file\n        </a>\n       </li>\n       <li id=\"t-specialpages\">\n        <a accesskey=\"q\" href=\"/wiki/Special:SpecialPages\" title=\"A list of all special pages [q]\">\n         Special pages\n        </a>\n       </li>\n       <li id=\"t-permalink\">\n        <a href=\"/w/index.php?title=List_of_Walt_Disney_Pictures_films&amp;oldid=1029082316\" title=\"Permanent link to this revision of this page\">\n         Permanent link\n        </a>\n       </li>\n       <li id=\"t-info\">\n        <a href=\"/w/index.php?title=List_of_Walt_Disney_Pictures_films&amp;action=info\" title=\"More information about this page\">\n         Page information\n        </a>\n       </li>\n       <li id=\"t-cite\">\n        <a href=\"/w/index.php?title=Special:CiteThisPage&amp;page=List_of_Walt_Disney_Pictures_films&amp;id=1029082316&amp;wpFormIdentifier=titleform\" title=\"Information on how to cite this page\">\n         Cite this page\n        </a>\n       </li>\n       <li id=\"t-wikibase\">\n        <a accesskey=\"g\" href=\"https://www.wikidata.org/wiki/Special:EntityPage/Q835515\" title=\"Structured data on this page hosted by Wikidata [g]\">\n         Wikidata item\n        </a>\n       </li>\n      </ul>\n     </div>\n    </nav>\n    <nav aria-labelledby=\"p-coll-print_export-label\" class=\"mw-portlet mw-portlet-coll-print_export vector-menu vector-menu-portal portal\" id=\"p-coll-print_export\" role=\"navigation\">\n     <h3 class=\"vector-menu-heading\" id=\"p-coll-print_export-label\">\n      <span>\n       Print/export\n      </span>\n     </h3>\n     <div class=\"vector-menu-content\">\n      <ul class=\"vector-menu-content-list\">\n       <li id=\"coll-download-as-rl\">\n        <a href=\"/w/index.php?title=Special:DownloadAsPdf&amp;page=List_of_Walt_Disney_Pictures_films&amp;action=show-download-screen\" title=\"Download this page as a PDF file\">\n         Download as PDF\n        </a>\n       </li>\n       <li id=\"t-print\">\n        <a accesskey=\"p\" href=\"/w/index.php?title=List_of_Walt_Disney_Pictures_films&amp;printable=yes\" title=\"Printable version of this page [p]\">\n         Printable version\n        </a>\n       </li>\n      </ul>\n     </div>\n    </nav>\n    <nav aria-labelledby=\"p-wikibase-otherprojects-label\" class=\"mw-portlet mw-portlet-wikibase-otherprojects vector-menu vector-menu-portal portal\" id=\"p-wikibase-otherprojects\" role=\"navigation\">\n     <h3 class=\"vector-menu-heading\" id=\"p-wikibase-otherprojects-label\">\n      <span>\n       In other projects\n      </span>\n     </h3>\n     <div class=\"vector-menu-content\">\n      <ul class=\"vector-menu-content-list\">\n       <li class=\"wb-otherproject-link wb-otherproject-commons\">\n        <a href=\"https://commons.wikimedia.org/wiki/Category:Disney_films\" hreflang=\"en\">\n         Wikimedia Commons\n        </a>\n       </li>\n      </ul>\n     </div>\n    </nav>\n    <nav aria-labelledby=\"p-lang-label\" class=\"mw-portlet mw-portlet-lang vector-menu vector-menu-portal portal\" id=\"p-lang\" role=\"navigation\">\n     <h3 class=\"vector-menu-heading\" id=\"p-lang-label\">\n      <span>\n       Languages\n      </span>\n     </h3>\n     <div class=\"vector-menu-content\">\n      <ul class=\"vector-menu-content-list\">\n       <li class=\"interlanguage-link interwiki-ar badge-Q17506997 badge-featuredlist\" title=\"featured list badge\">\n        <a class=\"interlanguage-link-target\" href=\"https://ar.wikipedia.org/wiki/%D9%82%D8%A7%D8%A6%D9%85%D8%A9_%D8%A3%D9%81%D9%84%D8%A7%D9%85_%D9%88%D8%A7%D9%84%D8%AA_%D8%AF%D9%8A%D8%B2%D9%86%D9%8A\" hreflang=\"ar\" lang=\"ar\" title=\"قائمة أفلام والت ديزني – Arabic\">\n         العربية\n        </a>\n       </li>\n       <li class=\"interlanguage-link interwiki-de\">\n        <a class=\"interlanguage-link-target\" href=\"https://de.wikipedia.org/wiki/Liste_der_Disney-Filme\" hreflang=\"de\" lang=\"de\" title=\"Liste der Disney-Filme – German\">\n         Deutsch\n        </a>\n       </li>\n       <li class=\"interlanguage-link interwiki-es\">\n        <a class=\"interlanguage-link-target\" href=\"https://es.wikipedia.org/wiki/Anexo:Pel%C3%ADculas_de_Walt_Disney_Pictures\" hreflang=\"es\" lang=\"es\" title=\"Anexo:Películas de Walt Disney Pictures – Spanish\">\n         Español\n        </a>\n       </li>\n       <li class=\"interlanguage-link interwiki-fo\">\n        <a class=\"interlanguage-link-target\" href=\"https://fo.wikipedia.org/wiki/Disney_biograffilmar\" hreflang=\"fo\" lang=\"fo\" title=\"Disney biograffilmar – Faroese\">\n         Føroyskt\n        </a>\n       </li>\n       <li class=\"interlanguage-link interwiki-fr\">\n        <a class=\"interlanguage-link-target\" href=\"https://fr.wikipedia.org/wiki/Liste_des_longs_m%C3%A9trages_en_prises_de_vues_r%C3%A9elles_produits_par_les_Studios_Disney\" hreflang=\"fr\" lang=\"fr\" title=\"Liste des longs métrages en prises de vues réelles produits par les Studios Disney – French\">\n         Français\n        </a>\n       </li>\n       <li class=\"interlanguage-link interwiki-ga\">\n        <a class=\"interlanguage-link-target\" href=\"https://ga.wikipedia.org/wiki/Liosta_Pr%C3%ADomhscann%C3%A1in_Disney\" hreflang=\"ga\" lang=\"ga\" title=\"Liosta Príomhscannáin Disney – Irish\">\n         Gaeilge\n        </a>\n       </li>\n       <li class=\"interlanguage-link interwiki-ko\">\n        <a class=\"interlanguage-link-target\" href=\"https://ko.wikipedia.org/wiki/%EC%9B%94%ED%8A%B8_%EB%94%94%EC%A6%88%EB%8B%88_%ED%94%BD%EC%B2%98%EC%8A%A4%EC%9D%98_%EC%98%81%ED%99%94_%EB%AA%A9%EB%A1%9D\" hreflang=\"ko\" lang=\"ko\" title=\"월트 디즈니 픽처스의 영화 목록 – Korean\">\n         한국어\n        </a>\n       </li>\n       <li class=\"interlanguage-link interwiki-id\">\n        <a class=\"interlanguage-link-target\" href=\"https://id.wikipedia.org/wiki/Daftar_film_Walt_Disney_Pictures\" hreflang=\"id\" lang=\"id\" title=\"Daftar film Walt Disney Pictures – Indonesian\">\n         Bahasa Indonesia\n        </a>\n       </li>\n       <li class=\"interlanguage-link interwiki-it\">\n        <a class=\"interlanguage-link-target\" href=\"https://it.wikipedia.org/wiki/Lungometraggi_Disney\" hreflang=\"it\" lang=\"it\" title=\"Lungometraggi Disney – Italian\">\n         Italiano\n        </a>\n       </li>\n       <li class=\"interlanguage-link interwiki-he\">\n        <a class=\"interlanguage-link-target\" href=\"https://he.wikipedia.org/wiki/%D7%A1%D7%A8%D7%98%D7%99_%D7%A7%D7%95%D7%9C%D7%A0%D7%95%D7%A2_%D7%A9%D7%94%D7%95%D7%A4%D7%A7%D7%95_%D7%A2%D7%9C_%D7%99%D7%93%D7%99_%D7%90%D7%95%D7%9C%D7%A4%D7%A0%D7%99_%D7%95%D7%95%D7%9C%D7%98_%D7%93%D7%99%D7%A1%D7%A0%D7%99\" hreflang=\"he\" lang=\"he\" title=\"סרטי קולנוע שהופקו על ידי אולפני וולט דיסני – Hebrew\">\n         עברית\n        </a>\n       </li>\n       <li class=\"interlanguage-link interwiki-arz badge-Q17506997 badge-featuredlist\" title=\"featured list badge\">\n        <a class=\"interlanguage-link-target\" href=\"https://arz.wikipedia.org/wiki/%D8%A7%D9%81%D9%84%D8%A7%D9%85_%D9%88%D8%A7%D9%84%D8%AA_%D8%AF%D9%8A%D8%B2%D9%86%D9%89\" hreflang=\"arz\" lang=\"arz\" title=\"افلام والت ديزنى – Egyptian Arabic\">\n         مصرى\n        </a>\n       </li>\n       <li class=\"interlanguage-link interwiki-ja\">\n        <a class=\"interlanguage-link-target\" href=\"https://ja.wikipedia.org/wiki/%E3%83%87%E3%82%A3%E3%82%BA%E3%83%8B%E3%83%BC%E4%BD%9C%E5%93%81%E3%81%AE%E4%B8%80%E8%A6%A7\" hreflang=\"ja\" lang=\"ja\" title=\"ディズニー作品の一覧 – Japanese\">\n         日本語\n        </a>\n       </li>\n       <li class=\"interlanguage-link interwiki-pt\">\n        <a class=\"interlanguage-link-target\" href=\"https://pt.wikipedia.org/wiki/Lista_de_filmes_da_Disney\" hreflang=\"pt\" lang=\"pt\" title=\"Lista de filmes da Disney – Portuguese\">\n         Português\n        </a>\n       </li>\n       <li class=\"interlanguage-link interwiki-ru\">\n        <a class=\"interlanguage-link-target\" href=\"https://ru.wikipedia.org/wiki/%D0%A1%D0%BF%D0%B8%D1%81%D0%BE%D0%BA_%D1%84%D0%B8%D0%BB%D1%8C%D0%BC%D0%BE%D0%B2_%D0%BF%D1%80%D0%BE%D0%B8%D0%B7%D0%B2%D0%BE%D0%B4%D1%81%D1%82%D0%B2%D0%B0_%D0%BA%D0%BE%D0%BC%D0%BF%D0%B0%D0%BD%D0%B8%D0%B8_%D0%A3%D0%BE%D0%BB%D1%82%D0%B0_%D0%94%D0%B8%D1%81%D0%BD%D0%B5%D1%8F\" hreflang=\"ru\" lang=\"ru\" title=\"Список фильмов производства компании Уолта Диснея – Russian\">\n         Русский\n        </a>\n       </li>\n       <li class=\"interlanguage-link interwiki-simple\">\n        <a class=\"interlanguage-link-target\" href=\"https://simple.wikipedia.org/wiki/List_of_Disney_movies\" hreflang=\"en-simple\" lang=\"en-simple\" title=\"List of Disney movies – Simple English\">\n         Simple English\n        </a>\n       </li>\n       <li class=\"interlanguage-link interwiki-sv\">\n        <a class=\"interlanguage-link-target\" href=\"https://sv.wikipedia.org/wiki/Lista_%C3%B6ver_Disneyfilmer#Spelfilmer\" hreflang=\"sv\" lang=\"sv\" title=\"Lista över Disneyfilmer – Swedish\">\n         Svenska\n        </a>\n       </li>\n       <li class=\"interlanguage-link interwiki-vi\">\n        <a class=\"interlanguage-link-target\" href=\"https://vi.wikipedia.org/wiki/Danh_s%C3%A1ch_phim_c%E1%BB%A7a_Walt_Disney_Pictures\" hreflang=\"vi\" lang=\"vi\" title=\"Danh sách phim của Walt Disney Pictures – Vietnamese\">\n         Tiếng Việt\n        </a>\n       </li>\n       <li class=\"interlanguage-link interwiki-zh\">\n        <a class=\"interlanguage-link-target\" href=\"https://zh.wikipedia.org/wiki/%E8%8F%AF%E7%89%B9%E8%BF%AA%E5%A3%AB%E5%B0%BC%E5%BD%B1%E6%A5%AD%E9%9B%BB%E5%BD%B1%E5%88%97%E8%A1%A8\" hreflang=\"zh\" lang=\"zh\" title=\"華特迪士尼影業電影列表 – Chinese\">\n         中文\n        </a>\n       </li>\n      </ul>\n      <div class=\"after-portlet after-portlet-lang\">\n       <span class=\"wb-langlinks-edit wb-langlinks-link\">\n        <a class=\"wbc-editpage\" href=\"https://www.wikidata.org/wiki/Special:EntityPage/Q835515#sitelinks-wikipedia\" title=\"Edit interlanguage links\">\n         Edit links\n        </a>\n       </span>\n      </div>\n     </div>\n    </nav>\n   </div>\n  </div>\n  <footer class=\"mw-footer\" id=\"footer\" role=\"contentinfo\">\n   <ul id=\"footer-info\">\n    <li id=\"footer-info-lastmod\">\n     This page was last edited on 17 June 2021, at 19:46\n     <span class=\"anonymous-show\">\n      (UTC)\n     </span>\n     .\n    </li>\n    <li id=\"footer-info-copyright\">\n     Text is available under the\n     <a href=\"//en.wikipedia.org/wiki/Wikipedia:Text_of_Creative_Commons_Attribution-ShareAlike_3.0_Unported_License\" rel=\"license\">\n      Creative Commons Attribution-ShareAlike License\n     </a>\n     <a href=\"//creativecommons.org/licenses/by-sa/3.0/\" rel=\"license\" style=\"display:none;\">\n     </a>\n     ;\nadditional terms may apply.  By using this site, you agree to the\n     <a href=\"//foundation.wikimedia.org/wiki/Terms_of_Use\">\n      Terms of Use\n     </a>\n     and\n     <a href=\"//foundation.wikimedia.org/wiki/Privacy_policy\">\n      Privacy Policy\n     </a>\n     . Wikipedia® is a registered trademark of the\n     <a href=\"//www.wikimediafoundation.org/\">\n      Wikimedia Foundation, Inc.\n     </a>\n     , a non-profit organization.\n    </li>\n   </ul>\n   <ul id=\"footer-places\">\n    <li id=\"footer-places-privacy\">\n     <a class=\"extiw\" href=\"https://foundation.wikimedia.org/wiki/Privacy_policy\" title=\"wmf:Privacy policy\">\n      Privacy policy\n     </a>\n    </li>\n    <li id=\"footer-places-about\">\n     <a href=\"/wiki/Wikipedia:About\" title=\"Wikipedia:About\">\n      About Wikipedia\n     </a>\n    </li>\n    <li id=\"footer-places-disclaimer\">\n     <a href=\"/wiki/Wikipedia:General_disclaimer\" title=\"Wikipedia:General disclaimer\">\n      Disclaimers\n     </a>\n    </li>\n    <li id=\"footer-places-contact\">\n     <a href=\"//en.wikipedia.org/wiki/Wikipedia:Contact_us\">\n      Contact Wikipedia\n     </a>\n    </li>\n    <li id=\"footer-places-mobileview\">\n     <a class=\"noprint stopMobileRedirectToggle\" href=\"//en.m.wikipedia.org/w/index.php?title=List_of_Walt_Disney_Pictures_films&amp;mobileaction=toggle_view_mobile\">\n      Mobile view\n     </a>\n    </li>\n    <li id=\"footer-places-developers\">\n     <a href=\"https://www.mediawiki.org/wiki/Special:MyLanguage/How_to_contribute\">\n      Developers\n     </a>\n    </li>\n    <li id=\"footer-places-statslink\">\n     <a href=\"https://stats.wikimedia.org/#/en.wikipedia.org\">\n      Statistics\n     </a>\n    </li>\n    <li id=\"footer-places-cookiestatement\">\n     <a href=\"https://foundation.wikimedia.org/wiki/Cookie_statement\">\n      Cookie statement\n     </a>\n    </li>\n   </ul>\n   <ul class=\"noprint\" id=\"footer-icons\">\n    <li id=\"footer-copyrightico\">\n     <a href=\"https://wikimediafoundation.org/\">\n      <img alt=\"Wikimedia Foundation\" height=\"31\" loading=\"lazy\" src=\"/static/images/footer/wikimedia-button.png\" srcset=\"/static/images/footer/wikimedia-button-1.5x.png 1.5x, /static/images/footer/wikimedia-button-2x.png 2x\" width=\"88\"/>\n     </a>\n    </li>\n    <li id=\"footer-poweredbyico\">\n     <a href=\"https://www.mediawiki.org/\">\n      <img alt=\"Powered by MediaWiki\" height=\"31\" loading=\"lazy\" src=\"/static/images/footer/poweredby_mediawiki_88x31.png\" srcset=\"/static/images/footer/poweredby_mediawiki_132x47.png 1.5x, /static/images/footer/poweredby_mediawiki_176x62.png 2x\" width=\"88\"/>\n     </a>\n    </li>\n   </ul>\n  </footer>\n  <script>\n   (RLQ=window.RLQ||[]).push(function(){mw.config.set({\"wgPageParseReport\":{\"limitreport\":{\"cputime\":\"1.346\",\"walltime\":\"1.578\",\"ppvisitednodes\":{\"value\":5463,\"limit\":1000000},\"postexpandincludesize\":{\"value\":102857,\"limit\":2097152},\"templateargumentsize\":{\"value\":3438,\"limit\":2097152},\"expansiondepth\":{\"value\":15,\"limit\":40},\"expensivefunctioncount\":{\"value\":9,\"limit\":500},\"unstrip-depth\":{\"value\":1,\"limit\":20},\"unstrip-size\":{\"value\":135437,\"limit\":5000000},\"entityaccesscount\":{\"value\":1,\"limit\":400},\"timingprofile\":[\"100.00% 1014.219      1 -total\",\" 45.47%  461.197      2 Template:Reflist\",\" 18.33%  185.914     27 Template:Cite_web\",\" 17.33%  175.747      8 Template:Cite_news\",\"  7.79%   78.979      1 Template:Short_description\",\"  7.45%   75.588      1 Template:Pp\",\"  6.44%   65.306     17 Template:Start_date\",\"  4.65%   47.113      1 Template:Walt_Disney_Studios_films\",\"  4.57%   46.394      1 Template:Pagetype\",\"  4.47%   45.385      2 Template:Navbox\"]},\"scribunto\":{\"limitreport-timeusage\":{\"value\":\"0.494\",\"limit\":\"10.000\"},\"limitreport-memusage\":{\"value\":7692827,\"limit\":52428800}},\"cachereport\":{\"origin\":\"mw1317\",\"timestamp\":\"20210617194650\",\"ttl\":1814400,\"transientcontent\":false}}});});\n  </script>\n  <script type=\"application/ld+json\">\n   {\"@context\":\"https:\\/\\/schema.org\",\"@type\":\"Article\",\"name\":\"List of Walt Disney Pictures films\",\"url\":\"https:\\/\\/en.wikipedia.org\\/wiki\\/List_of_Walt_Disney_Pictures_films\",\"sameAs\":\"http:\\/\\/www.wikidata.org\\/entity\\/Q835515\",\"mainEntity\":\"http:\\/\\/www.wikidata.org\\/entity\\/Q835515\",\"author\":{\"@type\":\"Organization\",\"name\":\"Contributors to Wikimedia projects\"},\"publisher\":{\"@type\":\"Organization\",\"name\":\"Wikimedia Foundation, Inc.\",\"logo\":{\"@type\":\"ImageObject\",\"url\":\"https:\\/\\/www.wikimedia.org\\/static\\/images\\/wmf-hor-googpub.png\"}},\"datePublished\":\"2005-06-01T02:11:44Z\",\"dateModified\":\"2021-06-17T19:46:48Z\",\"headline\":\"Wikimedia list article\"}\n  </script>\n  <script>\n   (RLQ=window.RLQ||[]).push(function(){mw.config.set({\"wgBackendResponseTime\":162,\"wgHostname\":\"mw1263\"});});\n  </script>\n </body>\n</html>\n"
     ]
    }
   ],
   "source": [
    "r = requests.get(\"https://en.wikipedia.org/wiki/List_of_Walt_Disney_Pictures_films\")\n",
    "\n",
    "#convert to a beatiful soup object\n",
    "soup = bs(r.content)\n",
    "\n",
    "#print out the HTML\n",
    "contents= soup.prettify()\n",
    "print(contents)"
   ]
  },
  {
   "cell_type": "code",
   "execution_count": 53,
   "metadata": {},
   "outputs": [
    {
     "output_type": "execute_result",
     "data": {
      "text/plain": [
       "[<a href=\"/wiki/Academy_Award_Review_of_Walt_Disney_Cartoons\" title=\"Academy Award Review of Walt Disney Cartoons\">Academy Award Review of Walt Disney Cartoons</a>,\n",
       " <a href=\"/wiki/Snow_White_and_the_Seven_Dwarfs_(1937_film)\" title=\"Snow White and the Seven Dwarfs (1937 film)\">Snow White and the Seven Dwarfs</a>,\n",
       " <a href=\"/wiki/Pinocchio_(1940_film)\" title=\"Pinocchio (1940 film)\">Pinocchio</a>,\n",
       " <a href=\"/wiki/Fantasia_(1940_film)\" title=\"Fantasia (1940 film)\">Fantasia</a>,\n",
       " <a href=\"/wiki/The_Reluctant_Dragon_(1941_film)\" title=\"The Reluctant Dragon (1941 film)\">The Reluctant Dragon</a>,\n",
       " <a href=\"/wiki/Dumbo\" title=\"Dumbo\">Dumbo</a>,\n",
       " <a href=\"/wiki/Bambi\" title=\"Bambi\">Bambi</a>,\n",
       " <a href=\"/wiki/Saludos_Amigos\" title=\"Saludos Amigos\">Saludos Amigos</a>,\n",
       " <a href=\"/wiki/Victory_Through_Air_Power_(film)\" title=\"Victory Through Air Power (film)\">Victory Through Air Power</a>,\n",
       " <a href=\"/wiki/The_Three_Caballeros\" title=\"The Three Caballeros\">The Three Caballeros</a>]"
      ]
     },
     "metadata": {},
     "execution_count": 53
    }
   ],
   "source": [
    "movies = soup.select(\".wikitable.sortable i a\")\n",
    "movies[0:10]"
   ]
  },
  {
   "cell_type": "code",
   "execution_count": 81,
   "metadata": {},
   "outputs": [],
   "source": [
    "\n",
    "def get_content_value(row_data):\n",
    "    if row_data.find(\"li\"):\n",
    "        return [li.get_text(\" \", strip=True).replace(\"\\xa0\", \"\") for li in row_data.find_all(\"li\")]\n",
    "    elif row_data.find(\"br\"):\n",
    "        return [text for text in row_data.stripped_strings]\n",
    "    else:\n",
    "        return row_data.get_text(\" \", strip=True).replace(\"\\xa0\", \"\")\n",
    "\n",
    "def clean_tag(soup):\n",
    "    for tag in soup.find_all([\"sup\",\"span\"]):\n",
    "        tag.decompose()\n",
    "\n",
    "def get_info_box(url):\n",
    "\n",
    "    r = requests.get(url)\n",
    "\n",
    "    soup = bs(r.content)\n",
    "    info_box = soup.find(class_=\"infobox vevent\")\n",
    "    info_rows = info_box.find_all(\"tr\")\n",
    "\n",
    "    clean_tag(soup)\n",
    "\n",
    "\n",
    "    movie_info = {}    \n",
    "    for index, row in enumerate(info_rows):\n",
    "        if index == 0:\n",
    "            movie_info['title'] = row.find(\"th\").get_text(\" \", strip=True)\n",
    "        else:\n",
    "            header = row.find('th')\n",
    "            if header:\n",
    "                content_key = row.find(\"th\").get_text(\" \", strip=True)\n",
    "                content_value = get_content_value(row.find(\"td\"))\n",
    "                movie_info[content_key] = content_value        \n",
    "\n",
    "    return movie_info"
   ]
  },
  {
   "cell_type": "code",
   "execution_count": 82,
   "metadata": {},
   "outputs": [
    {
     "output_type": "execute_result",
     "data": {
      "text/plain": [
       "{'title': 'One Little Indian',\n",
       " 'Directed by': 'Bernard McEveety',\n",
       " 'Produced by': 'Winston Hibler',\n",
       " 'Written by': 'Harry Spalding',\n",
       " 'Starring': ['James Garner',\n",
       "  'Vera Miles',\n",
       "  'Pat Hingle',\n",
       "  'Morgan Woodward',\n",
       "  'Jodie Foster'],\n",
       " 'Music by': 'Jerry Goldsmith',\n",
       " 'Cinematography': 'Charles F. Wheeler',\n",
       " 'Edited by': 'Robert Stafford',\n",
       " 'Production company': 'Walt Disney Productions',\n",
       " 'Distributed by': 'Buena Vista Distribution',\n",
       " 'Release date': ['June20,1973'],\n",
       " 'Running time': '90 Minutes',\n",
       " 'Country': 'United States',\n",
       " 'Language': 'English',\n",
       " 'Box office': '$2 million'}"
      ]
     },
     "metadata": {},
     "execution_count": 82
    }
   ],
   "source": [
    "get_info_box(\"https://en.wikipedia.org/wiki/One_Little_Indian_(film)\")"
   ]
  },
  {
   "cell_type": "code",
   "execution_count": 83,
   "metadata": {},
   "outputs": [
    {
     "output_type": "stream",
     "name": "stdout",
     "text": [
      "0\n",
      "10\n",
      "20\n",
      "30\n",
      "40\n",
      "Zorro the Avenger\n",
      "'NoneType' object has no attribute 'find'\n",
      "The Sign of Zorro\n",
      "'NoneType' object has no attribute 'find'\n",
      "50\n",
      "60\n",
      "70\n",
      "80\n",
      "90\n",
      "The Moon Landing\n",
      "'NoneType' object has no attribute 'find_all'\n",
      "100\n",
      "110\n",
      "120\n",
      "True-Life Adventures\n",
      "'NoneType' object has no attribute 'find_all'\n",
      "130\n",
      "140\n",
      "The London Connection\n",
      "'NoneType' object has no attribute 'find'\n",
      "150\n",
      "160\n",
      "170\n",
      "180\n",
      "190\n",
      "200\n",
      "210\n",
      "220\n",
      "230\n",
      "240\n",
      "250\n",
      "260\n",
      "270\n",
      "280\n",
      "290\n",
      "300\n",
      "310\n",
      "320\n",
      "330\n",
      "340\n",
      "350\n",
      "360\n",
      "370\n",
      "380\n",
      "390\n",
      "400\n",
      "410\n",
      "420\n",
      "430\n",
      "440\n",
      "450\n"
     ]
    }
   ],
   "source": [
    "r = requests.get(\"https://en.wikipedia.org/wiki/List_of_Walt_Disney_Pictures_films\")\n",
    "soup = bs(r.content)\n",
    "movies = soup.select(\".wikitable.sortable i a\")\n",
    "\n",
    "base_path = \"https://en.wikipedia.org/\"\n",
    "\n",
    "movie_info_list = []\n",
    "for index, movie in enumerate(movies):\n",
    "    if index % 10 == 0:\n",
    "        print(index)\n",
    "    try:\n",
    "        relative_path = movie['href']\n",
    "        full_path = base_path + relative_path\n",
    "        title = movie['title']\n",
    "        \n",
    "        movie_info_list.append(get_info_box(full_path))\n",
    "        \n",
    "    except Exception as e:\n",
    "        print(movie.get_text())\n",
    "        print(e)"
   ]
  },
  {
   "cell_type": "code",
   "execution_count": 84,
   "metadata": {},
   "outputs": [
    {
     "output_type": "execute_result",
     "data": {
      "text/plain": [
       "{'title': 'Academy Award Review of',\n",
       " 'Production company': 'Walt Disney Productions',\n",
       " 'Release date': ['May19,1937'],\n",
       " 'Running time': '41 minutes (74 minutes 1966 release)',\n",
       " 'Country': 'United States',\n",
       " 'Language': 'English',\n",
       " 'Box office': '$45.472'}"
      ]
     },
     "metadata": {},
     "execution_count": 84
    }
   ],
   "source": [
    "movie_info_list[0]"
   ]
  },
  {
   "cell_type": "code",
   "execution_count": 85,
   "metadata": {},
   "outputs": [
    {
     "output_type": "execute_result",
     "data": {
      "text/plain": [
       "447"
      ]
     },
     "metadata": {},
     "execution_count": 85
    }
   ],
   "source": [
    "len(movie_info_list)"
   ]
  },
  {
   "source": [
    "Save/Reload Movie Data"
   ],
   "cell_type": "markdown",
   "metadata": {}
  },
  {
   "cell_type": "code",
   "execution_count": 102,
   "metadata": {},
   "outputs": [],
   "source": [
    "import json\n",
    "\n",
    "def save_data(title, data):\n",
    "    with open(title, 'w', encoding='utf-8') as f:\n",
    "        json.dump(data, f, ensure_ascii=False, indent=2)"
   ]
  },
  {
   "cell_type": "code",
   "execution_count": 103,
   "metadata": {},
   "outputs": [],
   "source": [
    "import json\n",
    "\n",
    "def load_data(title):\n",
    "    with open(title, encoding=\"utf-8\") as f:\n",
    "        return json.load(f)\n",
    "        "
   ]
  },
  {
   "cell_type": "code",
   "execution_count": 104,
   "metadata": {},
   "outputs": [],
   "source": [
    "save_data(\"disney_data_cleaned.json\", movie_info_list)"
   ]
  },
  {
   "source": [
    "Task #3: Clean our data!!"
   ],
   "cell_type": "markdown",
   "metadata": {}
  },
  {
   "cell_type": "code",
   "execution_count": 119,
   "metadata": {},
   "outputs": [],
   "source": [
    "movie_info_list = load_data(\"disney_data_cleaned.json\")\n"
   ]
  },
  {
   "source": [
    "##Subtasks\n",
    "- ~~Clean up references [1]~~\n",
    "- ~~Convert running time into an integer~~\n",
    "- Convert dates into datetime object\n",
    "- ~~Split up the long strings~~\n",
    "- Convert Budget & Box office to numbers"
   ],
   "cell_type": "markdown",
   "metadata": {}
  },
  {
   "cell_type": "code",
   "execution_count": 120,
   "metadata": {},
   "outputs": [
    {
     "output_type": "execute_result",
     "data": {
      "text/plain": [
       "{'title': 'Jungle Cruise',\n",
       " 'Directed by': 'Jaume Collet-Serra',\n",
       " 'Produced by': ['John Davis',\n",
       "  'John Fox',\n",
       "  'Beau Flynn',\n",
       "  'Dwayne Johnson',\n",
       "  'Dany Garcia',\n",
       "  'Hiram Garcia'],\n",
       " 'Screenplay by': ['Michael Green', 'Glenn Ficarra', 'John Requa'],\n",
       " 'Story by': ['John Norville',\n",
       "  'Josh Goldstein',\n",
       "  'Glenn Ficarra',\n",
       "  'John Requa'],\n",
       " 'Based on': ['Jungle Cruise', 'by', 'Walt Disney'],\n",
       " 'Starring': ['Dwayne Johnson',\n",
       "  'Emily Blunt',\n",
       "  'Édgar Ramírez',\n",
       "  'Jack Whitehall',\n",
       "  'Jesse Plemons',\n",
       "  'Paul Giamatti'],\n",
       " 'Music by': 'James Newton Howard',\n",
       " 'Cinematography': 'Flavio Labiano',\n",
       " 'Edited by': 'Joel Negron',\n",
       " 'Production companies': ['Walt Disney Pictures',\n",
       "  'Davis Entertainment',\n",
       "  'Seven Bucks Productions',\n",
       "  'Flynn Picture Company'],\n",
       " 'Distributed by': 'Walt Disney Studios Motion Pictures',\n",
       " 'Release date': ['July30,2021 (United States)'],\n",
       " 'Running time': '90 minutes',\n",
       " 'Country': 'United States',\n",
       " 'Language': 'English'}"
      ]
     },
     "metadata": {},
     "execution_count": 120
    }
   ],
   "source": [
    "movie_info_list[-10]"
   ]
  },
  {
   "cell_type": "code",
   "execution_count": 121,
   "metadata": {},
   "outputs": [
    {
     "output_type": "stream",
     "name": "stdout",
     "text": [
      "['41 minutes (74 minutes 1966 release)', '83 minutes', '88 minutes', '126 minutes', '74 minutes', '64 minutes', '70 minutes', '42 minutes', '70 min', '71 minutes', '75 minutes', '94 minutes', '73 minutes', '75 minutes', '82 minutes', '68 minutes', '74 minutes', '96 minutes', '75 minutes', '84 minutes', '77 minutes', '92 minutes', '69 minutes', '81 minutes', ['60 minutes (VHS version)', '71 minutes (original)'], '127 minutes', '92 minutes', '76 minutes', '75 minutes', '73 minutes', '85 minutes', '81 minutes', '70 minutes', '90 min.', '80 minutes', '75 minutes', '83 minutes', '83 minutes', '72 minutes', '97 minutes', '75 minutes', '104 minutes', '93 minutes', '105 minutes', '95 minutes', '97 minutes', '134 minutes', '69 minutes', '92 minutes', '126 minutes', '79 minutes', '97 minutes', '128 minutes', '74 minutes', '91 minutes', '105 minutes', '98 minutes', '130 minutes', '89 min.', '93 minutes', '67 minutes', '98 minutes', '100 minutes', '118 minutes', '103 Minutes', '110 minutes', '80 min.', '79 minutes', '91 minutes', '91 minutes', '97 minutes', '118 minutes', '139 minutes', '92 minutes', '131 mins.', '87 minutes', '116 minutes', '93 minutes', '110 min.', '110 min.', '131 minutes', '101 minutes', '108 minutes', '84 minutes', '78 minutes', '75 minutes', ['164 minutes', '(', 'Los Angeles', 'premiere)', '144 minutes', '(', 'New York City', 'premiere)', '118 minutes', '(General release)', '172 minutes', '(', \"Director's cut\", ')'], '106 minutes', '110 minutes', '99 minutes', '113 mins.', '108 minutes', '112 minutes', '93 minutes', '91 minutes', '93 minutes', '100 minutes', '100 minutes', '79 minutes', '96 minutes', '113 minutes', '89 minutes', ['118 minutes (1971 original version)', '139 minutes (1996 reconstruction version)'], '92 minutes', '88 minutes', '92 minutes', '87 minutes', '93 minutes', '93 minutes', '93 minutes', '90 Minutes', '83 minutes', '96 minutes', '88 minutes', '89 minutes', '91 minutes', '93 minutes', '92 minutes', '97 min.', '100 minutes', '100 minutes', '89 minutes', '91 minutes', '112 minutes', '115 minutes', '95 minutes', '91 min.', '95 minutes', '104 minutes', '74 minutes', '48 minutes', '77 minutes', '104 minutes', '128 minutes', '101 minutes', '94 minutes', '104 minutes', '90 minutes', '100 minutes', '88 minutes', '93 minutes', '98 minutes', '112 minutes', '84 minutes', '98 minutes', '97 minutes', '114 minutes', '96 minutes', '100 minutes', '109 minutes', '83 minutes', '90 minutes', '107 minutes', '96 minutes', '103 minutes', '91 min', '95 minutes', '105 minutes', '113 minutes', '80 minutes', '101 minutes', '89 minutes', '74 minutes', '90 minutes', '89 minutes', '110 minutes', '74 minutes', '93 minutes', '84 minutes', '83 minutes', '74 minutes', '77 minutes', '107 minutes', '93 minutes', '88 minutes', '108 minutes', '84 minutes', '121 minutes', '89 minutes', '104 minutes', '90 minutes', '86 minutes', '84 minutes', '108 minutes', '107 minutes', '96 minutes', '98 minutes', '105 minutes', '108 minutes', '94 minutes', '106 minutes', '102 minutes', '88 minutes', '102 minutes', '102 minutes', '97 minutes', '111 minutes', '100 minutes', '96 minutes', '98 minutes', '78 minutes', '81 minutes', '108 minutes', '89 minutes', '99 minutes', '89 minutes', '81 minutes', '92 minutes', '100 minutes', '89 minutes', '79 minutes', '91 minutes', '101 minutes', '104 minutes', '103 minutes', '86 minutes', '105 minutes', '93 minutes', '92 minutes', '98 minutes', '95 minutes', '93 minutes', '87 minutes', '93 minutes', '87 minutes', '128 minutes', '86 minutes', '95 minutes', '114 minutes', '93 minutes', '83 minutes', '83 minutes', '88 minutes', '78 minutes', '112 minutes', '92 minutes', '74 minutes', '78 minutes', '82 minutes', '104 minutes', '113 minutes', '100 minutes', '78 minutes', '83 minutes', '96 minutes', '115 minutes', '86 minutes', '92 minutes', '99 minutes', '73 minutes', '128 minutes', '85 minutes', '88 minutes', '125 minutes', '96 minutes', '104 minutes', '95 minutes', '72 minutes', '75 minutes', '61 minutes', '117 minutes', '94 minutes', '100 minutes', '143 minutes', '97 minutes', '85 minutes', '86 minutes', '50 minutes', '74 minutes', '136 minutes', '89 minutes', '76 minutes', '40 minutes', '120 minutes', '84 minutes', '113 minutes', '115 minutes', '131 minutes', '100 minutes', '68 minutes', '95 minutes', '97 minutes', '101 minutes', '119 minutes', '100 minutes', '76 minutes', '120 minutes', '81 minutes', '143 minutes', '118 minutes', '40 minutes', '120 minutes', '99 minutes', '82 minutes', '117 minutes', '150 minutes', '104 minutes', '76 minutes', '92 minutes', '95 minutes', '94 minutes', '167 minutes', '111 minutes', '82 minutes', '87 minutes', '110 minutes', '107 minutes', '124 minutes', '74 minutes', '83 minutes', '150 minutes', '97 minutes', '91 minutes', '100 minutes', '111 minutes', '96 minutes', '99 minutes', '85 minutes', ['76 minutes', '85 minutes'], '98 minutes', '97 minutes', ['99 minutes (UK)', '90 minutes (U.S.)'], '96 minutes', 'N/A', '90 minutes', '101 minutes', '107 minutes', '101 minutes', '96 minutes', '88 minutes', '97 minutes', '108 minutes', ['104 minutes (Original cut)', '84 minutes (Disney cut)'], '116 minutes', '103 minutes', '109 minutes', '115 minutes', '74 minutes', '123 minutes', '108 minutes', '100 minutes', '101 minutes', '125 minutes', 'N/A', '90 minutes', '88 minutes', '109 minutes', '89 minutes', '104 minutes', '137 minutes', '106 minutes', '69 minutes', '103 minutes', '95 minutes', '132 minutes', '77 minutes', '96 minutes', '93 minutes', '104 minutes', '87 minutes', '101 minutes', '130 minutes', '77 minutes', '104 minutes', '149 minutes', '92 minutes', '102 minutes', '125 minutes', '107 minutes', '77 minutes', '124 minutes', '97 minutes', '84minutes', '127 minutes', '81 minutes', '102 minutes', '124 minutes', '129 minutes', '106 minutes', '82 minutes', '130 minutes', '95 minutes', '154 minutes', '97 minutes', '117 minutes', '108 minutes', '106 minutes', '98 minutes', '114 minutes', '97 minutes', '117 minutes', '103 minutes', '124 minutes', '107 minutes', '161 minutes', '80 minutes', '129 minutes', '76 minutes', '129 minutes', '102 minutes', 'N/A', '162 minutes', '105 minutes', '109 minutes', '118 minutes', '104 minutes', '99 minutes', '112 minutes', '131 minutes', '112 minutes', '76 minutes', '128 minutes', '100 minutes', '118 minutes', '119 minutes', '104 minutes', '100 minutes', '103 minutes', '114 minutes', '99 minutes', '102 minutes', '107 minutes', '78 minutes', '89 minutes', '95 minutes', '160 minutes', '85 minutes', '100 minutes', '95 minutes', '115 minutes', '113 minutes', '119 minutes', '100 minutes', '95 minutes', '107 minutes', '134 minutes', '95 minutes', '90 minutes', 'N/A', 'N/A', 'N/A', '96 minutes', 'N/A', 'N/A', 'N/A', 'N/A', 'N/A']\n"
     ]
    }
   ],
   "source": [
    "print([movie.get('Running time', 'N/A') for movie in movie_info_list])\n"
   ]
  },
  {
   "cell_type": "code",
   "execution_count": 124,
   "metadata": {},
   "outputs": [
    {
     "output_type": "stream",
     "name": "stdout",
     "text": [
      "None\n"
     ]
    }
   ],
   "source": [
    "# \"70 minutes\"\n",
    "def minutes_to_integer(running_time):\n",
    "    if running_time == \"N/A\":\n",
    "       return None\n",
    "    if isinstance(running_time, list):\n",
    "        return int(running_time[0].split(\" \")[0])\n",
    "    else:\n",
    "        return int(running_time.split(\" \")[0])\n",
    "for movie in movie_info_list:\n",
    "    movie['Running time (int)'] = minutes_to_integer(movie.get('Running time', \"N/A\"))"
   ]
  },
  {
   "cell_type": "code",
   "execution_count": null,
   "metadata": {},
   "outputs": [],
   "source": []
  }
 ]
}