{
 "metadata": {
  "language_info": {
   "codemirror_mode": {
    "name": "ipython",
    "version": 3
   },
   "file_extension": ".py",
   "mimetype": "text/x-python",
   "name": "python",
   "nbconvert_exporter": "python",
   "pygments_lexer": "ipython3",
   "version": "3.9.4"
  },
  "orig_nbformat": 4,
  "kernelspec": {
   "name": "python3",
   "display_name": "Python 3.9.4 64-bit"
  },
  "interpreter": {
   "hash": "cf2be2a33dd71f995549108825127f0d77f91b0b82c0bf9829b18b4885ce616c"
  }
 },
 "nbformat": 4,
 "nbformat_minor": 2,
 "cells": [
  {
   "source": [
    "Disney Dataset Creation (w/ Python BeautifulSoup)"
   ],
   "cell_type": "markdown",
   "metadata": {}
  },
  {
   "source": [
    "Scrape & clean a list of disney wikipedia pages to create a dataset to further analyze"
   ],
   "cell_type": "markdown",
   "metadata": {}
  },
  {
   "source": [
    "Task #1: Get Info Box (store in Python dictionary)"
   ],
   "cell_type": "markdown",
   "metadata": {}
  },
  {
   "source": [
    "##Import Necessary Libraries"
   ],
   "cell_type": "markdown",
   "metadata": {}
  },
  {
   "cell_type": "code",
   "execution_count": 1,
   "metadata": {},
   "outputs": [],
   "source": [
    "from bs4 import BeautifulSoup as bs\n",
    "import requests"
   ]
  },
  {
   "source": [
    "\n",
    "Load the \"webpage\""
   ],
   "cell_type": "markdown",
   "metadata": {}
  },
  {
   "cell_type": "code",
   "execution_count": 2,
   "metadata": {
    "tags": [
     "outputPrepend"
    ]
   },
   "outputs": [
    {
     "output_type": "stream",
     "name": "stdout",
     "text": [
      "ki/%ED%86%A0%EC%9D%B4_%EC%8A%A4%ED%86%A0%EB%A6%AC_3\" hreflang=\"ko\" lang=\"ko\" title=\"토이 스토리 3 – Korean\">\n         한국어\n        </a>\n       </li>\n       <li class=\"interlanguage-link interwiki-hi\">\n        <a class=\"interlanguage-link-target\" href=\"https://hi.wikipedia.org/wiki/%E0%A4%9F%E0%A5%89%E0%A4%AF_%E0%A4%B8%E0%A5%8D%E0%A4%9F%E0%A5%8B%E0%A4%B0%E0%A5%80_3\" hreflang=\"hi\" lang=\"hi\" title=\"टॉय स्टोरी 3 – Hindi\">\n         हिन्दी\n        </a>\n       </li>\n       <li class=\"interlanguage-link interwiki-hr\">\n        <a class=\"interlanguage-link-target\" href=\"https://hr.wikipedia.org/wiki/Pri%C4%8Da_o_igra%C4%8Dkama_3\" hreflang=\"hr\" lang=\"hr\" title=\"Priča o igračkama 3 – Croatian\">\n         Hrvatski\n        </a>\n       </li>\n       <li class=\"interlanguage-link interwiki-id\">\n        <a class=\"interlanguage-link-target\" href=\"https://id.wikipedia.org/wiki/Toy_Story_3\" hreflang=\"id\" lang=\"id\" title=\"Toy Story 3 – Indonesian\">\n         Bahasa Indonesia\n        </a>\n       </li>\n       <li class=\"interlanguage-link interwiki-ia\">\n        <a class=\"interlanguage-link-target\" href=\"https://ia.wikipedia.org/wiki/Toy_Story_3\" hreflang=\"ia\" lang=\"ia\" title=\"Toy Story 3 – Interlingua\">\n         Interlingua\n        </a>\n       </li>\n       <li class=\"interlanguage-link interwiki-zu\">\n        <a class=\"interlanguage-link-target\" href=\"https://zu.wikipedia.org/wiki/Indaba_Yesithathu_Yamathoyizi\" hreflang=\"zu\" lang=\"zu\" title=\"Indaba Yesithathu Yamathoyizi – Zulu\">\n         IsiZulu\n        </a>\n       </li>\n       <li class=\"interlanguage-link interwiki-is\">\n        <a class=\"interlanguage-link-target\" href=\"https://is.wikipedia.org/wiki/Leikfangasaga_3\" hreflang=\"is\" lang=\"is\" title=\"Leikfangasaga 3 – Icelandic\">\n         Íslenska\n        </a>\n       </li>\n       <li class=\"interlanguage-link interwiki-it badge-Q17437796 badge-featuredarticle\" title=\"featured article badge\">\n        <a class=\"interlanguage-link-target\" href=\"https://it.wikipedia.org/wiki/Toy_Story_3_-_La_grande_fuga\" hreflang=\"it\" lang=\"it\" title=\"Toy Story 3 - La grande fuga – Italian\">\n         Italiano\n        </a>\n       </li>\n       <li class=\"interlanguage-link interwiki-he\">\n        <a class=\"interlanguage-link-target\" href=\"https://he.wikipedia.org/wiki/%D7%A6%D7%A2%D7%A6%D7%95%D7%A2_%D7%A9%D7%9C_%D7%A1%D7%99%D7%A4%D7%95%D7%A8_3\" hreflang=\"he\" lang=\"he\" title=\"צעצוע של סיפור 3 – Hebrew\">\n         עברית\n        </a>\n       </li>\n       <li class=\"interlanguage-link interwiki-jv\">\n        <a class=\"interlanguage-link-target\" href=\"https://jv.wikipedia.org/wiki/Toy_Story_3\" hreflang=\"jv\" lang=\"jv\" title=\"Toy Story 3 – Javanese\">\n         Jawa\n        </a>\n       </li>\n       <li class=\"interlanguage-link interwiki-ka\">\n        <a class=\"interlanguage-link-target\" href=\"https://ka.wikipedia.org/wiki/%E1%83%A1%E1%83%90%E1%83%97%E1%83%90%E1%83%9B%E1%83%90%E1%83%A8%E1%83%9D%E1%83%94%E1%83%91%E1%83%98%E1%83%A1_%E1%83%98%E1%83%A1%E1%83%A2%E1%83%9D%E1%83%A0%E1%83%98%E1%83%90_3\" hreflang=\"ka\" lang=\"ka\" title=\"სათამაშოების ისტორია 3 – Georgian\">\n         ქართული\n        </a>\n       </li>\n       <li class=\"interlanguage-link interwiki-kw\">\n        <a class=\"interlanguage-link-target\" href=\"https://kw.wikipedia.org/wiki/Toy_Story_3\" hreflang=\"kw\" lang=\"kw\" title=\"Toy Story 3 – Cornish\">\n         Kernowek\n        </a>\n       </li>\n       <li class=\"interlanguage-link interwiki-ky\">\n        <a class=\"interlanguage-link-target\" href=\"https://ky.wikipedia.org/wiki/%D0%9E%D1%8E%D0%BD%D1%87%D1%83%D0%BA_%D0%BE%D0%BA%D1%83%D1%8F%D1%81%D1%8B_3\" hreflang=\"ky\" lang=\"ky\" title=\"Оюнчук окуясы 3 – Kyrgyz\">\n         Кыргызча\n        </a>\n       </li>\n       <li class=\"interlanguage-link interwiki-la\">\n        <a class=\"interlanguage-link-target\" href=\"https://la.wikipedia.org/wiki/Toy_Story_3\" hreflang=\"la\" lang=\"la\" title=\"Toy Story 3 – Latin\">\n         Latina\n        </a>\n       </li>\n       <li class=\"interlanguage-link interwiki-lv\">\n        <a class=\"interlanguage-link-target\" href=\"https://lv.wikipedia.org/wiki/Rota%C4%BClietu_st%C4%81sts_3\" hreflang=\"lv\" lang=\"lv\" title=\"Rotaļlietu stāsts 3 – Latvian\">\n         Latviešu\n        </a>\n       </li>\n       <li class=\"interlanguage-link interwiki-lt\">\n        <a class=\"interlanguage-link-target\" href=\"https://lt.wikipedia.org/wiki/%C5%BDaisl%C5%B3_istorija_3\" hreflang=\"lt\" lang=\"lt\" title=\"Žaislų istorija 3 – Lithuanian\">\n         Lietuvių\n        </a>\n       </li>\n       <li class=\"interlanguage-link interwiki-hu\">\n        <a class=\"interlanguage-link-target\" href=\"https://hu.wikipedia.org/wiki/Toy_Story_3.\" hreflang=\"hu\" lang=\"hu\" title=\"Toy Story 3. – Hungarian\">\n         Magyar\n        </a>\n       </li>\n       <li class=\"interlanguage-link interwiki-ml\">\n        <a class=\"interlanguage-link-target\" href=\"https://ml.wikipedia.org/wiki/%E0%B4%9F%E0%B5%8B%E0%B4%AF%E0%B5%8D_%E0%B4%B8%E0%B5%8D%E0%B4%B1%E0%B5%8D%E0%B4%B1%E0%B5%8B%E0%B4%B1%E0%B4%BF_3\" hreflang=\"ml\" lang=\"ml\" title=\"ടോയ് സ്റ്റോറി 3 – Malayalam\">\n         മലയാളം\n        </a>\n       </li>\n       <li class=\"interlanguage-link interwiki-arz\">\n        <a class=\"interlanguage-link-target\" href=\"https://arz.wikipedia.org/wiki/%D9%82%D8%B5%D9%87_%D9%84%D8%B9%D8%A8%D9%87_3_(%D9%81%D9%8A%D9%84%D9%85_2010)\" hreflang=\"arz\" lang=\"arz\" title=\"قصه لعبه 3 (فيلم 2010) – Egyptian Arabic\">\n         مصرى\n        </a>\n       </li>\n       <li class=\"interlanguage-link interwiki-ms\">\n        <a class=\"interlanguage-link-target\" href=\"https://ms.wikipedia.org/wiki/Toy_Story_3\" hreflang=\"ms\" lang=\"ms\" title=\"Toy Story 3 – Malay\">\n         Bahasa Melayu\n        </a>\n       </li>\n       <li class=\"interlanguage-link interwiki-nl\">\n        <a class=\"interlanguage-link-target\" href=\"https://nl.wikipedia.org/wiki/Toy_Story_3\" hreflang=\"nl\" lang=\"nl\" title=\"Toy Story 3 – Dutch\">\n         Nederlands\n        </a>\n       </li>\n       <li class=\"interlanguage-link interwiki-ja\">\n        <a class=\"interlanguage-link-target\" href=\"https://ja.wikipedia.org/wiki/%E3%83%88%E3%82%A4%E3%83%BB%E3%82%B9%E3%83%88%E3%83%BC%E3%83%AA%E3%83%BC3\" hreflang=\"ja\" lang=\"ja\" title=\"トイ・ストーリー3 – Japanese\">\n         日本語\n        </a>\n       </li>\n       <li class=\"interlanguage-link interwiki-no\">\n        <a class=\"interlanguage-link-target\" href=\"https://no.wikipedia.org/wiki/Toy_Story_3\" hreflang=\"nb\" lang=\"nb\" title=\"Toy Story 3 – Norwegian Bokmål\">\n         Norsk bokmål\n        </a>\n       </li>\n       <li class=\"interlanguage-link interwiki-nn\">\n        <a class=\"interlanguage-link-target\" href=\"https://nn.wikipedia.org/wiki/Toy_Story_3\" hreflang=\"nn\" lang=\"nn\" title=\"Toy Story 3 – Norwegian Nynorsk\">\n         Norsk nynorsk\n        </a>\n       </li>\n       <li class=\"interlanguage-link interwiki-uz\">\n        <a class=\"interlanguage-link-target\" href=\"https://uz.wikipedia.org/wiki/O%CA%BByinchoqlar_tarixi_3\" hreflang=\"uz\" lang=\"uz\" title=\"Oʻyinchoqlar tarixi 3 – Uzbek\">\n         Oʻzbekcha/ўзбекча\n        </a>\n       </li>\n       <li class=\"interlanguage-link interwiki-pnb\">\n        <a class=\"interlanguage-link-target\" href=\"https://pnb.wikipedia.org/wiki/%D9%B9%D8%A7%D8%A6%DB%92_%D8%A7%D8%B3%D9%B9%D9%88%D8%B1%DB%8C_3\" hreflang=\"pnb\" lang=\"pnb\" title=\"ٹائے اسٹوری 3 – Western Punjabi\">\n         پنجابی\n        </a>\n       </li>\n       <li class=\"interlanguage-link interwiki-pl\">\n        <a class=\"interlanguage-link-target\" href=\"https://pl.wikipedia.org/wiki/Toy_Story_3\" hreflang=\"pl\" lang=\"pl\" title=\"Toy Story 3 – Polish\">\n         Polski\n        </a>\n       </li>\n       <li class=\"interlanguage-link interwiki-pt badge-Q17437796 badge-featuredarticle\" title=\"featured article badge\">\n        <a class=\"interlanguage-link-target\" href=\"https://pt.wikipedia.org/wiki/Toy_Story_3\" hreflang=\"pt\" lang=\"pt\" title=\"Toy Story 3 – Portuguese\">\n         Português\n        </a>\n       </li>\n       <li class=\"interlanguage-link interwiki-ro\">\n        <a class=\"interlanguage-link-target\" href=\"https://ro.wikipedia.org/wiki/Povestea_juc%C4%83riilor_3\" hreflang=\"ro\" lang=\"ro\" title=\"Povestea jucăriilor 3 – Romanian\">\n         Română\n        </a>\n       </li>\n       <li class=\"interlanguage-link interwiki-qu\">\n        <a class=\"interlanguage-link-target\" href=\"https://qu.wikipedia.org/wiki/Pukllanamanta_Willakuy_3\" hreflang=\"qu\" lang=\"qu\" title=\"Pukllanamanta Willakuy 3 – Quechua\">\n         Runa Simi\n        </a>\n       </li>\n       <li class=\"interlanguage-link interwiki-ru\">\n        <a class=\"interlanguage-link-target\" href=\"https://ru.wikipedia.org/wiki/%D0%98%D1%81%D1%82%D0%BE%D1%80%D0%B8%D1%8F_%D0%B8%D0%B3%D1%80%D1%83%D1%88%D0%B5%D0%BA:_%D0%91%D0%BE%D0%BB%D1%8C%D1%88%D0%BE%D0%B9_%D0%BF%D0%BE%D0%B1%D0%B5%D0%B3\" hreflang=\"ru\" lang=\"ru\" title=\"История игрушек: Большой побег – Russian\">\n         Русский\n        </a>\n       </li>\n       <li class=\"interlanguage-link interwiki-sco\">\n        <a class=\"interlanguage-link-target\" href=\"https://sco.wikipedia.org/wiki/Toy_Story_3\" hreflang=\"sco\" lang=\"sco\" title=\"Toy Story 3 – Scots\">\n         Scots\n        </a>\n       </li>\n       <li class=\"interlanguage-link interwiki-simple\">\n        <a class=\"interlanguage-link-target\" href=\"https://simple.wikipedia.org/wiki/Toy_Story_3\" hreflang=\"en-simple\" lang=\"en-simple\" title=\"Toy Story 3 – Simple English\">\n         Simple English\n        </a>\n       </li>\n       <li class=\"interlanguage-link interwiki-sk\">\n        <a class=\"interlanguage-link-target\" href=\"https://sk.wikipedia.org/wiki/Toy_Story_3:_Pr%C3%ADbeh_hra%C4%8Diek\" hreflang=\"sk\" lang=\"sk\" title=\"Toy Story 3: Príbeh hračiek – Slovak\">\n         Slovenčina\n        </a>\n       </li>\n       <li class=\"interlanguage-link interwiki-sr\">\n        <a class=\"interlanguage-link-target\" href=\"https://sr.wikipedia.org/wiki/%D0%9F%D1%80%D0%B8%D1%87%D0%B0_%D0%BE_%D0%B8%D0%B3%D1%80%D0%B0%D1%87%D0%BA%D0%B0%D0%BC%D0%B0_3\" hreflang=\"sr\" lang=\"sr\" title=\"Прича о играчкама 3 – Serbian\">\n         Српски / srpski\n        </a>\n       </li>\n       <li class=\"interlanguage-link interwiki-fi\">\n        <a class=\"interlanguage-link-target\" href=\"https://fi.wikipedia.org/wiki/Toy_Story_3\" hreflang=\"fi\" lang=\"fi\" title=\"Toy Story 3 – Finnish\">\n         Suomi\n        </a>\n       </li>\n       <li class=\"interlanguage-link interwiki-sv\">\n        <a class=\"interlanguage-link-target\" href=\"https://sv.wikipedia.org/wiki/Toy_Story_3\" hreflang=\"sv\" lang=\"sv\" title=\"Toy Story 3 – Swedish\">\n         Svenska\n        </a>\n       </li>\n       <li class=\"interlanguage-link interwiki-ta\">\n        <a class=\"interlanguage-link-target\" href=\"https://ta.wikipedia.org/wiki/%E0%AE%9F%E0%AE%BE%E0%AE%AF%E0%AF%8D_%E0%AE%B8%E0%AF%8D%E0%AE%9F%E0%AF%8B%E0%AE%B0%E0%AE%BF_3_(%E0%AE%A4%E0%AE%BF%E0%AE%B0%E0%AF%88%E0%AE%AA%E0%AF%8D%E0%AE%AA%E0%AE%9F%E0%AE%AE%E0%AF%8D)\" hreflang=\"ta\" lang=\"ta\" title=\"டாய் ஸ்டோரி 3 (திரைப்படம்) – Tamil\">\n         தமிழ்\n        </a>\n       </li>\n       <li class=\"interlanguage-link interwiki-th\">\n        <a class=\"interlanguage-link-target\" href=\"https://th.wikipedia.org/wiki/%E0%B8%97%E0%B8%AD%E0%B8%A2_%E0%B8%AA%E0%B8%95%E0%B8%AD%E0%B8%A3%E0%B8%B5%E0%B9%88_3\" hreflang=\"th\" lang=\"th\" title=\"ทอย สตอรี่ 3 – Thai\">\n         ไทย\n        </a>\n       </li>\n       <li class=\"interlanguage-link interwiki-tr\">\n        <a class=\"interlanguage-link-target\" href=\"https://tr.wikipedia.org/wiki/Oyuncak_Hik%C3%A2yesi_3\" hreflang=\"tr\" lang=\"tr\" title=\"Oyuncak Hikâyesi 3 – Turkish\">\n         Türkçe\n        </a>\n       </li>\n       <li class=\"interlanguage-link interwiki-uk\">\n        <a class=\"interlanguage-link-target\" href=\"https://uk.wikipedia.org/wiki/%D0%86%D1%81%D1%82%D0%BE%D1%80%D1%96%D1%8F_%D1%96%D0%B3%D1%80%D0%B0%D1%88%D0%BE%D0%BA_3\" hreflang=\"uk\" lang=\"uk\" title=\"Історія іграшок 3 – Ukrainian\">\n         Українська\n        </a>\n       </li>\n       <li class=\"interlanguage-link interwiki-ur\">\n        <a class=\"interlanguage-link-target\" href=\"https://ur.wikipedia.org/wiki/%D9%B9%D8%A7%D8%A6%DB%92_%D8%A7%D8%B3%D9%B9%D9%88%D8%B1%DB%8C_3\" hreflang=\"ur\" lang=\"ur\" title=\"ٹائے اسٹوری 3 – Urdu\">\n         اردو\n        </a>\n       </li>\n       <li class=\"interlanguage-link interwiki-vi\">\n        <a class=\"interlanguage-link-target\" href=\"https://vi.wikipedia.org/wiki/C%C3%A2u_chuy%E1%BB%87n_%C4%91%E1%BB%93_ch%C6%A1i_3\" hreflang=\"vi\" lang=\"vi\" title=\"Câu chuyện đồ chơi 3 – Vietnamese\">\n         Tiếng Việt\n        </a>\n       </li>\n       <li class=\"interlanguage-link interwiki-wuu\">\n        <a class=\"interlanguage-link-target\" href=\"https://wuu.wikipedia.org/wiki/%E7%8E%A9%E5%85%B7%E6%80%BB%E5%8A%A8%E5%91%983\" hreflang=\"wuu\" lang=\"wuu\" title=\"玩具总动员3 – Wu Chinese\">\n         吴语\n        </a>\n       </li>\n       <li class=\"interlanguage-link interwiki-yi\">\n        <a class=\"interlanguage-link-target\" href=\"https://yi.wikipedia.org/wiki/%D7%A6%D7%90%D7%A6%D7%A7%D7%A2_%D7%9E%D7%A2%D7%A9%D7%94_3\" hreflang=\"yi\" lang=\"yi\" title=\"צאצקע מעשה 3 – Yiddish\">\n         ייִדיש\n        </a>\n       </li>\n       <li class=\"interlanguage-link interwiki-zh-yue\">\n        <a class=\"interlanguage-link-target\" href=\"https://zh-yue.wikipedia.org/wiki/%E5%8F%8D%E6%96%97%E5%A5%87%E5%85%B53\" hreflang=\"yue\" lang=\"yue\" title=\"反斗奇兵3 – Cantonese\">\n         粵語\n        </a>\n       </li>\n       <li class=\"interlanguage-link interwiki-diq\">\n        <a class=\"interlanguage-link-target\" href=\"https://diq.wikipedia.org/wiki/Toy_Story_3\" hreflang=\"diq\" lang=\"diq\" title=\"Toy Story 3 – Zazaki\">\n         Zazaki\n        </a>\n       </li>\n       <li class=\"interlanguage-link interwiki-zh\">\n        <a class=\"interlanguage-link-target\" href=\"https://zh.wikipedia.org/wiki/%E7%8E%A9%E5%85%B7%E7%B8%BD%E5%8B%95%E5%93%A13\" hreflang=\"zh\" lang=\"zh\" title=\"玩具總動員3 – Chinese\">\n         中文\n        </a>\n       </li>\n      </ul>\n      <div class=\"after-portlet after-portlet-lang\">\n       <span class=\"wb-langlinks-edit wb-langlinks-link\">\n        <a class=\"wbc-editpage\" href=\"https://www.wikidata.org/wiki/Special:EntityPage/Q187278#sitelinks-wikipedia\" title=\"Edit interlanguage links\">\n         Edit links\n        </a>\n       </span>\n      </div>\n     </div>\n    </nav>\n   </div>\n  </div>\n  <footer class=\"mw-footer\" id=\"footer\" role=\"contentinfo\">\n   <ul id=\"footer-info\">\n    <li id=\"footer-info-lastmod\">\n     This page was last edited on 16 June 2021, at 16:48\n     <span class=\"anonymous-show\">\n      (UTC)\n     </span>\n     .\n    </li>\n    <li id=\"footer-info-copyright\">\n     Text is available under the\n     <a href=\"//en.wikipedia.org/wiki/Wikipedia:Text_of_Creative_Commons_Attribution-ShareAlike_3.0_Unported_License\" rel=\"license\">\n      Creative Commons Attribution-ShareAlike License\n     </a>\n     <a href=\"//creativecommons.org/licenses/by-sa/3.0/\" rel=\"license\" style=\"display:none;\">\n     </a>\n     ;\nadditional terms may apply.  By using this site, you agree to the\n     <a href=\"//foundation.wikimedia.org/wiki/Terms_of_Use\">\n      Terms of Use\n     </a>\n     and\n     <a href=\"//foundation.wikimedia.org/wiki/Privacy_policy\">\n      Privacy Policy\n     </a>\n     . Wikipedia® is a registered trademark of the\n     <a href=\"//www.wikimediafoundation.org/\">\n      Wikimedia Foundation, Inc.\n     </a>\n     , a non-profit organization.\n    </li>\n   </ul>\n   <ul id=\"footer-places\">\n    <li id=\"footer-places-privacy\">\n     <a class=\"extiw\" href=\"https://foundation.wikimedia.org/wiki/Privacy_policy\" title=\"wmf:Privacy policy\">\n      Privacy policy\n     </a>\n    </li>\n    <li id=\"footer-places-about\">\n     <a href=\"/wiki/Wikipedia:About\" title=\"Wikipedia:About\">\n      About Wikipedia\n     </a>\n    </li>\n    <li id=\"footer-places-disclaimer\">\n     <a href=\"/wiki/Wikipedia:General_disclaimer\" title=\"Wikipedia:General disclaimer\">\n      Disclaimers\n     </a>\n    </li>\n    <li id=\"footer-places-contact\">\n     <a href=\"//en.wikipedia.org/wiki/Wikipedia:Contact_us\">\n      Contact Wikipedia\n     </a>\n    </li>\n    <li id=\"footer-places-mobileview\">\n     <a class=\"noprint stopMobileRedirectToggle\" href=\"//en.m.wikipedia.org/w/index.php?title=Toy_Story_3&amp;mobileaction=toggle_view_mobile\">\n      Mobile view\n     </a>\n    </li>\n    <li id=\"footer-places-developers\">\n     <a href=\"https://www.mediawiki.org/wiki/Special:MyLanguage/How_to_contribute\">\n      Developers\n     </a>\n    </li>\n    <li id=\"footer-places-statslink\">\n     <a href=\"https://stats.wikimedia.org/#/en.wikipedia.org\">\n      Statistics\n     </a>\n    </li>\n    <li id=\"footer-places-cookiestatement\">\n     <a href=\"https://foundation.wikimedia.org/wiki/Cookie_statement\">\n      Cookie statement\n     </a>\n    </li>\n   </ul>\n   <ul class=\"noprint\" id=\"footer-icons\">\n    <li id=\"footer-copyrightico\">\n     <a href=\"https://wikimediafoundation.org/\">\n      <img alt=\"Wikimedia Foundation\" height=\"31\" loading=\"lazy\" src=\"/static/images/footer/wikimedia-button.png\" srcset=\"/static/images/footer/wikimedia-button-1.5x.png 1.5x, /static/images/footer/wikimedia-button-2x.png 2x\" width=\"88\"/>\n     </a>\n    </li>\n    <li id=\"footer-poweredbyico\">\n     <a href=\"https://www.mediawiki.org/\">\n      <img alt=\"Powered by MediaWiki\" height=\"31\" loading=\"lazy\" src=\"/static/images/footer/poweredby_mediawiki_88x31.png\" srcset=\"/static/images/footer/poweredby_mediawiki_132x47.png 1.5x, /static/images/footer/poweredby_mediawiki_176x62.png 2x\" width=\"88\"/>\n     </a>\n    </li>\n   </ul>\n  </footer>\n  <script>\n   (RLQ=window.RLQ||[]).push(function(){mw.config.set({\"wgPageParseReport\":{\"limitreport\":{\"cputime\":\"2.949\",\"walltime\":\"3.485\",\"ppvisitednodes\":{\"value\":14267,\"limit\":1000000},\"postexpandincludesize\":{\"value\":923422,\"limit\":2097152},\"templateargumentsize\":{\"value\":223200,\"limit\":2097152},\"expansiondepth\":{\"value\":24,\"limit\":40},\"expensivefunctioncount\":{\"value\":15,\"limit\":500},\"unstrip-depth\":{\"value\":1,\"limit\":20},\"unstrip-size\":{\"value\":579874,\"limit\":5000000},\"entityaccesscount\":{\"value\":1,\"limit\":400},\"timingprofile\":[\"100.00% 2767.807      1 -total\",\" 41.99% 1162.170      1 Template:Reflist\",\" 19.86%  549.794    112 Template:Cite_web\",\" 12.93%  357.862     52 Template:Cite_news\",\" 12.43%  344.044      2 Template:Navboxes\",\"  7.63%  211.058      4 Template:Infobox\",\"  6.77%  187.467     33 Template:Navbox\",\"  5.44%  150.452      1 Template:Albumchart\",\"  5.11%  141.420      1 Template:Infobox_film\",\"  4.23%  117.216      1 Template:Infobox_album\"]},\"scribunto\":{\"limitreport-timeusage\":{\"value\":\"1.318\",\"limit\":\"10.000\"},\"limitreport-memusage\":{\"value\":11581462,\"limit\":52428800},\"limitreport-profile\":[[\"?\",\"480\",\"31.2\"],[\"Scribunto_LuaSandboxCallback::match\",\"160\",\"10.4\"],[\"Scribunto_LuaSandboxCallback::getExpandedArgument\",\"120\",\"7.8\"],[\"Scribunto_LuaSandboxCallback::callParserFunction\",\"120\",\"7.8\"],[\"Scribunto_LuaSandboxCallback::plain\",\"100\",\"6.5\"],[\"Scribunto_LuaSandboxCallback::gsub\",\"100\",\"6.5\"],[\"recursiveClone \\u003CmwInit.lua:41\\u003E\",\"80\",\"5.2\"],[\"citation0 \\u003CModule:Citation/CS1:2400\\u003E\",\"40\",\"2.6\"],[\"\\u003CModule:Citation/CS1:829\\u003E\",\"40\",\"2.6\"],[\"Scribunto_LuaSandboxCallback::getAllExpandedArguments\",\"40\",\"2.6\"],[\"[others]\",\"260\",\"16.9\"]]},\"cachereport\":{\"origin\":\"mw1263\",\"timestamp\":\"20210622035845\",\"ttl\":3600,\"transientcontent\":true}}});});\n  </script>\n  <script type=\"application/ld+json\">\n   {\"@context\":\"https:\\/\\/schema.org\",\"@type\":\"Article\",\"name\":\"Toy Story 3\",\"url\":\"https:\\/\\/en.wikipedia.org\\/wiki\\/Toy_Story_3\",\"sameAs\":\"http:\\/\\/www.wikidata.org\\/entity\\/Q187278\",\"mainEntity\":\"http:\\/\\/www.wikidata.org\\/entity\\/Q187278\",\"author\":{\"@type\":\"Organization\",\"name\":\"Contributors to Wikimedia projects\"},\"publisher\":{\"@type\":\"Organization\",\"name\":\"Wikimedia Foundation, Inc.\",\"logo\":{\"@type\":\"ImageObject\",\"url\":\"https:\\/\\/www.wikimedia.org\\/static\\/images\\/wmf-hor-googpub.png\"}},\"datePublished\":\"2004-11-27T03:49:41Z\",\"dateModified\":\"2021-06-16T16:48:08Z\",\"image\":\"https:\\/\\/upload.wikimedia.org\\/wikipedia\\/en\\/6\\/69\\/Toy_Story_3_poster.jpg\",\"headline\":\"2010 American animated film directed by Lee Unkrich\"}\n  </script>\n  <script>\n   (RLQ=window.RLQ||[]).push(function(){mw.config.set({\"wgBackendResponseTime\":225,\"wgHostname\":\"mw1273\"});});\n  </script>\n </body>\n</html>\n"
     ]
    }
   ],
   "source": [
    "\n",
    "r = requests.get(\"https://en.wikipedia.org/wiki/Toy_Story_3\")\n",
    "\n",
    "# Convert to a beautiful soup object\n",
    "soup = bs(r.content)\n",
    "\n",
    "# Print out the HTML\n",
    "contents = soup.prettify()\n",
    "print(contents)"
   ]
  },
  {
   "cell_type": "code",
   "execution_count": 3,
   "metadata": {},
   "outputs": [
    {
     "output_type": "stream",
     "name": "stdout",
     "text": [
      "<tr>\n <th class=\"infobox-above summary\" colspan=\"2\" style=\"font-size:110%;font-style:italic;\">\n  Toy Story 3\n </th>\n</tr>\n\n<tr>\n <td class=\"infobox-image\" colspan=\"2\">\n  <a class=\"image\" href=\"/wiki/File:Toy_Story_3_poster.jpg\" title=\"All of the toys packed close together, holding up a large numeral '3', with Buzz, who is putting a friendly arm around Woody's shoulder, and Woody holding the top of the 3.\">\n   <img alt=\"All of the toys packed close together, holding up a large numeral '3', with Buzz, who is putting a friendly arm around Woody's shoulder, and Woody holding the top of the 3.\" class=\"thumbborder\" data-file-height=\"326\" data-file-width=\"220\" decoding=\"async\" height=\"326\" src=\"//upload.wikimedia.org/wikipedia/en/6/69/Toy_Story_3_poster.jpg\" width=\"220\"/>\n  </a>\n  <div class=\"infobox-caption\" style=\"font-size:95%;padding:0.35em 0.35em 0.25em;line-height:1.25em;\">\n   Theatrical release poster\n  </div>\n </td>\n</tr>\n\n<tr>\n <th class=\"infobox-label\" scope=\"row\" style=\"white-space:nowrap;padding-right:0.65em;\">\n  Directed by\n </th>\n <td class=\"infobox-data\">\n  <a href=\"/wiki/Lee_Unkrich\" title=\"Lee Unkrich\">\n   Lee Unkrich\n  </a>\n </td>\n</tr>\n\n<tr>\n <th class=\"infobox-label\" scope=\"row\" style=\"white-space:nowrap;padding-right:0.65em;\">\n  Produced by\n </th>\n <td class=\"infobox-data\">\n  <a href=\"/wiki/Darla_K._Anderson\" title=\"Darla K. Anderson\">\n   Darla K. Anderson\n  </a>\n </td>\n</tr>\n\n<tr>\n <th class=\"infobox-label\" scope=\"row\" style=\"white-space:nowrap;padding-right:0.65em;\">\n  Screenplay by\n </th>\n <td class=\"infobox-data\">\n  <a href=\"/wiki/Michael_Arndt\" title=\"Michael Arndt\">\n   Michael Arndt\n  </a>\n </td>\n</tr>\n\n<tr>\n <th class=\"infobox-label\" scope=\"row\" style=\"white-space:nowrap;padding-right:0.65em;\">\n  Story by\n </th>\n <td class=\"infobox-data\">\n  <div class=\"plainlist\">\n   <ul>\n    <li>\n     <a href=\"/wiki/John_Lasseter\" title=\"John Lasseter\">\n      John Lasseter\n     </a>\n    </li>\n    <li>\n     <a href=\"/wiki/Andrew_Stanton\" title=\"Andrew Stanton\">\n      Andrew Stanton\n     </a>\n    </li>\n    <li>\n     Lee Unkrich\n    </li>\n   </ul>\n  </div>\n </td>\n</tr>\n\n<tr>\n <th class=\"infobox-label\" scope=\"row\" style=\"white-space:nowrap;padding-right:0.65em;\">\n  Starring\n </th>\n <td class=\"infobox-data\">\n  <div class=\"plainlist\">\n   <ul>\n    <li>\n     <a href=\"/wiki/Tom_Hanks\" title=\"Tom Hanks\">\n      Tom Hanks\n     </a>\n    </li>\n    <li>\n     <a href=\"/wiki/Tim_Allen\" title=\"Tim Allen\">\n      Tim Allen\n     </a>\n    </li>\n    <li>\n     <a href=\"/wiki/Joan_Cusack\" title=\"Joan Cusack\">\n      Joan Cusack\n     </a>\n    </li>\n    <li>\n     <a href=\"/wiki/Don_Rickles\" title=\"Don Rickles\">\n      Don Rickles\n     </a>\n    </li>\n    <li>\n     <a href=\"/wiki/Wallace_Shawn\" title=\"Wallace Shawn\">\n      Wallace Shawn\n     </a>\n    </li>\n    <li>\n     <a href=\"/wiki/John_Ratzenberger\" title=\"John Ratzenberger\">\n      John Ratzenberger\n     </a>\n    </li>\n    <li>\n     <a href=\"/wiki/Estelle_Harris\" title=\"Estelle Harris\">\n      Estelle Harris\n     </a>\n    </li>\n    <li>\n     <a href=\"/wiki/Ned_Beatty\" title=\"Ned Beatty\">\n      Ned Beatty\n     </a>\n    </li>\n    <li>\n     <a href=\"/wiki/Michael_Keaton\" title=\"Michael Keaton\">\n      Michael Keaton\n     </a>\n    </li>\n    <li>\n     <a href=\"/wiki/Jodi_Benson\" title=\"Jodi Benson\">\n      Jodi Benson\n     </a>\n    </li>\n    <li>\n     <a href=\"/wiki/John_Morris_(actor)\" title=\"John Morris (actor)\">\n      John Morris\n     </a>\n    </li>\n   </ul>\n  </div>\n </td>\n</tr>\n\n<tr>\n <th class=\"infobox-label\" scope=\"row\" style=\"white-space:nowrap;padding-right:0.65em;\">\n  Music by\n </th>\n <td class=\"infobox-data\">\n  <a href=\"/wiki/Randy_Newman\" title=\"Randy Newman\">\n   Randy Newman\n  </a>\n </td>\n</tr>\n\n<tr>\n <th class=\"infobox-label\" scope=\"row\" style=\"white-space:nowrap;padding-right:0.65em;\">\n  Cinematography\n </th>\n <td class=\"infobox-data\">\n  <div class=\"plainlist\">\n   <ul>\n    <li>\n     Jeremy Lasky\n    </li>\n    <li>\n     Kim White\n    </li>\n   </ul>\n  </div>\n </td>\n</tr>\n\n<tr>\n <th class=\"infobox-label\" scope=\"row\" style=\"white-space:nowrap;padding-right:0.65em;\">\n  Edited by\n </th>\n <td class=\"infobox-data\">\n  <a href=\"/wiki/Ken_Schretzmann\" title=\"Ken Schretzmann\">\n   Ken Schretzmann\n  </a>\n </td>\n</tr>\n\n<tr>\n <th class=\"infobox-label\" scope=\"row\" style=\"white-space:nowrap;padding-right:0.65em;\">\n  <div style=\"display:inline-block; padding:0.1em 0;line-height:1.2em;\">\n   Production\n   <br/>\n   companies\n  </div>\n </th>\n <td class=\"infobox-data\">\n  <div style=\"vertical-align:middle;\">\n   <div class=\"plainlist\">\n    <ul>\n     <li>\n      <a href=\"/wiki/Walt_Disney_Pictures\" title=\"Walt Disney Pictures\">\n       Walt Disney Pictures\n      </a>\n     </li>\n     <li>\n      <a class=\"mw-redirect\" href=\"/wiki/Pixar_Animation_Studios\" title=\"Pixar Animation Studios\">\n       Pixar Animation Studios\n      </a>\n     </li>\n    </ul>\n   </div>\n  </div>\n </td>\n</tr>\n\n<tr>\n <th class=\"infobox-label\" scope=\"row\" style=\"white-space:nowrap;padding-right:0.65em;\">\n  Distributed by\n </th>\n <td class=\"infobox-data\">\n  <a href=\"/wiki/Walt_Disney_Studios_Motion_Pictures\" title=\"Walt Disney Studios Motion Pictures\">\n   Walt Disney Studios\n   <br/>\n   Motion Pictures\n  </a>\n </td>\n</tr>\n\n<tr>\n <th class=\"infobox-label\" scope=\"row\" style=\"white-space:nowrap;padding-right:0.65em;\">\n  <div style=\"display:inline-block; padding:0.1em 0;line-height:1.2em;white-space:normal;\">\n   Release date\n  </div>\n </th>\n <td class=\"infobox-data\">\n  <div class=\"plainlist\">\n   <ul>\n    <li>\n     June 12, 2010\n     <span style=\"display:none\">\n      (\n      <span class=\"bday dtstart published updated\">\n       2010-06-12\n      </span>\n      )\n     </span>\n     (\n     <a href=\"/wiki/Taormina_Film_Fest\" title=\"Taormina Film Fest\">\n      Taormina Film Fest\n     </a>\n     )\n    </li>\n    <li>\n     June 18, 2010\n     <span style=\"display:none\">\n      (\n      <span class=\"bday dtstart published updated\">\n       2010-06-18\n      </span>\n      )\n     </span>\n     (United States)\n    </li>\n   </ul>\n  </div>\n </td>\n</tr>\n\n<tr>\n <th class=\"infobox-label\" scope=\"row\" style=\"white-space:nowrap;padding-right:0.65em;\">\n  <div style=\"display:inline-block; padding:0.1em 0;line-height:1.2em;white-space:normal;\">\n   Running time\n  </div>\n </th>\n <td class=\"infobox-data\">\n  103 minutes\n  <sup class=\"reference\" id=\"cite_ref-mojo1_1-0\">\n   <a href=\"#cite_note-mojo1-1\">\n    [1]\n   </a>\n  </sup>\n </td>\n</tr>\n\n<tr>\n <th class=\"infobox-label\" scope=\"row\" style=\"white-space:nowrap;padding-right:0.65em;\">\n  Country\n </th>\n <td class=\"infobox-data\">\n  United States\n </td>\n</tr>\n\n<tr>\n <th class=\"infobox-label\" scope=\"row\" style=\"white-space:nowrap;padding-right:0.65em;\">\n  Language\n </th>\n <td class=\"infobox-data\">\n  English\n </td>\n</tr>\n\n<tr>\n <th class=\"infobox-label\" scope=\"row\" style=\"white-space:nowrap;padding-right:0.65em;\">\n  Budget\n </th>\n <td class=\"infobox-data\">\n  $200 million\n  <sup class=\"reference\" id=\"cite_ref-mojo1_1-1\">\n   <a href=\"#cite_note-mojo1-1\">\n    [1]\n   </a>\n  </sup>\n </td>\n</tr>\n\n<tr>\n <th class=\"infobox-label\" scope=\"row\" style=\"white-space:nowrap;padding-right:0.65em;\">\n  Box office\n </th>\n <td class=\"infobox-data\">\n  $1.067 billion\n  <sup class=\"reference\" id=\"cite_ref-mojo1_1-2\">\n   <a href=\"#cite_note-mojo1-1\">\n    [1]\n   </a>\n  </sup>\n </td>\n</tr>\n"
     ]
    }
   ],
   "source": [
    "info_box = soup.find(class_=\"infobox vevent\")\n",
    "info_rows = info_box.find_all(\"tr\")\n",
    "for row in info_rows:\n",
    "    print(row.prettify())"
   ]
  },
  {
   "cell_type": "code",
   "execution_count": 4,
   "metadata": {},
   "outputs": [
    {
     "output_type": "execute_result",
     "data": {
      "text/plain": [
       "{'title': 'Toy Story 3',\n",
       " 'Directed by': 'Lee Unkrich',\n",
       " 'Produced by': 'Darla K. Anderson',\n",
       " 'Screenplay by': 'Michael Arndt',\n",
       " 'Story by': ['John Lasseter', 'Andrew Stanton', 'Lee Unkrich'],\n",
       " 'Starring': ['Tom Hanks',\n",
       "  'Tim Allen',\n",
       "  'Joan Cusack',\n",
       "  'Don Rickles',\n",
       "  'Wallace Shawn',\n",
       "  'John Ratzenberger',\n",
       "  'Estelle Harris',\n",
       "  'Ned Beatty',\n",
       "  'Michael Keaton',\n",
       "  'Jodi Benson',\n",
       "  'John Morris'],\n",
       " 'Music by': 'Randy Newman',\n",
       " 'Cinematography': ['Jeremy Lasky', 'Kim White'],\n",
       " 'Edited by': 'Ken Schretzmann',\n",
       " 'Production companies': ['Walt Disney Pictures', 'Pixar Animation Studios'],\n",
       " 'Distributed by': 'Walt Disney Studios Motion Pictures',\n",
       " 'Release date': ['June12,2010 ( 2010-06-12 ) ( Taormina Film Fest )',\n",
       "  'June18,2010 ( 2010-06-18 ) (United States)'],\n",
       " 'Running time': '103 minutes [1]',\n",
       " 'Country': 'United States',\n",
       " 'Language': 'English',\n",
       " 'Budget': '$200million [1]',\n",
       " 'Box office': '$1.067billion [1]'}"
      ]
     },
     "metadata": {},
     "execution_count": 4
    }
   ],
   "source": [
    "def get_content_value(row_data):\n",
    "    if row_data.find(\"li\"):\n",
    "        return [li.get_text(\" \", strip=True).replace(\"\\xa0\", \"\") for li in row_data.find_all(\"li\")]\n",
    "    else:\n",
    "        return row_data.get_text(\" \", strip=True).replace(\"\\xa0\", \"\")\n",
    "\n",
    "movie_info = {}    \n",
    "\n",
    "\n",
    "for index, row in enumerate(info_rows):\n",
    "    if index == 0:\n",
    "        movie_info['title'] = row.find(\"th\").get_text(\" \", strip=True)\n",
    "    elif index == 1:\n",
    "        continue\n",
    "    else:\n",
    "        content_key = row.find(\"th\").get_text(\" \", strip=True)\n",
    "        content_value = get_content_value(row.find(\"td\"))\n",
    "        movie_info[content_key] = content_value        \n",
    "\n",
    "movie_info\n",
    "#string replacement = .replace(\"old\", \"new\")\n",
    "#get text method doc beatiful soup = get_text(\" \", strip=True)"
   ]
  },
  {
   "source": [
    "Task #2: Get info box for all movies"
   ],
   "cell_type": "markdown",
   "metadata": {}
  },
  {
   "cell_type": "code",
   "execution_count": 5,
   "metadata": {
    "tags": [
     "outputPrepend"
    ]
   },
   "outputs": [
    {
     "output_type": "stream",
     "name": "stdout",
     "text": [
      "        More\n       </span>\n      </h3>\n      <div class=\"vector-menu-content\">\n       <ul class=\"vector-menu-content-list\">\n       </ul>\n      </div>\n     </nav>\n     <div id=\"p-search\" role=\"search\">\n      <h3>\n       <label for=\"searchInput\">\n        Search\n       </label>\n      </h3>\n      <form action=\"/w/index.php\" id=\"searchform\">\n       <div data-search-loc=\"header-navigation\" id=\"simpleSearch\">\n        <input accesskey=\"f\" autocapitalize=\"sentences\" id=\"searchInput\" name=\"search\" placeholder=\"Search Wikipedia\" title=\"Search Wikipedia [f]\" type=\"search\"/>\n        <input name=\"title\" type=\"hidden\" value=\"Special:Search\"/>\n        <input class=\"searchButton mw-fallbackSearchButton\" id=\"mw-searchButton\" name=\"fulltext\" title=\"Search Wikipedia for this text\" type=\"submit\" value=\"Search\"/>\n        <input class=\"searchButton\" id=\"searchButton\" name=\"go\" title=\"Go to a page with this exact name if it exists\" type=\"submit\" value=\"Go\"/>\n       </div>\n      </form>\n     </div>\n    </div>\n   </div>\n   <div id=\"mw-panel\">\n    <div id=\"p-logo\" role=\"banner\">\n     <a class=\"mw-wiki-logo\" href=\"/wiki/Main_Page\" title=\"Visit the main page\">\n     </a>\n    </div>\n    <nav aria-labelledby=\"p-navigation-label\" class=\"mw-portlet mw-portlet-navigation vector-menu vector-menu-portal portal\" id=\"p-navigation\" role=\"navigation\">\n     <h3 class=\"vector-menu-heading\" id=\"p-navigation-label\">\n      <span>\n       Navigation\n      </span>\n     </h3>\n     <div class=\"vector-menu-content\">\n      <ul class=\"vector-menu-content-list\">\n       <li id=\"n-mainpage-description\">\n        <a accesskey=\"z\" href=\"/wiki/Main_Page\" title=\"Visit the main page [z]\">\n         Main page\n        </a>\n       </li>\n       <li id=\"n-contents\">\n        <a href=\"/wiki/Wikipedia:Contents\" title=\"Guides to browsing Wikipedia\">\n         Contents\n        </a>\n       </li>\n       <li id=\"n-currentevents\">\n        <a href=\"/wiki/Portal:Current_events\" title=\"Articles related to current events\">\n         Current events\n        </a>\n       </li>\n       <li id=\"n-randompage\">\n        <a accesskey=\"x\" href=\"/wiki/Special:Random\" title=\"Visit a randomly selected article [x]\">\n         Random article\n        </a>\n       </li>\n       <li id=\"n-aboutsite\">\n        <a href=\"/wiki/Wikipedia:About\" title=\"Learn about Wikipedia and how it works\">\n         About Wikipedia\n        </a>\n       </li>\n       <li id=\"n-contactpage\">\n        <a href=\"//en.wikipedia.org/wiki/Wikipedia:Contact_us\" title=\"How to contact Wikipedia\">\n         Contact us\n        </a>\n       </li>\n       <li id=\"n-sitesupport\">\n        <a href=\"https://donate.wikimedia.org/wiki/Special:FundraiserRedirector?utm_source=donate&amp;utm_medium=sidebar&amp;utm_campaign=C13_en.wikipedia.org&amp;uselang=en\" title=\"Support us by donating to the Wikimedia Foundation\">\n         Donate\n        </a>\n       </li>\n      </ul>\n     </div>\n    </nav>\n    <nav aria-labelledby=\"p-interaction-label\" class=\"mw-portlet mw-portlet-interaction vector-menu vector-menu-portal portal\" id=\"p-interaction\" role=\"navigation\">\n     <h3 class=\"vector-menu-heading\" id=\"p-interaction-label\">\n      <span>\n       Contribute\n      </span>\n     </h3>\n     <div class=\"vector-menu-content\">\n      <ul class=\"vector-menu-content-list\">\n       <li id=\"n-help\">\n        <a href=\"/wiki/Help:Contents\" title=\"Guidance on how to use and edit Wikipedia\">\n         Help\n        </a>\n       </li>\n       <li id=\"n-introduction\">\n        <a href=\"/wiki/Help:Introduction\" title=\"Learn how to edit Wikipedia\">\n         Learn to edit\n        </a>\n       </li>\n       <li id=\"n-portal\">\n        <a href=\"/wiki/Wikipedia:Community_portal\" title=\"The hub for editors\">\n         Community portal\n        </a>\n       </li>\n       <li id=\"n-recentchanges\">\n        <a accesskey=\"r\" href=\"/wiki/Special:RecentChanges\" title=\"A list of recent changes to Wikipedia [r]\">\n         Recent changes\n        </a>\n       </li>\n       <li id=\"n-upload\">\n        <a href=\"/wiki/Wikipedia:File_Upload_Wizard\" title=\"Add images or other media for use on Wikipedia\">\n         Upload file\n        </a>\n       </li>\n      </ul>\n     </div>\n    </nav>\n    <nav aria-labelledby=\"p-tb-label\" class=\"mw-portlet mw-portlet-tb vector-menu vector-menu-portal portal\" id=\"p-tb\" role=\"navigation\">\n     <h3 class=\"vector-menu-heading\" id=\"p-tb-label\">\n      <span>\n       Tools\n      </span>\n     </h3>\n     <div class=\"vector-menu-content\">\n      <ul class=\"vector-menu-content-list\">\n       <li id=\"t-whatlinkshere\">\n        <a accesskey=\"j\" href=\"/wiki/Special:WhatLinksHere/List_of_Walt_Disney_Pictures_films\" title=\"List of all English Wikipedia pages containing links to this page [j]\">\n         What links here\n        </a>\n       </li>\n       <li id=\"t-recentchangeslinked\">\n        <a accesskey=\"k\" href=\"/wiki/Special:RecentChangesLinked/List_of_Walt_Disney_Pictures_films\" rel=\"nofollow\" title=\"Recent changes in pages linked from this page [k]\">\n         Related changes\n        </a>\n       </li>\n       <li id=\"t-upload\">\n        <a accesskey=\"u\" href=\"/wiki/Wikipedia:File_Upload_Wizard\" title=\"Upload files [u]\">\n         Upload file\n        </a>\n       </li>\n       <li id=\"t-specialpages\">\n        <a accesskey=\"q\" href=\"/wiki/Special:SpecialPages\" title=\"A list of all special pages [q]\">\n         Special pages\n        </a>\n       </li>\n       <li id=\"t-permalink\">\n        <a href=\"/w/index.php?title=List_of_Walt_Disney_Pictures_films&amp;oldid=1029561012\" title=\"Permanent link to this revision of this page\">\n         Permanent link\n        </a>\n       </li>\n       <li id=\"t-info\">\n        <a href=\"/w/index.php?title=List_of_Walt_Disney_Pictures_films&amp;action=info\" title=\"More information about this page\">\n         Page information\n        </a>\n       </li>\n       <li id=\"t-cite\">\n        <a href=\"/w/index.php?title=Special:CiteThisPage&amp;page=List_of_Walt_Disney_Pictures_films&amp;id=1029561012&amp;wpFormIdentifier=titleform\" title=\"Information on how to cite this page\">\n         Cite this page\n        </a>\n       </li>\n       <li id=\"t-wikibase\">\n        <a accesskey=\"g\" href=\"https://www.wikidata.org/wiki/Special:EntityPage/Q835515\" title=\"Structured data on this page hosted by Wikidata [g]\">\n         Wikidata item\n        </a>\n       </li>\n      </ul>\n     </div>\n    </nav>\n    <nav aria-labelledby=\"p-coll-print_export-label\" class=\"mw-portlet mw-portlet-coll-print_export vector-menu vector-menu-portal portal\" id=\"p-coll-print_export\" role=\"navigation\">\n     <h3 class=\"vector-menu-heading\" id=\"p-coll-print_export-label\">\n      <span>\n       Print/export\n      </span>\n     </h3>\n     <div class=\"vector-menu-content\">\n      <ul class=\"vector-menu-content-list\">\n       <li id=\"coll-download-as-rl\">\n        <a href=\"/w/index.php?title=Special:DownloadAsPdf&amp;page=List_of_Walt_Disney_Pictures_films&amp;action=show-download-screen\" title=\"Download this page as a PDF file\">\n         Download as PDF\n        </a>\n       </li>\n       <li id=\"t-print\">\n        <a accesskey=\"p\" href=\"/w/index.php?title=List_of_Walt_Disney_Pictures_films&amp;printable=yes\" title=\"Printable version of this page [p]\">\n         Printable version\n        </a>\n       </li>\n      </ul>\n     </div>\n    </nav>\n    <nav aria-labelledby=\"p-wikibase-otherprojects-label\" class=\"mw-portlet mw-portlet-wikibase-otherprojects vector-menu vector-menu-portal portal\" id=\"p-wikibase-otherprojects\" role=\"navigation\">\n     <h3 class=\"vector-menu-heading\" id=\"p-wikibase-otherprojects-label\">\n      <span>\n       In other projects\n      </span>\n     </h3>\n     <div class=\"vector-menu-content\">\n      <ul class=\"vector-menu-content-list\">\n       <li class=\"wb-otherproject-link wb-otherproject-commons\">\n        <a href=\"https://commons.wikimedia.org/wiki/Category:Disney_films\" hreflang=\"en\">\n         Wikimedia Commons\n        </a>\n       </li>\n      </ul>\n     </div>\n    </nav>\n    <nav aria-labelledby=\"p-lang-label\" class=\"mw-portlet mw-portlet-lang vector-menu vector-menu-portal portal\" id=\"p-lang\" role=\"navigation\">\n     <h3 class=\"vector-menu-heading\" id=\"p-lang-label\">\n      <span>\n       Languages\n      </span>\n     </h3>\n     <div class=\"vector-menu-content\">\n      <ul class=\"vector-menu-content-list\">\n       <li class=\"interlanguage-link interwiki-ar badge-Q17506997 badge-featuredlist\" title=\"featured list badge\">\n        <a class=\"interlanguage-link-target\" href=\"https://ar.wikipedia.org/wiki/%D9%82%D8%A7%D8%A6%D9%85%D8%A9_%D8%A3%D9%81%D9%84%D8%A7%D9%85_%D9%88%D8%A7%D9%84%D8%AA_%D8%AF%D9%8A%D8%B2%D9%86%D9%8A\" hreflang=\"ar\" lang=\"ar\" title=\"قائمة أفلام والت ديزني – Arabic\">\n         العربية\n        </a>\n       </li>\n       <li class=\"interlanguage-link interwiki-de\">\n        <a class=\"interlanguage-link-target\" href=\"https://de.wikipedia.org/wiki/Liste_der_Disney-Filme\" hreflang=\"de\" lang=\"de\" title=\"Liste der Disney-Filme – German\">\n         Deutsch\n        </a>\n       </li>\n       <li class=\"interlanguage-link interwiki-es\">\n        <a class=\"interlanguage-link-target\" href=\"https://es.wikipedia.org/wiki/Anexo:Pel%C3%ADculas_de_Walt_Disney_Pictures\" hreflang=\"es\" lang=\"es\" title=\"Anexo:Películas de Walt Disney Pictures – Spanish\">\n         Español\n        </a>\n       </li>\n       <li class=\"interlanguage-link interwiki-fo\">\n        <a class=\"interlanguage-link-target\" href=\"https://fo.wikipedia.org/wiki/Disney_biograffilmar\" hreflang=\"fo\" lang=\"fo\" title=\"Disney biograffilmar – Faroese\">\n         Føroyskt\n        </a>\n       </li>\n       <li class=\"interlanguage-link interwiki-fr\">\n        <a class=\"interlanguage-link-target\" href=\"https://fr.wikipedia.org/wiki/Liste_des_longs_m%C3%A9trages_en_prises_de_vues_r%C3%A9elles_produits_par_les_Studios_Disney\" hreflang=\"fr\" lang=\"fr\" title=\"Liste des longs métrages en prises de vues réelles produits par les Studios Disney – French\">\n         Français\n        </a>\n       </li>\n       <li class=\"interlanguage-link interwiki-ga\">\n        <a class=\"interlanguage-link-target\" href=\"https://ga.wikipedia.org/wiki/Liosta_Pr%C3%ADomhscann%C3%A1in_Disney\" hreflang=\"ga\" lang=\"ga\" title=\"Liosta Príomhscannáin Disney – Irish\">\n         Gaeilge\n        </a>\n       </li>\n       <li class=\"interlanguage-link interwiki-ko\">\n        <a class=\"interlanguage-link-target\" href=\"https://ko.wikipedia.org/wiki/%EC%9B%94%ED%8A%B8_%EB%94%94%EC%A6%88%EB%8B%88_%ED%94%BD%EC%B2%98%EC%8A%A4%EC%9D%98_%EC%98%81%ED%99%94_%EB%AA%A9%EB%A1%9D\" hreflang=\"ko\" lang=\"ko\" title=\"월트 디즈니 픽처스의 영화 목록 – Korean\">\n         한국어\n        </a>\n       </li>\n       <li class=\"interlanguage-link interwiki-id\">\n        <a class=\"interlanguage-link-target\" href=\"https://id.wikipedia.org/wiki/Daftar_film_Walt_Disney_Pictures\" hreflang=\"id\" lang=\"id\" title=\"Daftar film Walt Disney Pictures – Indonesian\">\n         Bahasa Indonesia\n        </a>\n       </li>\n       <li class=\"interlanguage-link interwiki-it\">\n        <a class=\"interlanguage-link-target\" href=\"https://it.wikipedia.org/wiki/Lungometraggi_Disney\" hreflang=\"it\" lang=\"it\" title=\"Lungometraggi Disney – Italian\">\n         Italiano\n        </a>\n       </li>\n       <li class=\"interlanguage-link interwiki-he\">\n        <a class=\"interlanguage-link-target\" href=\"https://he.wikipedia.org/wiki/%D7%A1%D7%A8%D7%98%D7%99_%D7%A7%D7%95%D7%9C%D7%A0%D7%95%D7%A2_%D7%A9%D7%94%D7%95%D7%A4%D7%A7%D7%95_%D7%A2%D7%9C_%D7%99%D7%93%D7%99_%D7%90%D7%95%D7%9C%D7%A4%D7%A0%D7%99_%D7%95%D7%95%D7%9C%D7%98_%D7%93%D7%99%D7%A1%D7%A0%D7%99\" hreflang=\"he\" lang=\"he\" title=\"סרטי קולנוע שהופקו על ידי אולפני וולט דיסני – Hebrew\">\n         עברית\n        </a>\n       </li>\n       <li class=\"interlanguage-link interwiki-arz badge-Q17506997 badge-featuredlist\" title=\"featured list badge\">\n        <a class=\"interlanguage-link-target\" href=\"https://arz.wikipedia.org/wiki/%D8%A7%D9%81%D9%84%D8%A7%D9%85_%D9%88%D8%A7%D9%84%D8%AA_%D8%AF%D9%8A%D8%B2%D9%86%D9%89\" hreflang=\"arz\" lang=\"arz\" title=\"افلام والت ديزنى – Egyptian Arabic\">\n         مصرى\n        </a>\n       </li>\n       <li class=\"interlanguage-link interwiki-ja\">\n        <a class=\"interlanguage-link-target\" href=\"https://ja.wikipedia.org/wiki/%E3%83%87%E3%82%A3%E3%82%BA%E3%83%8B%E3%83%BC%E4%BD%9C%E5%93%81%E3%81%AE%E4%B8%80%E8%A6%A7\" hreflang=\"ja\" lang=\"ja\" title=\"ディズニー作品の一覧 – Japanese\">\n         日本語\n        </a>\n       </li>\n       <li class=\"interlanguage-link interwiki-pt\">\n        <a class=\"interlanguage-link-target\" href=\"https://pt.wikipedia.org/wiki/Lista_de_filmes_da_Disney\" hreflang=\"pt\" lang=\"pt\" title=\"Lista de filmes da Disney – Portuguese\">\n         Português\n        </a>\n       </li>\n       <li class=\"interlanguage-link interwiki-ru\">\n        <a class=\"interlanguage-link-target\" href=\"https://ru.wikipedia.org/wiki/%D0%A1%D0%BF%D0%B8%D1%81%D0%BE%D0%BA_%D1%84%D0%B8%D0%BB%D1%8C%D0%BC%D0%BE%D0%B2_%D0%BF%D1%80%D0%BE%D0%B8%D0%B7%D0%B2%D0%BE%D0%B4%D1%81%D1%82%D0%B2%D0%B0_%D0%BA%D0%BE%D0%BC%D0%BF%D0%B0%D0%BD%D0%B8%D0%B8_%D0%A3%D0%BE%D0%BB%D1%82%D0%B0_%D0%94%D0%B8%D1%81%D0%BD%D0%B5%D1%8F\" hreflang=\"ru\" lang=\"ru\" title=\"Список фильмов производства компании Уолта Диснея – Russian\">\n         Русский\n        </a>\n       </li>\n       <li class=\"interlanguage-link interwiki-simple\">\n        <a class=\"interlanguage-link-target\" href=\"https://simple.wikipedia.org/wiki/List_of_Disney_movies\" hreflang=\"en-simple\" lang=\"en-simple\" title=\"List of Disney movies – Simple English\">\n         Simple English\n        </a>\n       </li>\n       <li class=\"interlanguage-link interwiki-sv\">\n        <a class=\"interlanguage-link-target\" href=\"https://sv.wikipedia.org/wiki/Lista_%C3%B6ver_Disneyfilmer#Spelfilmer\" hreflang=\"sv\" lang=\"sv\" title=\"Lista över Disneyfilmer – Swedish\">\n         Svenska\n        </a>\n       </li>\n       <li class=\"interlanguage-link interwiki-vi\">\n        <a class=\"interlanguage-link-target\" href=\"https://vi.wikipedia.org/wiki/Danh_s%C3%A1ch_phim_c%E1%BB%A7a_Walt_Disney_Pictures\" hreflang=\"vi\" lang=\"vi\" title=\"Danh sách phim của Walt Disney Pictures – Vietnamese\">\n         Tiếng Việt\n        </a>\n       </li>\n       <li class=\"interlanguage-link interwiki-zh\">\n        <a class=\"interlanguage-link-target\" href=\"https://zh.wikipedia.org/wiki/%E8%8F%AF%E7%89%B9%E8%BF%AA%E5%A3%AB%E5%B0%BC%E5%BD%B1%E6%A5%AD%E9%9B%BB%E5%BD%B1%E5%88%97%E8%A1%A8\" hreflang=\"zh\" lang=\"zh\" title=\"華特迪士尼影業電影列表 – Chinese\">\n         中文\n        </a>\n       </li>\n      </ul>\n      <div class=\"after-portlet after-portlet-lang\">\n       <span class=\"wb-langlinks-edit wb-langlinks-link\">\n        <a class=\"wbc-editpage\" href=\"https://www.wikidata.org/wiki/Special:EntityPage/Q835515#sitelinks-wikipedia\" title=\"Edit interlanguage links\">\n         Edit links\n        </a>\n       </span>\n      </div>\n     </div>\n    </nav>\n   </div>\n  </div>\n  <footer class=\"mw-footer\" id=\"footer\" role=\"contentinfo\">\n   <ul id=\"footer-info\">\n    <li id=\"footer-info-lastmod\">\n     This page was last edited on 20 June 2021, at 18:55\n     <span class=\"anonymous-show\">\n      (UTC)\n     </span>\n     .\n    </li>\n    <li id=\"footer-info-copyright\">\n     Text is available under the\n     <a href=\"//en.wikipedia.org/wiki/Wikipedia:Text_of_Creative_Commons_Attribution-ShareAlike_3.0_Unported_License\" rel=\"license\">\n      Creative Commons Attribution-ShareAlike License\n     </a>\n     <a href=\"//creativecommons.org/licenses/by-sa/3.0/\" rel=\"license\" style=\"display:none;\">\n     </a>\n     ;\nadditional terms may apply.  By using this site, you agree to the\n     <a href=\"//foundation.wikimedia.org/wiki/Terms_of_Use\">\n      Terms of Use\n     </a>\n     and\n     <a href=\"//foundation.wikimedia.org/wiki/Privacy_policy\">\n      Privacy Policy\n     </a>\n     . Wikipedia® is a registered trademark of the\n     <a href=\"//www.wikimediafoundation.org/\">\n      Wikimedia Foundation, Inc.\n     </a>\n     , a non-profit organization.\n    </li>\n   </ul>\n   <ul id=\"footer-places\">\n    <li id=\"footer-places-privacy\">\n     <a class=\"extiw\" href=\"https://foundation.wikimedia.org/wiki/Privacy_policy\" title=\"wmf:Privacy policy\">\n      Privacy policy\n     </a>\n    </li>\n    <li id=\"footer-places-about\">\n     <a href=\"/wiki/Wikipedia:About\" title=\"Wikipedia:About\">\n      About Wikipedia\n     </a>\n    </li>\n    <li id=\"footer-places-disclaimer\">\n     <a href=\"/wiki/Wikipedia:General_disclaimer\" title=\"Wikipedia:General disclaimer\">\n      Disclaimers\n     </a>\n    </li>\n    <li id=\"footer-places-contact\">\n     <a href=\"//en.wikipedia.org/wiki/Wikipedia:Contact_us\">\n      Contact Wikipedia\n     </a>\n    </li>\n    <li id=\"footer-places-mobileview\">\n     <a class=\"noprint stopMobileRedirectToggle\" href=\"//en.m.wikipedia.org/w/index.php?title=List_of_Walt_Disney_Pictures_films&amp;mobileaction=toggle_view_mobile\">\n      Mobile view\n     </a>\n    </li>\n    <li id=\"footer-places-developers\">\n     <a href=\"https://www.mediawiki.org/wiki/Special:MyLanguage/How_to_contribute\">\n      Developers\n     </a>\n    </li>\n    <li id=\"footer-places-statslink\">\n     <a href=\"https://stats.wikimedia.org/#/en.wikipedia.org\">\n      Statistics\n     </a>\n    </li>\n    <li id=\"footer-places-cookiestatement\">\n     <a href=\"https://foundation.wikimedia.org/wiki/Cookie_statement\">\n      Cookie statement\n     </a>\n    </li>\n   </ul>\n   <ul class=\"noprint\" id=\"footer-icons\">\n    <li id=\"footer-copyrightico\">\n     <a href=\"https://wikimediafoundation.org/\">\n      <img alt=\"Wikimedia Foundation\" height=\"31\" loading=\"lazy\" src=\"/static/images/footer/wikimedia-button.png\" srcset=\"/static/images/footer/wikimedia-button-1.5x.png 1.5x, /static/images/footer/wikimedia-button-2x.png 2x\" width=\"88\"/>\n     </a>\n    </li>\n    <li id=\"footer-poweredbyico\">\n     <a href=\"https://www.mediawiki.org/\">\n      <img alt=\"Powered by MediaWiki\" height=\"31\" loading=\"lazy\" src=\"/static/images/footer/poweredby_mediawiki_88x31.png\" srcset=\"/static/images/footer/poweredby_mediawiki_132x47.png 1.5x, /static/images/footer/poweredby_mediawiki_176x62.png 2x\" width=\"88\"/>\n     </a>\n    </li>\n   </ul>\n  </footer>\n  <script>\n   (RLQ=window.RLQ||[]).push(function(){mw.config.set({\"wgPageParseReport\":{\"limitreport\":{\"cputime\":\"1.042\",\"walltime\":\"1.288\",\"ppvisitednodes\":{\"value\":5561,\"limit\":1000000},\"postexpandincludesize\":{\"value\":107159,\"limit\":2097152},\"templateargumentsize\":{\"value\":3444,\"limit\":2097152},\"expansiondepth\":{\"value\":15,\"limit\":40},\"expensivefunctioncount\":{\"value\":9,\"limit\":500},\"unstrip-depth\":{\"value\":1,\"limit\":20},\"unstrip-size\":{\"value\":142479,\"limit\":5000000},\"entityaccesscount\":{\"value\":1,\"limit\":400},\"timingprofile\":[\"100.00%  822.397      1 -total\",\" 43.93%  361.307      2 Template:Reflist\",\" 18.63%  153.209     29 Template:Cite_web\",\" 16.75%  137.767      8 Template:Cite_news\",\"  8.30%   68.266      1 Template:Short_description\",\"  6.46%   53.143      1 Template:Portal\",\"  6.43%   52.869      1 Template:Pp\",\"  5.20%   42.761      1 Template:Pagetype\",\"  4.93%   40.551      1 Template:Walt_Disney_Studios_films\",\"  4.90%   40.303     22 Template:Dts\"]},\"scribunto\":{\"limitreport-timeusage\":{\"value\":\"0.390\",\"limit\":\"10.000\"},\"limitreport-memusage\":{\"value\":7769314,\"limit\":52428800}},\"cachereport\":{\"origin\":\"mw1393\",\"timestamp\":\"20210621200422\",\"ttl\":1814400,\"transientcontent\":false}}});});\n  </script>\n  <script type=\"application/ld+json\">\n   {\"@context\":\"https:\\/\\/schema.org\",\"@type\":\"Article\",\"name\":\"List of Walt Disney Pictures films\",\"url\":\"https:\\/\\/en.wikipedia.org\\/wiki\\/List_of_Walt_Disney_Pictures_films\",\"sameAs\":\"http:\\/\\/www.wikidata.org\\/entity\\/Q835515\",\"mainEntity\":\"http:\\/\\/www.wikidata.org\\/entity\\/Q835515\",\"author\":{\"@type\":\"Organization\",\"name\":\"Contributors to Wikimedia projects\"},\"publisher\":{\"@type\":\"Organization\",\"name\":\"Wikimedia Foundation, Inc.\",\"logo\":{\"@type\":\"ImageObject\",\"url\":\"https:\\/\\/www.wikimedia.org\\/static\\/images\\/wmf-hor-googpub.png\"}},\"datePublished\":\"2005-06-01T02:11:44Z\",\"dateModified\":\"2021-06-20T18:55:08Z\",\"headline\":\"Wikimedia list article\"}\n  </script>\n  <script>\n   (RLQ=window.RLQ||[]).push(function(){mw.config.set({\"wgBackendResponseTime\":197,\"wgHostname\":\"mw1369\"});});\n  </script>\n </body>\n</html>\n"
     ]
    }
   ],
   "source": [
    "r = requests.get(\"https://en.wikipedia.org/wiki/List_of_Walt_Disney_Pictures_films\")\n",
    "\n",
    "#convert to a beatiful soup object\n",
    "soup = bs(r.content)\n",
    "\n",
    "#print out the HTML\n",
    "contents= soup.prettify()\n",
    "print(contents)"
   ]
  },
  {
   "cell_type": "code",
   "execution_count": 6,
   "metadata": {},
   "outputs": [
    {
     "output_type": "execute_result",
     "data": {
      "text/plain": [
       "[<a href=\"/wiki/Academy_Award_Review_of_Walt_Disney_Cartoons\" title=\"Academy Award Review of Walt Disney Cartoons\">Academy Award Review of Walt Disney Cartoons</a>,\n",
       " <a href=\"/wiki/Snow_White_and_the_Seven_Dwarfs_(1937_film)\" title=\"Snow White and the Seven Dwarfs (1937 film)\">Snow White and the Seven Dwarfs</a>,\n",
       " <a href=\"/wiki/Pinocchio_(1940_film)\" title=\"Pinocchio (1940 film)\">Pinocchio</a>,\n",
       " <a href=\"/wiki/Fantasia_(1940_film)\" title=\"Fantasia (1940 film)\">Fantasia</a>,\n",
       " <a href=\"/wiki/The_Reluctant_Dragon_(1941_film)\" title=\"The Reluctant Dragon (1941 film)\">The Reluctant Dragon</a>,\n",
       " <a href=\"/wiki/Dumbo\" title=\"Dumbo\">Dumbo</a>,\n",
       " <a href=\"/wiki/Bambi\" title=\"Bambi\">Bambi</a>,\n",
       " <a href=\"/wiki/Saludos_Amigos\" title=\"Saludos Amigos\">Saludos Amigos</a>,\n",
       " <a href=\"/wiki/Victory_Through_Air_Power_(film)\" title=\"Victory Through Air Power (film)\">Victory Through Air Power</a>,\n",
       " <a href=\"/wiki/The_Three_Caballeros\" title=\"The Three Caballeros\">The Three Caballeros</a>]"
      ]
     },
     "metadata": {},
     "execution_count": 6
    }
   ],
   "source": [
    "movies = soup.select(\".wikitable.sortable i a\")\n",
    "movies[0:10]"
   ]
  },
  {
   "cell_type": "code",
   "execution_count": 7,
   "metadata": {},
   "outputs": [],
   "source": [
    "\n",
    "def get_content_value(row_data):\n",
    "    if row_data.find(\"li\"):\n",
    "        return [li.get_text(\" \", strip=True).replace(\"\\xa0\", \"\") for li in row_data.find_all(\"li\")]\n",
    "    elif row_data.find(\"br\"):\n",
    "        return [text for text in row_data.stripped_strings]\n",
    "    else:\n",
    "        return row_data.get_text(\" \", strip=True).replace(\"\\xa0\", \"\")\n",
    "\n",
    "def clean_tag(soup):\n",
    "    for tag in soup.find_all([\"sup\",\"span\"]):\n",
    "        tag.decompose()\n",
    "\n",
    "def get_info_box(url):\n",
    "\n",
    "    r = requests.get(url)\n",
    "\n",
    "    soup = bs(r.content)\n",
    "    info_box = soup.find(class_=\"infobox vevent\")\n",
    "    info_rows = info_box.find_all(\"tr\")\n",
    "\n",
    "    clean_tag(soup)\n",
    "\n",
    "\n",
    "    movie_info = {}    \n",
    "    for index, row in enumerate(info_rows):\n",
    "        if index == 0:\n",
    "            movie_info['title'] = row.find(\"th\").get_text(\" \", strip=True)\n",
    "        else:\n",
    "            header = row.find('th')\n",
    "            if header:\n",
    "                content_key = row.find(\"th\").get_text(\" \", strip=True)\n",
    "                content_value = get_content_value(row.find(\"td\"))\n",
    "                movie_info[content_key] = content_value        \n",
    "\n",
    "    return movie_info"
   ]
  },
  {
   "cell_type": "code",
   "execution_count": 8,
   "metadata": {},
   "outputs": [
    {
     "output_type": "execute_result",
     "data": {
      "text/plain": [
       "{'title': 'One Little Indian',\n",
       " 'Directed by': 'Bernard McEveety',\n",
       " 'Produced by': 'Winston Hibler',\n",
       " 'Written by': 'Harry Spalding',\n",
       " 'Starring': ['James Garner',\n",
       "  'Vera Miles',\n",
       "  'Pat Hingle',\n",
       "  'Morgan Woodward',\n",
       "  'Jodie Foster'],\n",
       " 'Music by': 'Jerry Goldsmith',\n",
       " 'Cinematography': 'Charles F. Wheeler',\n",
       " 'Edited by': 'Robert Stafford',\n",
       " 'Production company': 'Walt Disney Productions',\n",
       " 'Distributed by': 'Buena Vista Distribution',\n",
       " 'Release date': ['June20,1973'],\n",
       " 'Running time': '90 Minutes',\n",
       " 'Country': 'United States',\n",
       " 'Language': 'English',\n",
       " 'Box office': '$2 million'}"
      ]
     },
     "metadata": {},
     "execution_count": 8
    }
   ],
   "source": [
    "\n",
    "get_info_box(\"https://en.wikipedia.org/wiki/One_Little_Indian_(film)\")"
   ]
  },
  {
   "cell_type": "code",
   "execution_count": 9,
   "metadata": {},
   "outputs": [
    {
     "output_type": "stream",
     "name": "stdout",
     "text": [
      "0\n",
      "10\n",
      "20\n",
      "30\n",
      "40\n",
      "Zorro the Avenger\n",
      "'NoneType' object has no attribute 'find'\n",
      "The Sign of Zorro\n",
      "'NoneType' object has no attribute 'find'\n",
      "50\n",
      "60\n",
      "70\n",
      "80\n",
      "90\n",
      "The Moon Landing\n",
      "'NoneType' object has no attribute 'find_all'\n",
      "100\n",
      "110\n",
      "120\n",
      "True-Life Adventures\n",
      "'NoneType' object has no attribute 'find_all'\n",
      "130\n",
      "140\n",
      "The London Connection\n",
      "'NoneType' object has no attribute 'find'\n",
      "150\n",
      "160\n",
      "170\n",
      "180\n",
      "190\n",
      "200\n",
      "210\n",
      "220\n",
      "230\n",
      "240\n",
      "250\n",
      "260\n",
      "270\n",
      "280\n",
      "290\n",
      "300\n",
      "310\n",
      "320\n",
      "330\n",
      "340\n",
      "350\n",
      "360\n",
      "370\n",
      "380\n",
      "390\n",
      "400\n",
      "410\n",
      "420\n",
      "430\n",
      "440\n",
      "450\n",
      "Better Nate Than Never\n",
      "'NoneType' object has no attribute 'find_all'\n"
     ]
    }
   ],
   "source": [
    "r = requests.get(\"https://en.wikipedia.org/wiki/List_of_Walt_Disney_Pictures_films\")\n",
    "soup = bs(r.content)\n",
    "movies = soup.select(\".wikitable.sortable i a\")\n",
    "\n",
    "base_path = \"https://en.wikipedia.org/\"\n",
    "\n",
    "movie_info_list = []\n",
    "for index, movie in enumerate(movies):\n",
    "    if index % 10 == 0:\n",
    "        print(index)\n",
    "    try:\n",
    "        relative_path = movie['href']\n",
    "        full_path = base_path + relative_path\n",
    "        title = movie['title']\n",
    "        \n",
    "        movie_info_list.append(get_info_box(full_path))\n",
    "        \n",
    "    except Exception as e:\n",
    "        print(movie.get_text())\n",
    "        print(e)"
   ]
  },
  {
   "cell_type": "code",
   "execution_count": 10,
   "metadata": {},
   "outputs": [
    {
     "output_type": "execute_result",
     "data": {
      "text/plain": [
       "{'title': 'Academy Award Review of',\n",
       " 'Production company': 'Walt Disney Productions',\n",
       " 'Release date': ['May19,1937'],\n",
       " 'Running time': '41 minutes (74 minutes 1966 release)',\n",
       " 'Country': 'United States',\n",
       " 'Language': 'English',\n",
       " 'Box office': '$45.472'}"
      ]
     },
     "metadata": {},
     "execution_count": 10
    }
   ],
   "source": [
    "movie_info_list[0]"
   ]
  },
  {
   "cell_type": "code",
   "execution_count": 12,
   "metadata": {},
   "outputs": [
    {
     "output_type": "execute_result",
     "data": {
      "text/plain": [
       "447"
      ]
     },
     "metadata": {},
     "execution_count": 12
    }
   ],
   "source": [
    "len(movie_info_list)"
   ]
  },
  {
   "source": [
    "Save/Reload Movie Data"
   ],
   "cell_type": "markdown",
   "metadata": {}
  },
  {
   "cell_type": "code",
   "execution_count": 13,
   "metadata": {},
   "outputs": [],
   "source": [
    "import json\n",
    "\n",
    "def save_data(title, data):\n",
    "    with open(title, 'w', encoding='utf-8') as f:\n",
    "        json.dump(data, f, ensure_ascii=False, indent=2)"
   ]
  },
  {
   "cell_type": "code",
   "execution_count": 14,
   "metadata": {},
   "outputs": [],
   "source": [
    "import json\n",
    "\n",
    "def load_data(title):\n",
    "    with open(title, encoding=\"utf-8\") as f:\n",
    "        return json.load(f)"
   ]
  },
  {
   "cell_type": "code",
   "execution_count": 15,
   "metadata": {},
   "outputs": [],
   "source": [
    "save_data(\"disney_data_cleaned.json\", movie_info_list)"
   ]
  },
  {
   "source": [
    "Task #3: Clean our data!!"
   ],
   "cell_type": "markdown",
   "metadata": {}
  },
  {
   "cell_type": "code",
   "execution_count": 17,
   "metadata": {},
   "outputs": [],
   "source": [
    "movie_info_list = load_data(\"disney_data_cleaned.json\")\n"
   ]
  },
  {
   "source": [
    "##Subtasks\n",
    "- ~~Clean up references [1]~~\n",
    "- ~~Convert running time into an integer~~\n",
    "- ~~Convert dates into datetime object~~\n",
    "- ~~Split up the long strings~~\n",
    "- ~~Convert Budget & Box office to numbers~~"
   ],
   "cell_type": "markdown",
   "metadata": {}
  },
  {
   "cell_type": "code",
   "execution_count": 18,
   "metadata": {},
   "outputs": [
    {
     "output_type": "execute_result",
     "data": {
      "text/plain": [
       "{'title': 'Jungle Cruise',\n",
       " 'Directed by': 'Jaume Collet-Serra',\n",
       " 'Produced by': ['John Davis',\n",
       "  'John Fox',\n",
       "  'Beau Flynn',\n",
       "  'Dwayne Johnson',\n",
       "  'Dany Garcia',\n",
       "  'Hiram Garcia'],\n",
       " 'Screenplay by': ['Michael Green', 'Glenn Ficarra', 'John Requa'],\n",
       " 'Story by': ['John Norville',\n",
       "  'Josh Goldstein',\n",
       "  'Glenn Ficarra',\n",
       "  'John Requa'],\n",
       " 'Based on': ['Jungle Cruise', 'by', 'Walt Disney'],\n",
       " 'Starring': ['Dwayne Johnson',\n",
       "  'Emily Blunt',\n",
       "  'Édgar Ramírez',\n",
       "  'Jack Whitehall',\n",
       "  'Jesse Plemons',\n",
       "  'Paul Giamatti'],\n",
       " 'Music by': 'James Newton Howard',\n",
       " 'Cinematography': 'Flavio Labiano',\n",
       " 'Edited by': 'Joel Negron',\n",
       " 'Production companies': ['Walt Disney Pictures',\n",
       "  'Davis Entertainment',\n",
       "  'Seven Bucks Productions',\n",
       "  'Flynn Picture Company'],\n",
       " 'Distributed by': 'Walt Disney Studios Motion Pictures',\n",
       " 'Release date': ['July30,2021 (United States)'],\n",
       " 'Running time': '90 minutes',\n",
       " 'Country': 'United States',\n",
       " 'Language': 'English'}"
      ]
     },
     "metadata": {},
     "execution_count": 18
    }
   ],
   "source": [
    "movie_info_list[-10]"
   ]
  },
  {
   "cell_type": "code",
   "execution_count": 19,
   "metadata": {},
   "outputs": [
    {
     "output_type": "stream",
     "name": "stdout",
     "text": [
      "['41 minutes (74 minutes 1966 release)', '83 minutes', '88 minutes', '126 minutes', '74 minutes', '64 minutes', '70 minutes', '42 minutes', '70 min', '71 minutes', '75 minutes', '94 minutes', '73 minutes', '75 minutes', '82 minutes', '68 minutes', '74 minutes', '96 minutes', '75 minutes', '84 minutes', '77 minutes', '92 minutes', '69 minutes', '81 minutes', ['60 minutes (VHS version)', '71 minutes (original)'], '127 minutes', '92 minutes', '76 minutes', '75 minutes', '73 minutes', '85 minutes', '81 minutes', '70 minutes', '90 min.', '80 minutes', '75 minutes', '83 minutes', '83 minutes', '72 minutes', '97 minutes', '75 minutes', '104 minutes', '93 minutes', '105 minutes', '95 minutes', '97 minutes', '134 minutes', '69 minutes', '92 minutes', '126 minutes', '79 minutes', '97 minutes', '128 minutes', '74 minutes', '91 minutes', '105 minutes', '98 minutes', '130 minutes', '89 min.', '93 minutes', '67 minutes', '98 minutes', '100 minutes', '118 minutes', '103 Minutes', '110 minutes', '80 min.', '79 minutes', '91 minutes', '91 minutes', '97 minutes', '118 minutes', '139 minutes', '92 minutes', '131 mins.', '87 minutes', '116 minutes', '93 minutes', '110 min.', '110 min.', '131 minutes', '101 minutes', '108 minutes', '84 minutes', '78 minutes', '75 minutes', ['164 minutes', '(', 'Los Angeles', 'premiere)', '144 minutes', '(', 'New York City', 'premiere)', '118 minutes', '(General release)', '172 minutes', '(', \"Director's cut\", ')'], '106 minutes', '110 minutes', '99 minutes', '113 mins.', '108 minutes', '112 minutes', '93 minutes', '91 minutes', '93 minutes', '100 minutes', '100 minutes', '79 minutes', '96 minutes', '113 minutes', '89 minutes', ['118 minutes (1971 original version)', '139 minutes (1996 reconstruction version)'], '92 minutes', '88 minutes', '92 minutes', '87 minutes', '93 minutes', '93 minutes', '93 minutes', '90 Minutes', '83 minutes', '96 minutes', '88 minutes', '89 minutes', '91 minutes', '93 minutes', '92 minutes', '97 min.', '100 minutes', '100 minutes', '89 minutes', '91 minutes', '112 minutes', '115 minutes', '95 minutes', '91 min.', '95 minutes', '104 minutes', '74 minutes', '48 minutes', '77 minutes', '104 minutes', '128 minutes', '101 minutes', '94 minutes', '104 minutes', '90 minutes', '100 minutes', '88 minutes', '93 minutes', '98 minutes', '112 minutes', '84 minutes', '98 minutes', '97 minutes', '114 minutes', '96 minutes', '100 minutes', '109 minutes', '83 minutes', '90 minutes', '107 minutes', '96 minutes', '103 minutes', '91 min', '95 minutes', '105 minutes', '113 minutes', '80 minutes', '101 minutes', '89 minutes', '74 minutes', '90 minutes', '89 minutes', '110 minutes', '74 minutes', '93 minutes', '84 minutes', '83 minutes', '74 minutes', '77 minutes', '107 minutes', '93 minutes', '88 minutes', '108 minutes', '84 minutes', '121 minutes', '89 minutes', '104 minutes', '90 minutes', '86 minutes', '84 minutes', '108 minutes', '107 minutes', '96 minutes', '98 minutes', '105 minutes', '108 minutes', '94 minutes', '106 minutes', '102 minutes', '88 minutes', '102 minutes', '102 minutes', '97 minutes', '111 minutes', '100 minutes', '96 minutes', '98 minutes', '78 minutes', '81 minutes', '108 minutes', '89 minutes', '99 minutes', '89 minutes', '81 minutes', '92 minutes', '100 minutes', '89 minutes', '79 minutes', '91 minutes', '101 minutes', '104 minutes', '103 minutes', '86 minutes', '105 minutes', '93 minutes', '92 minutes', '98 minutes', '95 minutes', '93 minutes', '87 minutes', '93 minutes', '87 minutes', '128 minutes', '86 minutes', '95 minutes', '114 minutes', '93 minutes', '83 minutes', '83 minutes', '88 minutes', '78 minutes', '112 minutes', '92 minutes', '74 minutes', '78 minutes', '82 minutes', '104 minutes', '113 minutes', '100 minutes', '78 minutes', '83 minutes', '96 minutes', '115 minutes', '86 minutes', '92 minutes', '99 minutes', '73 minutes', '128 minutes', '85 minutes', '88 minutes', '125 minutes', '96 minutes', '104 minutes', '95 minutes', '72 minutes', '75 minutes', '61 minutes', '117 minutes', '94 minutes', '100 minutes', '143 minutes', '97 minutes', '85 minutes', '86 minutes', '50 minutes', '74 minutes', '136 minutes', '89 minutes', '76 minutes', '40 minutes', '120 minutes', '84 minutes', '113 minutes', '115 minutes', '131 minutes', '100 minutes', '68 minutes', '95 minutes', '97 minutes', '101 minutes', '119 minutes', '100 minutes', '76 minutes', '120 minutes', '81 minutes', '143 minutes', '118 minutes', '40 minutes', '120 minutes', '99 minutes', '82 minutes', '117 minutes', '150 minutes', '104 minutes', '76 minutes', '92 minutes', '95 minutes', '94 minutes', '167 minutes', '111 minutes', '82 minutes', '87 minutes', '110 minutes', '107 minutes', '124 minutes', '74 minutes', '83 minutes', '150 minutes', '97 minutes', '91 minutes', '100 minutes', '111 minutes', '96 minutes', '99 minutes', '85 minutes', ['76 minutes', '85 minutes'], '98 minutes', '97 minutes', ['99 minutes (UK)', '90 minutes (U.S.)'], '96 minutes', 'N/A', '90 minutes', '101 minutes', '107 minutes', '101 minutes', '96 minutes', '88 minutes', '97 minutes', '108 minutes', ['104 minutes (Original cut)', '84 minutes (Disney cut)'], '116 minutes', '103 minutes', '109 minutes', '115 minutes', '74 minutes', '123 minutes', '108 minutes', '100 minutes', '101 minutes', '125 minutes', 'N/A', '90 minutes', '88 minutes', '109 minutes', '89 minutes', '104 minutes', '137 minutes', '106 minutes', '69 minutes', '103 minutes', '95 minutes', '132 minutes', '77 minutes', '96 minutes', '93 minutes', '104 minutes', '87 minutes', '101 minutes', '130 minutes', '77 minutes', '104 minutes', '149 minutes', '92 minutes', '102 minutes', '125 minutes', '107 minutes', '77 minutes', '124 minutes', '97 minutes', '84minutes', '127 minutes', '81 minutes', '102 minutes', '124 minutes', '129 minutes', '106 minutes', '82 minutes', '130 minutes', '95 minutes', '154 minutes', '97 minutes', '117 minutes', '108 minutes', '106 minutes', '98 minutes', '114 minutes', '97 minutes', '117 minutes', '103 minutes', '124 minutes', '107 minutes', '161 minutes', '80 minutes', '129 minutes', '76 minutes', '129 minutes', '102 minutes', 'N/A', '162 minutes', '105 minutes', '109 minutes', '118 minutes', '104 minutes', '99 minutes', '112 minutes', '131 minutes', '112 minutes', '76 minutes', '128 minutes', '100 minutes', '118 minutes', '119 minutes', '104 minutes', '100 minutes', '103 minutes', '114 minutes', '99 minutes', '102 minutes', '107 minutes', '78 minutes', '89 minutes', '95 minutes', '160 minutes', '85 minutes', '100 minutes', '95 minutes', '115 minutes', '113 minutes', '119 minutes', '100 minutes', '95 minutes', '107 minutes', '134 minutes', '95 minutes', '90 minutes', 'N/A', 'N/A', 'N/A', '96 minutes', 'N/A', 'N/A', 'N/A', 'N/A', 'N/A']\n"
     ]
    }
   ],
   "source": [
    "print([movie.get('Running time', 'N/A') for movie in movie_info_list])\n"
   ]
  },
  {
   "cell_type": "code",
   "execution_count": 20,
   "metadata": {},
   "outputs": [
    {
     "output_type": "error",
     "ename": "ValueError",
     "evalue": "invalid literal for int() with base 10: '84minutes'",
     "traceback": [
      "\u001b[1;31m---------------------------------------------------------------------------\u001b[0m",
      "\u001b[1;31mValueError\u001b[0m                                Traceback (most recent call last)",
      "\u001b[1;32m<ipython-input-20-7f55c5259adb>\u001b[0m in \u001b[0;36m<module>\u001b[1;34m\u001b[0m\n\u001b[0;32m      8\u001b[0m         \u001b[1;32mreturn\u001b[0m \u001b[0mint\u001b[0m\u001b[1;33m(\u001b[0m\u001b[0mrunning_time\u001b[0m\u001b[1;33m.\u001b[0m\u001b[0msplit\u001b[0m\u001b[1;33m(\u001b[0m\u001b[1;34m\" \"\u001b[0m\u001b[1;33m)\u001b[0m\u001b[1;33m[\u001b[0m\u001b[1;36m0\u001b[0m\u001b[1;33m]\u001b[0m\u001b[1;33m)\u001b[0m\u001b[1;33m\u001b[0m\u001b[1;33m\u001b[0m\u001b[0m\n\u001b[0;32m      9\u001b[0m \u001b[1;32mfor\u001b[0m \u001b[0mmovie\u001b[0m \u001b[1;32min\u001b[0m \u001b[0mmovie_info_list\u001b[0m\u001b[1;33m:\u001b[0m\u001b[1;33m\u001b[0m\u001b[1;33m\u001b[0m\u001b[0m\n\u001b[1;32m---> 10\u001b[1;33m     \u001b[0mmovie\u001b[0m\u001b[1;33m[\u001b[0m\u001b[1;34m'Running time (int)'\u001b[0m\u001b[1;33m]\u001b[0m \u001b[1;33m=\u001b[0m \u001b[0mminutes_to_integer\u001b[0m\u001b[1;33m(\u001b[0m\u001b[0mmovie\u001b[0m\u001b[1;33m.\u001b[0m\u001b[0mget\u001b[0m\u001b[1;33m(\u001b[0m\u001b[1;34m'Running time'\u001b[0m\u001b[1;33m,\u001b[0m \u001b[1;34m\"N/A\"\u001b[0m\u001b[1;33m)\u001b[0m\u001b[1;33m)\u001b[0m\u001b[1;33m\u001b[0m\u001b[1;33m\u001b[0m\u001b[0m\n\u001b[0m",
      "\u001b[1;32m<ipython-input-20-7f55c5259adb>\u001b[0m in \u001b[0;36mminutes_to_integer\u001b[1;34m(running_time)\u001b[0m\n\u001b[0;32m      6\u001b[0m         \u001b[1;32mreturn\u001b[0m \u001b[0mint\u001b[0m\u001b[1;33m(\u001b[0m\u001b[0mrunning_time\u001b[0m\u001b[1;33m[\u001b[0m\u001b[1;36m0\u001b[0m\u001b[1;33m]\u001b[0m\u001b[1;33m.\u001b[0m\u001b[0msplit\u001b[0m\u001b[1;33m(\u001b[0m\u001b[1;34m\" \"\u001b[0m\u001b[1;33m)\u001b[0m\u001b[1;33m[\u001b[0m\u001b[1;36m0\u001b[0m\u001b[1;33m]\u001b[0m\u001b[1;33m)\u001b[0m\u001b[1;33m\u001b[0m\u001b[1;33m\u001b[0m\u001b[0m\n\u001b[0;32m      7\u001b[0m     \u001b[1;32melse\u001b[0m\u001b[1;33m:\u001b[0m\u001b[1;33m\u001b[0m\u001b[1;33m\u001b[0m\u001b[0m\n\u001b[1;32m----> 8\u001b[1;33m         \u001b[1;32mreturn\u001b[0m \u001b[0mint\u001b[0m\u001b[1;33m(\u001b[0m\u001b[0mrunning_time\u001b[0m\u001b[1;33m.\u001b[0m\u001b[0msplit\u001b[0m\u001b[1;33m(\u001b[0m\u001b[1;34m\" \"\u001b[0m\u001b[1;33m)\u001b[0m\u001b[1;33m[\u001b[0m\u001b[1;36m0\u001b[0m\u001b[1;33m]\u001b[0m\u001b[1;33m)\u001b[0m\u001b[1;33m\u001b[0m\u001b[1;33m\u001b[0m\u001b[0m\n\u001b[0m\u001b[0;32m      9\u001b[0m \u001b[1;32mfor\u001b[0m \u001b[0mmovie\u001b[0m \u001b[1;32min\u001b[0m \u001b[0mmovie_info_list\u001b[0m\u001b[1;33m:\u001b[0m\u001b[1;33m\u001b[0m\u001b[1;33m\u001b[0m\u001b[0m\n\u001b[0;32m     10\u001b[0m     \u001b[0mmovie\u001b[0m\u001b[1;33m[\u001b[0m\u001b[1;34m'Running time (int)'\u001b[0m\u001b[1;33m]\u001b[0m \u001b[1;33m=\u001b[0m \u001b[0mminutes_to_integer\u001b[0m\u001b[1;33m(\u001b[0m\u001b[0mmovie\u001b[0m\u001b[1;33m.\u001b[0m\u001b[0mget\u001b[0m\u001b[1;33m(\u001b[0m\u001b[1;34m'Running time'\u001b[0m\u001b[1;33m,\u001b[0m \u001b[1;34m\"N/A\"\u001b[0m\u001b[1;33m)\u001b[0m\u001b[1;33m)\u001b[0m\u001b[1;33m\u001b[0m\u001b[1;33m\u001b[0m\u001b[0m\n",
      "\u001b[1;31mValueError\u001b[0m: invalid literal for int() with base 10: '84minutes'"
     ]
    }
   ],
   "source": [
    "# \"70 minutes\"\n",
    "def minutes_to_integer(running_time):\n",
    "    if running_time == \"N/A\":\n",
    "       return None\n",
    "    if isinstance(running_time, list):\n",
    "        return int(running_time[0].split(\" \")[0])\n",
    "    else:\n",
    "        return int(running_time.split(\" \")[0])\n",
    "for movie in movie_info_list:\n",
    "    movie['Running time (int)'] = minutes_to_integer(movie.get('Running time', \"N/A\"))"
   ]
  },
  {
   "cell_type": "code",
   "execution_count": null,
   "metadata": {},
   "outputs": [],
   "source": [
    "print([movie.get('Budget', 'N/A') for movie in movie_info_list])"
   ]
  },
  {
   "cell_type": "code",
   "execution_count": 22,
   "metadata": {},
   "outputs": [],
   "source": [
    "import re\n",
    "\n",
    "amounts = r\"thousand|million|billion\"\n",
    "number = r\"\\d+(,\\d{3})*\\.*\\d*\"\n",
    "\n",
    "word_re = rf\"\\${number}(-|\\sto\\s|–)?({number})?\\s({amounts})\"\n",
    "value_re = rf\"\\${number}\"\n",
    "\n",
    "def word_to_value(word):\n",
    "    value_dict = {\"thousand\": 1000, \"million\": 1000000, \"billion\": 1000000000}\n",
    "    return value_dict[word]\n",
    "\n",
    "def parse_word_syntax(string):\n",
    "    value_string = re.search(number, string).group()\n",
    "    value = float(value_string.replace(\",\", \"\"))\n",
    "    word = re.search(amounts, string, flags=re.I).group().lower()\n",
    "    word_value = word_to_value(word)\n",
    "    return value*word_value\n",
    "\n",
    "def parse_value_syntax(string):\n",
    "    value_string = re.search(number, string).group()\n",
    "    value = float(value_string.replace(\",\", \"\"))\n",
    "    return value\n",
    "\n",
    "'''\n",
    "money_conversion(\"$12.2 million\") --> 12200000 ## Word syntax\n",
    "money_conversion(\"$790,000\") --> 790000        ## Value syntax\n",
    "'''\n",
    "def money_conversion(money):\n",
    "    if money == \"N/A\":\n",
    "        return None\n",
    "\n",
    "    if isinstance(money, list):\n",
    "        money = money[0]\n",
    "        \n",
    "    word_syntax = re.search(word_re, money, flags=re.I)\n",
    "    value_syntax = re.search(value_re, money)\n",
    "\n",
    "    if word_syntax:\n",
    "        return parse_word_syntax(word_syntax.group())\n",
    "\n",
    "    elif value_syntax:\n",
    "        return parse_value_syntax(value_syntax.group())\n",
    "\n",
    "    else:\n",
    "        return None"
   ]
  },
  {
   "cell_type": "code",
   "execution_count": 23,
   "metadata": {},
   "outputs": [],
   "source": [
    "for movie in movie_info_list:\n",
    "    movie['Budget (float)'] = money_conversion(movie.get('Budget', \"N/A\"))\n",
    "    movie['Box office (float)'] = money_conversion(movie.get('Box office', \"N/A\"))"
   ]
  },
  {
   "cell_type": "code",
   "execution_count": 24,
   "metadata": {},
   "outputs": [
    {
     "output_type": "execute_result",
     "data": {
      "text/plain": [
       "175000000.0"
      ]
     },
     "metadata": {},
     "execution_count": 24
    }
   ],
   "source": [
    "money_conversion(str(movie_info_list[-40][\"Budget\"]))"
   ]
  },
  {
   "cell_type": "code",
   "execution_count": 25,
   "metadata": {},
   "outputs": [
    {
     "output_type": "stream",
     "name": "stdout",
     "text": [
      "[['May19,1937'], ['December21,1937 ( Carthay Circle Theatre , Los Angeles , CA , premiere)'], ['February7,1940 ( Center Theatre )', 'February23,1940 (United States)'], ['November13,1940'], ['June27,1941'], ['October23,1941 (New York City)', 'October31,1941 (U.S.)'], ['August9,1942 (World Premiere-London)', 'August13,1942 (Premiere-New York City)', 'August21,1942 (U.S.)'], ['August24,1942 (World Premiere-Rio de Janeiro)', 'February6,1943 (U.S. Premiere-Boston)', 'February19,1943 (U.S.)'], ['July17,1943'], ['December21,1944 (Mexico City)', 'February3,1945 (US)'], ['April20,1946 (New York City premiere)', 'August15,1946 (U.S.)'], ['November12,1946 (Premiere: Atlanta, Georgia)', 'November20,1946', 'March30,1947 (Stanford Theatre, Palo Alto, California)'], ['September27,1947'], 'May27,1948', ['November 29, 1948 (Chicago, Illinois)', 'January 19, 1949 (Indianapolis, Indiana)'], ['October5,1949'], ['February15,1950 (Boston)', 'March4,1950 (United States)'], ['June22,1950 (World Premiere- London )', 'July29,1950 ( US )'], ['July26,1951 (London, premiere)', 'July28,1951 (New York City, premiere)'], ['March13,1952 (Premiere- London )', 'June26,1952 ( US )'], ['February5,1953 (United States)'], [\"July23,1953 ('US )\"], ['November10,1953'], ['26October1953 (Premiere- London )', '27February1954 ( US )'], ['August17,1954'], ['December23,1954'], 'May25,1955', ['June22,1955'], ['September14,1955'], 'December22,1955', 'June 8, 1956', 'July18,1956', ['September4,1956'], ['December20,1956'], 'June19,1957', 'August28,1957', ['December25,1957'], ['July8,1958'], ['August12,1958'], ['December25,1958'], ['January29,1959'], ['March19,1959'], ['June24,1959 (Dublin)', 'June26,1959 (Los Angeles)'], ['November10,1959'], 'January 21, 1960 ( Sarasota, FL )', ['February24,1960'], 'May19,1960', ['June1960 ( Berlin )', 'August10,1960 (US)'], ['November1,1960'], ['December21,1960'], ['January25,1961'], 'March 16, 1961', ['June21,1961'], ['July12,1961'], ['July17,1961'], ['October22,1961'], 'April5,1962', ['May17,1962'], ['June6,1962'], 'September 26, 1962', ['November7,1962 (Los Angeles)'], ['November14,1962 (London, premiere)', 'December19,1962 (US)'], ['January16,1963'], ['March29,1963 (U.S.)'], ['June1,1963'], ['July7,1963'], 'November20,1963', ['December25,1963'], ['March12,1964'], ['February11,1964 (Los Angeles)'], ['11December1963 ( New York City )', '4June1964 (U.S.)'], ['July8,1964'], ['August27,1964 (LA)', 'September24,1964 (NY)'], ['December18,1964'], ['January 28, 1965', '(', 'Atlanta, Georgia', 'Premiere)'], ['August18,1965 (Los Angeles)'], ['December2,1965'], ['February\\xa04,\\xa01966', '(premiere)', 'February\\xa016,\\xa01966'], ['June25,1966 (San Diego)', 'June29,1966 (U.S.)'], 'October 1, 1966', ['December1,1966'], ['February8,1967 (San Francisco)'], ['June15,1967 (uk)'], ['July12,1967'], ['October18,1967'], ['October19,1967'], ['June23,1967', 'November30,1967'], ['February8,1968'], ['March21,1968 ( Radio City Music Hall )'], ['June26,1968'], ['December20,1968'], ['December24,1968 (limited)', 'March13,1969 (wide)'], ['March21,1969'], 'June11,1969', ['December31,1969'], ['February11,1970'], 'July1,1970', ['December15,1970 (original release)', 'January20,1971'], ['December11,1970 (premiere)', 'December24,1970 (United States)'], 'March 17, 1971', 'June 22, 1971', ['June30,1971'], ['October7,1971 (United Kingdom)', 'December13,1971 (United States)'], ['March22,1972 (US)'], 'July12,1972', ['July5,1972'], ['October18,1972'], ['December22,1972'], 'February 1, 1973', ['March23,1973'], ['June20,1973'], ['November8,1973'], ['December14,1973'], ['June6,1974'], ['July31,1974'], ['August1,1974'], 'December 20, 1974 (with Winnie the Pooh and Tigger Too )', ['February6,1975'], ['March21,1975 (U.S.)'], ['July1,1975'], ['July9,1975'], ['October8,1975'], 'December 25, 1975', ['February11,1976 (Los Angeles)'], ['July1,1976'], ['July7,1976'], ['December16,1976'], ['December17,1976'], ['May 26, 1976', '(UK)', 'March 11, 1977', '(US)'], ['March11,1977'], ['June20,1977'], ['June22,1977'], ['June24,1977'], ['November3,1977'], 'December16,1977', ['March10,1978'], ['June30,1978 (New York)'], 'July5,1978', 'February9,1979', ['June27,1979'], ['July 19, 1979 (London)', 'August 3, 1979 (Los Angeles)'], ['December18,1979 (United Kingdom)', 'December21,1979 (United States)'], ['February8,1980'], ['April17,1980 (New York City)', 'October9,1981 (U.S.)'], ['June27,1980'], ['July9,1980 (Los Angeles)'], ['December6,1980 ( Los Angeles )', 'December12,1980 ( United States )'], 'February 11, 1981 (Los Angeles)', 'March20,1981', ['June26,1981'], ['July10,1981'], ['August7,1981'], 'February5,1982', ['July9,1982'], 'July30,1982', ['March11,1983'], ['April29,1983 (United States)'], ['October 7, 1983 (limited)', 'January 27, 1984 (release)'], ['June21,1985 (United States)'], ['July24,1985'], ['September27,1985'], ['November22,1985'], ['July2,1986'], ['August1,1986'], ['June5,1987'], ['24March1988 (Australia)'], ['November18,1988'], ['June23,1989'], 'August18,1989', ['November15,1989'], ['August3,1990'], ['November16,1990'], ['January18,1991'], ['3October1990'], ['May24,1991'], ['June21,1991'], ['September29,1991 ( NYFF )', 'November22,1991 (United States)'], ['April10,1992'], ['July17,1992'], ['October2,1992'], ['November25,1992'], ['December11,1992'], 'February3,1993', ['March12,1993'], ['April2,1993'], ['July16,1993'], ['October1,1993'], ['November12,1993'], ['January14,1994'], ['February11,1994'], ['April17,1994'], ['April14,1994'], ['June15,1994 (United States)'], ['July15,1994'], ['October28,1994'], ['November11,1994'], ['December25,1994'], ['February17,1995'], ['March3,1995'], ['March24,1995'], ['April7,1995'], ['June10,1995'], ['July28,1995'], ['August11,1995'], ['September28,1995'], ['January22,1995 ( Sundance Film Festival )', 'October20,1995 (U.S.)'], ['November19,1995 ( El Capitan Theatre )', 'November22,1995 (United States)'], ['December22,1995'], ['February16,1996'], ['March8,1996'], ['April12,1996 (United States)', 'August2,1996 (United Kingdom)'], ['June21,1996'], ['August30,1996'], ['October4,1996'], ['November27,1996 (United States)'], ['February14,1997'], ['March7,1997 (US)', 'August5,1997 (France)'], ['June13,1997 (limited release)', 'June27,1997 (wide release)'], ['July16,1997'], 'August 1, 1997', ['October10,1997'], ['November16,1997 ( Pennsylvania )', 'November26,1997 (United States)'], ['December25,1997'], ['March27,1998 (United States)'], ['June19,1998'], ['July29,1998 (United States)'], ['November13,1998'], ['November20,1998'], ['December25,1998'], ['February12,1999'], ['March26,1999'], ['May14,1999'], ['June12,1999 ( El Capitan Theatre )', 'June16,1999 (United States )'], ['July23,1999'], ['May1999 ( Cannes )', 'October15,1999 (United States)'], ['November13,1999 ( El Capitan Theatre )', 'November24,1999 (United States)'], ['December17,1999 ( Carnegie Hall )', 'January1,2000 ( IMAX )', 'June16,2000 (United States)'], ['February11,2000 (United States)'], ['May19,2000 (United States)'], ['July7,2000'], ['September29,2000'], ['November22,2000 (United States)'], ['December15,2000'], ['February10,2001 (premiere)', 'February16,2001 (United States)'], ['June3,2001 (Premiere)', 'June15,2001 (United States)'], ['July29,2001 ( El Capitan Theatre )', 'August3,2001 (United States)'], ['October5,2001'], ['October28,2001 ( El Capitan Theatre )', 'November2,2001 (United States)'], ['January18,2002'], ['February10,2002 ( New York City )', 'February15,2002 (United States)'], ['March29,2002'], ['June21,2002'], ['July21,2002', 'July26,2002'], ['July20,2001 (Japan)'], ['October11,2002 (U.S.)'], ['November1,2002 (United States)'], ['November27,2002'], ['February14,2003'], ['March16,2003 (premiere)', 'March21,2003 (United States)', 'July2,2003 ( Manila , Philippines )'], ['March31,2003 (premiere)', 'April11,2003 (limited)'], ['April18,2003 (United States)'], ['May2,2003 (United States)'], ['May30,2003'], ['June28,2003 ( Disneyland Resort )', 'July9,2003 (United States)'], ['August4,2003 ( Los Angeles )', 'August6,2003 (United States)'], ['November1,2003'], ['November26,2003'], ['December25,2003'], ['January16,2004'], ['February20,2004'], ['February17,2004 (United States)'], ['April2,2004'], ['April22,2004'], ['April6,2004'], ['July2,2004'], ['August11,2004'], ['October24,2004 ( El Capitan Theatre )', 'October27,2004 ( BFI London Film Festival )', 'November5,2004 (United States)'], ['November19,2004'], ['January28,2005'], ['February11,2005'], ['March4,2005'], ['March18,2005'], ['June22,2005'], ['5September2004 ( Venice )', '20November2004 (Japan)'], ['July29,2005'], ['March25,2005 (UK)', 'August19,2005 (US)'], ['September30,2005'], ['October30,2005 ( El Capitan Theatre )', 'November4,2005 (United States)'], ['December7,2005 ( Royal Film Performance )', 'December8,2005 (United Kingdom)', 'December9,2005 (United States)', 'February13,2009 ( Disney XD )'], 'January13,2006', ['January27,2006'], ['February17,2006 (United States)'], ['March10,2006'], ['April14,2006'], [\"May26,2006 ( Lowe's Motor Speedway )\", 'June9,2006 (United States)'], ['June24,2006 ( Disneyland Resort )', 'July7,2006 (United States)'], ['August25,2006'], ['October29,1993'], ['November3,2006'], ['February16,2007'], ['March23,2007 (US)', 'March30,2007 (UK)'], ['May19,2007 ( Disneyland Resort )', 'May25,2007 (United States)'], ['June22,2007 ( Kodak Theatre )', 'June29,2007 (United States)'], ['August3,2007'], ['August28,2007'], ['September23,2007 ( Hollywood )', 'September28,2007 (United States)'], ['October20,2007 ( London )', 'November21,2007 (United States)'], ['December21,2007'], 'February 1, 2008', ['March7,2008'], ['May7,2008 ( New York City )', 'May16,2008 (United States)', 'June26,2008 (United Kingdom)'], ['June23,2008 ( Los Angeles )', 'June27,2008 (United States)'], ['October3,2008 (United States)'], 'October17,2008', ['October17,2008 (London)', 'October24,2008 (United States)'], ['November21,2008'], ['December25,2008'], ['June29,2007'], ['February27,2009'], ['March11,2009 (Egypt)', 'March13,2009 (United States)'], ['April10,2009'], ['10October2007 (France)', '16November2007 (United Kingdom)', '12January2008 (Germany)', '22April2009 (United States)'], ['May29,2009'], 'N/A', ['July24,2009'], ['July19,2008'], ['2008'], ['2009'], ['November3,2009 ( London )', 'November6,2009 (United States)'], ['November25,2009'], ['November25,2009 (Los Angeles premiere)', 'December11,2009 (United States)'], ['February25,2010 ( Odeon Leicester Square )', 'March5,2010 (United States)'], ['October17,2009 ( Tokyo International Film Festival )', 'January24,2010 (France)'], ['May9,2010 (London premiere)', 'May28,2010 (United States)'], ['June12,2010 ( Taormina Film Fest )', 'June18,2010 (United States)'], ['July8,2010 (Fantasia Film Festival)', 'July14,2010'], ['July29,2006'], ['26October2008 ( France )', '29September2009 ( United Kingdom )'], ['September30,2010 ( Hollywood )', 'October8,2010 (United States)'], ['8October2010'], ['November14,2010 ( El Capitan Theatre )', 'November24,2010 (United States)'], ['April24,2009 (San Francisco International Film Festival)', 'May22,2009 (United States)'], ['November30,2010 (Tokyo)', 'December17,2010 (United States)'], ['14January2011 (India)'], ['17February2011'], ['March11,2011'], ['22April2011'], ['April22,2011 (United States)', 'February1,2012 (France)', 'April27,2012 (United Kingdom)'], ['April29,2011'], ['May7,2011 ( Disneyland Resort )', 'May20,2011 (United States)'], ['June18,2011 (Hollywood)', 'June24,2011 (United States)'], ['April6,2011 (Belgium)', 'July15,2011 (United States)'], ['November4,2011 (Savannah Film Festival)', 'November23,2011 (United States)'], ['17July2010'], ['February22,2012 ( LosAngeles )', 'March9,2012 (UnitedStates)'], ['April20,2012 (United States)', 'February20,2013 (France)', 'May3,2013 (United Kingdom)'], ['25May2012'], ['June10,2012 ( SIFF )', 'June22,2012 (United States)'], ['August15,2012'], ['September20,2012 (Fantastic Fest)', 'October5,2012 (United States)'], ['October29,2012 ( El Capitan Theatre )', 'November2,2012 (United States)'], ['February14,2013 ( El Capitan Theatre )', 'March8,2013 (United States)'], ['16March2011 (France)', '16April2013 (United States)'], ['June5,2013 ( BFI Southbank )', 'June21,2013 (United States)'], ['June22,2013 ( Hyperion Theatre )', 'July3,2013 (United States)'], ['August2,2013 ( EAA AirVenture Oshkosh )', 'August9,2013'], ['November19,2013 ( El Capitan Theatre )', 'November22,2013 (United States)'], ['October20,2013 ( BFI London Film Festival )', 'November29,2013 (United Kingdom)', 'December13,2013 (United States)', 'January9,2014 (Australia)'], ['March11,2014 ( El Capitan Theatre )', 'March21,2014 (United States)'], ['April18,2014 (United States)'], ['May6,2014 ( El Capitan Theatre )', 'May16,2014 (United States)'], ['May28,2014 ( El Capitan Theatre )', 'May30,2014 (United States)'], ['July15,2014 ( El Capitan Theatre )', 'July18,2014 (United States)'], ['19September2014'], ['October6,2014 ( El Capitan Theatre )', 'October10,2014 (United States)'], ['October23,2014 ( Tokyo International Film Festival )', 'November7,2014 (United States)', 'January30,2015 (United Kingdom)'], ['December8,2014 ( Ziegfeld Theatre )', 'December25,2014 (United States)'], ['February9,2015 ( Hollywood )', 'February20,2015 (United States)'], ['February13,2015 ( Berlin )', 'March13,2015 (United States)', 'March27,2015 (United Kingdom)'], ['April17,2015 (United States)'], ['May9,2015 ( Disneyland )', 'May22,2015 (United States)'], ['May18,2015 ( Cannes )', 'June19,2015 (United States)'], ['19June2015'], ['November10,2015 ( Paris )', 'November25,2015 (United States)'], ['January25,2016 ( TCL Chinese Theatre )', 'January29,2016 (United States)'], ['February13,2016 (Belgium)', 'March4,2016 (United States)'], ['April4,2016 ( El Capitan Theatre )', 'April15,2016 (United States)'], ['April23,2016 (Amsterdam)', 'May6,2016 (Spain)', 'May12,2016 (Italy)'], ['May10,2016 ( London )', 'May27,2016 (United States)'], ['June8,2016 ( El Capitan Theatre )', 'June17,2016 (United States)'], ['May14,2016 ( Cannes )', 'July1,2016 (United States)'], ['August8,2016 ( El Capitan Theatre )', 'August12,2016 (United States)'], ['September10,2016 ( TIFF )', 'September23,2016 (United States)'], ['November14,2016 ( AFI Fest )', 'November23,2016 (United States)'], ['21December2016 (United States)', '23December2016 (India)'], ['26January2005'], ['February23,2017 ( Spencer House )', 'March17,2017 (United States)'], ['August12,2016 (China)', 'April21,2017 (United States)', 'August23,2017 (France)'], ['May11,2017 ( Shanghai Disney Resort )', 'May26,2017 (United States)'], ['May23,2017 ( Kannapolis )', 'June16,2017 (United States)'], ['June30,2017 (United States)'], ['14July2017'], ['October20,2017 ( Morelia )', 'November22,2017 (United States)'], ['February26,2018 ( El Capitan Theatre )', 'March9,2018 (United States)'], ['June5,2018 ( Los Angeles )', 'June15,2018 (United States)'], ['July30,2018 ( Burbank )', 'August3,2018 (United States)'], ['October29,2018 ( Dolby Theatre )', 'November2,2018 (United States)'], ['November5,2018 ( El Capitan Theatre )', 'November21,2018 (United States)'], ['November29,2018 ( Dolby Theatre )', 'December19,2018 (United States)'], ['March11,2019 ( Los Angeles )', 'March21,2019 ( London )', 'March29,2019 (United States and United Kingdom)'], ['April17,2019 (United States)'], ['May8,2019 ( Grand Rex )', 'May24,2019 (United States)'], ['June11,2019 ( El Capitan Theatre )', 'June21,2019 (United States)'], ['July9,2019 ( Hollywood )', 'July19,2019 (United States)'], ['October18,2019'], ['November12,2019 (United States)'], ['November12,2019 (United States)'], ['November7,2019 ( Dolby Theatre )', 'November22,2019 (United States)'], ['December20,2019 (United States)'], ['January25,2020 ( Sundance )', 'February7,2020 ( Disney+ )'], ['February21,2020 ( Berlinale )', 'March6,2020 (United States)'], ['March13,2020 (United States)'], ['March28,2018 (France)', 'April3,2020 ( Disney+ )'], ['April3,2020'], ['June12,2020'], ['July3,2020'], ['July31,2020'], ['August14,2020'], ['August21,2020 (United States)'], ['March9,2020 ( Hollywood )', 'September4,2020 (United States)'], ['December4,2020 (United States)'], ['December11,2020 (United States)'], ['October11,2020 ( BFI Fest )', 'December25,2020 (United States)'], ['February19,2021'], ['March3,2021 (Indonesia)', 'March5,2021 (United States)'], ['May18,2021 ( El Capitan Theatre )', 'May28,2021 (United States)'], ['June13,2021 ( Aquarium of Genoa )', 'June18,2021 (United States)'], ['July30,2021 (United States)'], ['November24,2021'], '2022', ['2022'], ['July16,1993'], 'N/A', 'N/A', ['2022'], 'N/A', 'N/A']\n"
     ]
    }
   ],
   "source": [
    "# Convert Dates into datetimes\n",
    "print([movie.get('Release date', 'N/A') for movie in movie_info_list])"
   ]
  },
  {
   "cell_type": "code",
   "execution_count": 26,
   "metadata": {},
   "outputs": [
    {
     "output_type": "execute_result",
     "data": {
      "text/plain": [
       "{'title': 'Born in China',\n",
       " 'Traditional': '我們誕生在中國',\n",
       " 'Simplified': '我们诞生在中国',\n",
       " 'Directed by': 'Lu Chuan',\n",
       " 'Produced by': ['Roy Conli', 'Brian Leith', 'Phil Chapman'],\n",
       " 'Screenplay by': ['David Fowler', 'Brian Leith', 'Phil Chapman', 'Lu Chuan'],\n",
       " 'Narrated by': ['John Krasinski', 'Zhou Xun', 'Claire Keim'],\n",
       " 'Music by': 'Barnaby Taylor',\n",
       " 'Edited by': 'Matthew Meech',\n",
       " 'Production companies': ['Disneynature',\n",
       "  'Shanghai Media Group',\n",
       "  'Chuan Films',\n",
       "  'Brian Leith Productions'],\n",
       " 'Distributed by': ['Walt Disney Studios Motion Pictures',\n",
       "  'Shanghai Media Group',\n",
       "  '(China)'],\n",
       " 'Release date': ['August12,2016 (China)',\n",
       "  'April21,2017 (United States)',\n",
       "  'August23,2017 (France)'],\n",
       " 'Running time': '76 minutes',\n",
       " 'Countries': ['United States', 'China', 'France'],\n",
       " 'Languages': ['English', 'Mandarin', 'French'],\n",
       " 'Budget': '$5–10 million',\n",
       " 'Box office': '$25.1 million',\n",
       " 'Budget (float)': 5000000.0,\n",
       " 'Box office (float)': 25100000.0}"
      ]
     },
     "metadata": {},
     "execution_count": 26
    }
   ],
   "source": [
    "movie_info_list[-50]"
   ]
  },
  {
   "cell_type": "code",
   "execution_count": 27,
   "metadata": {},
   "outputs": [],
   "source": [
    "# June 28, 1950\n",
    "from datetime import datetime\n",
    "\n",
    "dates = [movie.get('Release date', 'N/A') for movie in movie_info_list]\n",
    "\n",
    "def clean_date(date):\n",
    "    return date.split(\"(\")[0].strip()\n",
    "\n",
    "def date_conversion(date):\n",
    "    if isinstance(date, list):\n",
    "        date = date[0]\n",
    "        \n",
    "    if date == \"N/A\":\n",
    "        return None\n",
    "        \n",
    "    date_str = clean_date(date)\n",
    "\n",
    "    fmts = [\"%B %d, %Y\", \"%d %B %Y\"]\n",
    "    for fmt in fmts:\n",
    "        try:\n",
    "            return datetime.strptime(date_str, fmt)\n",
    "        except:\n",
    "            pass\n",
    "    return None"
   ]
  },
  {
   "cell_type": "code",
   "execution_count": 28,
   "metadata": {},
   "outputs": [],
   "source": [
    "for movie in movie_info_list:\n",
    "    movie['Release date (datetime)'] = date_conversion(movie.get('Release date', 'N/A'))"
   ]
  },
  {
   "cell_type": "code",
   "execution_count": 29,
   "metadata": {},
   "outputs": [
    {
     "output_type": "execute_result",
     "data": {
      "text/plain": [
       "{'title': 'One Hundred and One Dalmatians',\n",
       " 'Directed by': ['Clyde Geronimi', 'Hamilton Luske', 'Wolfgang Reitherman'],\n",
       " 'Produced by': 'Walt Disney',\n",
       " 'Story by': 'Bill Peet',\n",
       " 'Based on': ['The Hundred and One Dalmatians', 'by', 'Dodie Smith'],\n",
       " 'Starring': ['Rod Taylor',\n",
       "  'Cate Bauer',\n",
       "  'Betty Lou Gerson',\n",
       "  'Ben Wright',\n",
       "  'Bill Lee (singing voice)',\n",
       "  'Lisa Davis',\n",
       "  'Martha Wentworth'],\n",
       " 'Music by': 'George Bruns',\n",
       " 'Edited by': ['Roy M. Brewer, Jr.', 'Donald Halliday'],\n",
       " 'Production company': 'Walt Disney Productions',\n",
       " 'Distributed by': 'Buena Vista Distribution',\n",
       " 'Release date': ['January25,1961'],\n",
       " 'Running time': '79 minutes',\n",
       " 'Country': 'United States',\n",
       " 'Language': 'English',\n",
       " 'Budget': '$3.6 million',\n",
       " 'Box office': '$303 million',\n",
       " 'Running time (int)': 79,\n",
       " 'Budget (float)': 3600000.0,\n",
       " 'Box office (float)': 303000000.0,\n",
       " 'Release date (datetime)': None}"
      ]
     },
     "metadata": {},
     "execution_count": 29
    }
   ],
   "source": [
    "movie_info_list[50]"
   ]
  },
  {
   "cell_type": "code",
   "execution_count": 30,
   "metadata": {},
   "outputs": [],
   "source": [
    "import pickle\n",
    "\n",
    "def save_data_pickle(name, data):\n",
    "    with open(name, 'wb') as f:\n",
    "        pickle.dump(data, f)"
   ]
  },
  {
   "cell_type": "code",
   "execution_count": 31,
   "metadata": {},
   "outputs": [],
   "source": [
    "\n",
    "import pickle\n",
    "\n",
    "def load_data_pickle(name):\n",
    "    with open(name, 'rb') as f:\n",
    "        return pickle.load(f)"
   ]
  },
  {
   "cell_type": "code",
   "execution_count": 32,
   "metadata": {},
   "outputs": [],
   "source": [
    "save_data_pickle(\"disney_movie_data_cleaned_more.pickle\", movie_info_list)"
   ]
  },
  {
   "cell_type": "code",
   "execution_count": 33,
   "metadata": {},
   "outputs": [],
   "source": [
    "a = load_data_pickle(\"disney_movie_data_cleaned_more.pickle\")"
   ]
  },
  {
   "cell_type": "code",
   "execution_count": 34,
   "metadata": {},
   "outputs": [
    {
     "output_type": "execute_result",
     "data": {
      "text/plain": [
       "True"
      ]
     },
     "metadata": {},
     "execution_count": 34
    }
   ],
   "source": [
    "a == movie_info_list"
   ]
  },
  {
   "source": [
    "Task #4: Save data as JSON & CSV"
   ],
   "cell_type": "markdown",
   "metadata": {}
  },
  {
   "cell_type": "code",
   "execution_count": 57,
   "metadata": {},
   "outputs": [
    {
     "output_type": "execute_result",
     "data": {
      "text/plain": [
       "{'title': 'One Hundred and One Dalmatians',\n",
       " 'Directed by': ['Clyde Geronimi', 'Hamilton Luske', 'Wolfgang Reitherman'],\n",
       " 'Produced by': 'Walt Disney',\n",
       " 'Story by': 'Bill Peet',\n",
       " 'Based on': ['The Hundred and One Dalmatians', 'by', 'Dodie Smith'],\n",
       " 'Starring': ['Rod Taylor',\n",
       "  'Cate Bauer',\n",
       "  'Betty Lou Gerson',\n",
       "  'Ben Wright',\n",
       "  'Bill Lee (singing voice)',\n",
       "  'Lisa Davis',\n",
       "  'Martha Wentworth'],\n",
       " 'Music by': 'George Bruns',\n",
       " 'Edited by': ['Roy M. Brewer, Jr.', 'Donald Halliday'],\n",
       " 'Production company': 'Walt Disney Productions',\n",
       " 'Distributed by': 'Buena Vista Distribution',\n",
       " 'Release date': ['January25,1961'],\n",
       " 'Running time': '79 minutes',\n",
       " 'Country': 'United States',\n",
       " 'Language': 'English',\n",
       " 'Budget': '$3.6 million',\n",
       " 'Box office': '$303 million',\n",
       " 'Running time (int)': 79,\n",
       " 'Budget (float)': 3600000.0,\n",
       " 'Box office (float)': 303000000.0,\n",
       " 'Release date (datetime)': None}"
      ]
     },
     "metadata": {},
     "execution_count": 57
    }
   ],
   "source": [
    "movie_info_list[50]"
   ]
  },
  {
   "cell_type": "code",
   "execution_count": 58,
   "metadata": {},
   "outputs": [],
   "source": [
    "movie_info_copy = [movie.copy() for movie in movie_info_list]"
   ]
  },
  {
   "cell_type": "code",
   "execution_count": 59,
   "metadata": {},
   "outputs": [],
   "source": [
    "for movie in movie_info_copy:\n",
    "    current_date = movie['Release date (datetime)']\n",
    "    if current_date:\n",
    "        movie['Release date (datetime)'] = current_date.strftime(\"%B %d, %Y\")\n",
    "    else:\n",
    "        movie['Release date (datetime)'] = None"
   ]
  },
  {
   "cell_type": "code",
   "execution_count": 61,
   "metadata": {},
   "outputs": [],
   "source": [
    "save_data(\"disney_data_final.json\", movie_info_copy)"
   ]
  },
  {
   "cell_type": "code",
   "execution_count": null,
   "metadata": {},
   "outputs": [],
   "source": []
  }
 ]
}